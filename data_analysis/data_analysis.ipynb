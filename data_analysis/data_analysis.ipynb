{
 "cells": [
  {
   "cell_type": "code",
   "execution_count": 1,
   "id": "b2d8d169-f510-4ef6-a66b-5028b463d692",
   "metadata": {},
   "outputs": [
    {
     "name": "stdout",
     "output_type": "stream",
     "text": [
      "['Afghanistan', 'Africa', 'Algeria', 'Argentina', 'Armenia', 'Australia', 'Austria', 'Azerbaijan', 'Bahrain', 'Bangladesh', 'Belarus', 'Belgium', 'Bosnia and Herzegovina', 'Bulgaria', 'Burkina Faso', 'Cameroon', 'Chile', 'China', 'Colombia', 'Congo', 'Croatia', 'Czech Republic', 'France', 'Gambia', 'Georgia', 'Germany', 'Ghana', 'Guinea', 'Hungary', 'India', 'Indonesia', 'Iran', 'Iraq', 'Italy', 'Ivory Coast', 'Kazakhstan', 'Kenya', 'Kuwait', 'Kyrgyzstan', 'Lebanon', 'Madagascar', 'Malawi', 'Malaysia', 'Mali', 'Myanmar', 'Netherlands', 'Niger', 'Nigeria', 'North Macedonia', 'Oman', 'Pakistan', 'Palestine', 'Philippines', 'Poland', 'Portugal', 'Romania', 'Russia', 'Rwanda', 'Saudi Arabia', 'Senegal', 'Serbia', 'Slovakia', 'Spain', 'Sri Lanka', 'Sudan', 'Switzerland', 'Syria', 'Tajikistan', 'Tanzania', 'Thailand', 'Tunisia', 'Turkey', 'Uganda', 'Ukraine', 'United Kingdom', 'United States of America', 'Uzbekistan', 'Yemen', nan]\n"
     ]
    }
   ],
   "source": [
    "import pandas as pd\n",
    "import matplotlib.pyplot as plt\n",
    "file_path = '../data/data.csv'  \n",
    "df = pd.read_csv(file_path)\n",
    "\n",
    "significant_column = 'Nationality' \n",
    "\n",
    "Nationalities = df[significant_column].unique().tolist()\n",
    "count = len(Nationalities)\n",
    "\n",
    "print(Nationalities)\n",
    "# print(count)"
   ]
  },
  {
   "cell_type": "code",
   "execution_count": 2,
   "id": "86237a83-3d24-4756-a0c6-2678d3f4dd9e",
   "metadata": {},
   "outputs": [
    {
     "name": "stdout",
     "output_type": "stream",
     "text": [
      "['Punctuation', 'Main signs', 'Form', 'Diacritic signs', nan]\n"
     ]
    }
   ],
   "source": [
    "significant_column = 'main_category' \n",
    "mani_categories =  df[significant_column].unique().tolist()\n",
    "print(mani_categories)"
   ]
  },
  {
   "cell_type": "code",
   "execution_count": 3,
   "id": "8c4600e6-c20c-4557-848a-02292e1a290e",
   "metadata": {},
   "outputs": [
    {
     "name": "stdout",
     "output_type": "stream",
     "text": [
      "[nan, 'Consonants', 'Boundary', 'Vowels', 'Madd', 'Tashdid', 'Alif Lam', 'Dot', 'Place', 'Tanwin']\n"
     ]
    }
   ],
   "source": [
    "significant_column = 'sub_category_1' \n",
    "sub_category_1 =  df[significant_column].unique().tolist()\n",
    "print(sub_category_1)"
   ]
  },
  {
   "cell_type": "code",
   "execution_count": 6,
   "id": "3503cd25-9012-4351-a714-bf4a5c0ed51c",
   "metadata": {},
   "outputs": [],
   "source": [
    "# significant_column = 'sub_category_2' \n",
    "# sub_category_2 =  df[significant_column].unique().tolist()\n",
    "# print(sub_category_2)"
   ]
  },
  {
   "cell_type": "code",
   "execution_count": 10,
   "id": "07f48c54-9faa-4b7b-bc1f-5cfb85882d3d",
   "metadata": {},
   "outputs": [],
   "source": [
    "\n",
    "columns_to_check = ['process', 'main_category']\n",
    "\n",
    "# Check if all required columns are present in the DataFrame\n",
    "for column in columns_to_check:\n",
    "    if column not in df.columns:\n",
    "        raise KeyError(f\"ستون '{column}' در DataFrame وجود ندارد\")\n",
    "\n",
    "# Select only the columns to check\n",
    "df_selected_columns = df[columns_to_check]\n",
    "\n",
    "# Find the unique combinations of the specified columns\n",
    "unique_combinations_df = df_selected_columns.drop_duplicates()\n",
    "\n",
    "# Print the DataFrame with unique combinations\n",
    "# print(unique_combinations_df)\n",
    "\n",
    "\n",
    "# display(unique_combinations_df.loc[(unique_combinations_df['main_category']=='Punctuation') & (unique_combinations_df['sub_category_1']== 'Consonants')  ,\n",
    "#                     ['main_category','sub_category_1']])"
   ]
  },
  {
   "cell_type": "code",
   "execution_count": 9,
   "id": "94e3f872-1346-430b-895d-4b1425ce070a",
   "metadata": {},
   "outputs": [],
   "source": [
    "columns_to_check = ['process', 'main_category', 'sub_category_1', 'Nationality']\n",
    "for column in columns_to_check:\n",
    "    if column not in df.columns:\n",
    "        raise KeyError(f\"ستون '{column}' در DataFrame وجود ندارد\")\n",
    "\n",
    "\n",
    "grouped_df = df.groupby(['Nationality', 'process', 'main_category']).size().reset_index(name='count')\n",
    "\n",
    "nationalities = grouped_df['Nationality'].unique()\n",
    "\n",
    "# رسم نمودارها برای هر nationality\n",
    "# for nationality in nationalities:\n",
    "#     nationality_df = grouped_df[grouped_df['Nationality'] == nationality]\n",
    "#     plt.figure(figsize=(10, 6))\n",
    "#     plt.bar(nationality_df.apply(lambda x: f\"{x['process']}, {x['main_category']}, {x['sub_category_1']}\", axis=1), nationality_df['count'])\n",
    "#     plt.xticks(rotation=90)\n",
    "#     plt.xlabel('ERROR TYPE')\n",
    "#     plt.ylabel('NUMBER OF ERRORS')\n",
    "#     plt.title(f'number of errors of {nationality}')\n",
    "#     plt.tight_layout()\n",
    "#     file_name = f'{nationality}_error_chart.png'\n",
    "#     plt.savefig(file_name, dpi=300)  # dpi specifies the resolution (dots per inch), adjust as needed\n",
    "#     plt.show()  # show() is optional if you want to display the plot in the notebook\n"
   ]
  },
  {
   "cell_type": "code",
   "execution_count": 11,
   "id": "18cc3e5f-661b-46e7-b28c-86bac73040bd",
   "metadata": {},
   "outputs": [],
   "source": [
    "# grouped_df['sub_category_1'] = grouped_df['sub_category_1'].fillna('NaN')\n",
    "\n",
    "# Create the pivot table, including all possible combinations\n",
    "error_type_df = grouped_df.pivot_table(\n",
    "    index='Nationality',\n",
    "    columns=['process', 'main_category' ],\n",
    "    values='count',\n",
    "    fill_value=0\n",
    ")\n",
    "\n",
    "# Add 'Total Errors' column\n",
    "error_type_df['Total Errors'] = error_type_df.sum(axis=1)\n",
    "\n",
    "# Reset index to make 'Nationality' a column again\n",
    "error_type_df = error_type_df.reset_index()\n",
    "\n",
    "# Save DataFrame to CSV file in UTF-8 format\n",
    "error_type_df.to_csv('A.csv', encoding='utf-8', index=False)"
   ]
  }
 ],
 "metadata": {
  "kernelspec": {
   "display_name": "Python 3 (ipykernel)",
   "language": "python",
   "name": "python3"
  },
  "language_info": {
   "codemirror_mode": {
    "name": "ipython",
    "version": 3
   },
   "file_extension": ".py",
   "mimetype": "text/x-python",
   "name": "python",
   "nbconvert_exporter": "python",
   "pygments_lexer": "ipython3",
   "version": "3.11.1"
  }
 },
 "nbformat": 4,
 "nbformat_minor": 5
}
