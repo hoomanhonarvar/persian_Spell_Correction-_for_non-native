{
 "cells": [
  {
   "cell_type": "code",
   "execution_count": 21,
   "id": "b2d8d169-f510-4ef6-a66b-5028b463d692",
   "metadata": {},
   "outputs": [
    {
     "name": "stdout",
     "output_type": "stream",
     "text": [
      "['افغانستان', 'آفریقا', 'الجزایر', 'آرژانتین', 'ارمنستان', 'استرالیا', 'اتریش', 'آذربایجان', 'بحرین', 'بنگلادش', 'بلاروس', 'بلژیک', 'بوسنی و هرزگوین', 'بلغارستان', 'بورکینافاسو', 'کامرون', 'شیلی', 'چین', 'کلمبیا', 'کنگو', 'کرواسی', 'جمهوری چک', 'فرانسه', 'گامبیا', 'گرجستان', 'آلمان', 'غنا', 'گینه', 'مجارستان', 'هند', 'اندونزی', 'ایران', 'عراق', 'ایتالیا', 'ساحل عاج', 'قزاقستان', 'کنیا', 'کویت', 'قرقیزستان', 'لبنان', 'ماداگاسکار', 'مالاوی', 'مالزی', 'مالی', 'میانمار', 'هلند', 'نیجر', 'نیجریه', 'مقدونیه', 'عمان', 'پاکستان', 'فلسطین', 'فیلیپین', 'لهستان', 'پرتغال', 'رومانی', 'روسیه', 'رواندا', 'عربستان', 'سنگال', 'صربستان', 'اسلواکی', 'اسپانیا', 'سری\\u200cلانکا', 'سودان', 'سوئیس', 'سوریه', 'تاجیکستان', 'تایلند', 'تونس', 'ترکیه', 'اوگاندا', 'اوکراین', 'انگلستان', 'آمریکا', 'ازبکستان', 'یمن', nan]\n"
     ]
    }
   ],
   "source": [
    "import pandas as pd\n",
    "import matplotlib.pyplot as plt\n",
    "file_path = '../data/data.csv'  \n",
    "df = pd.read_csv(file_path)\n",
    "\n",
    "significant_column = 'Nationality' \n",
    "\n",
    "Nationalities = df[significant_column].unique().tolist()\n",
    "count = len(Nationalities)\n",
    "\n",
    "print(Nationalities)\n",
    "# print(count)"
   ]
  },
  {
   "cell_type": "code",
   "execution_count": 22,
   "id": "86237a83-3d24-4756-a0c6-2678d3f4dd9e",
   "metadata": {},
   "outputs": [
    {
     "name": "stdout",
     "output_type": "stream",
     "text": [
      "['Punctuation', 'Main signs', 'Form', 'Diacritic signs']\n"
     ]
    }
   ],
   "source": [
    "significant_column = 'main_category' \n",
    "mani_categories =  df[significant_column].unique().tolist()\n",
    "print(mani_categories)"
   ]
  },
  {
   "cell_type": "code",
   "execution_count": 23,
   "id": "8c4600e6-c20c-4557-848a-02292e1a290e",
   "metadata": {},
   "outputs": [],
   "source": [
    "# significant_column = 'sub_category_1' \n",
    "# sub_category_1 =  df[significant_column].unique().tolist()\n",
    "# print(sub_category_1)"
   ]
  },
  {
   "cell_type": "code",
   "execution_count": 24,
   "id": "3503cd25-9012-4351-a714-bf4a5c0ed51c",
   "metadata": {},
   "outputs": [],
   "source": [
    "# significant_column = 'sub_category_2' \n",
    "# sub_category_2 =  df[significant_column].unique().tolist()\n",
    "# print(sub_category_2)"
   ]
  },
  {
   "cell_type": "code",
   "execution_count": 25,
   "id": "07f48c54-9faa-4b7b-bc1f-5cfb85882d3d",
   "metadata": {},
   "outputs": [],
   "source": [
    "\n",
    "columns_to_check = ['main_category']\n",
    "\n",
    "# Check if all required columns are present in the DataFrame\n",
    "for column in columns_to_check:\n",
    "    if column not in df.columns:\n",
    "        raise KeyError(f\"ستون '{column}' در DataFrame وجود ندارد\")\n",
    "\n",
    "# Select only the columns to check\n",
    "df_selected_columns = df[columns_to_check]\n",
    "\n",
    "# Find the unique combinations of the specified columns\n",
    "unique_combinations_df = df_selected_columns.drop_duplicates()\n",
    "\n",
    "# Print the DataFrame with unique combinations\n",
    "# print(unique_combinations_df)\n",
    "\n",
    "\n",
    "# display(unique_combinations_df.loc[(unique_combinations_df['main_category']=='Punctuation') & (unique_combinations_df['sub_category_1']== 'Consonants')  ,\n",
    "#                     ['main_category','sub_category_1']])"
   ]
  },
  {
   "cell_type": "code",
   "execution_count": 26,
   "id": "94e3f872-1346-430b-895d-4b1425ce070a",
   "metadata": {},
   "outputs": [],
   "source": [
    "columns_to_check = ['main_category', 'Nationality']\n",
    "for column in columns_to_check:\n",
    "    if column not in df.columns:\n",
    "        raise KeyError(f\"ستون '{column}' در DataFrame وجود ندارد\")\n",
    "\n",
    "\n",
    "grouped_df = df.groupby(['Nationality', 'main_category']).size().reset_index(name='count')\n",
    "\n",
    "nationalities = grouped_df['Nationality'].unique()\n",
    "\n",
    "# رسم نمودارها برای هر nationality\n",
    "# for nationality in nationalities:\n",
    "#     nationality_df = grouped_df[grouped_df['Nationality'] == nationality]\n",
    "#     plt.figure(figsize=(10, 6))\n",
    "#     plt.bar(nationality_df.apply(lambda x: f\"{x['process']}, {x['main_category']}, {x['sub_category_1']}\", axis=1), nationality_df['count'])\n",
    "#     plt.xticks(rotation=90)\n",
    "#     plt.xlabel('ERROR TYPE')\n",
    "#     plt.ylabel('NUMBER OF ERRORS')\n",
    "#     plt.title(f'number of errors of {nationality}')\n",
    "#     plt.tight_layout()\n",
    "#     file_name = f'{nationality}_error_chart.png'\n",
    "#     plt.savefig(file_name, dpi=300)  # dpi specifies the resolution (dots per inch), adjust as needed\n",
    "#     plt.show()  # show() is optional if you want to display the plot in the notebook\n"
   ]
  },
  {
   "cell_type": "code",
   "execution_count": 27,
   "id": "18cc3e5f-661b-46e7-b28c-86bac73040bd",
   "metadata": {},
   "outputs": [],
   "source": [
    "# grouped_df['sub_category_1'] = grouped_df['sub_category_1'].fillna('NaN')\n",
    "\n",
    "# Create the pivot table, including all possible combinations\n",
    "error_type_df = grouped_df.pivot_table(\n",
    "    index='Nationality',\n",
    "    columns=['main_category'],\n",
    "    values='count',\n",
    "    fill_value=0\n",
    ")\n",
    "\n",
    "# Add 'Total Errors' column\n",
    "error_type_df['Total Errors'] = error_type_df.sum(axis=1)\n",
    "\n",
    "# Reset index to make 'Nationality' a column again\n",
    "error_type_df = error_type_df.reset_index()\n",
    "\n",
    "# Save DataFrame to CSV file in UTF-8 format\n",
    "error_type_df.to_csv('B.csv', encoding='utf-8-sig', index=False)"
   ]
  },
  {
   "cell_type": "code",
   "execution_count": null,
   "id": "dca66b46-0bcb-47f0-ab8c-17a11c4200e1",
   "metadata": {},
   "outputs": [],
   "source": []
  }
 ],
 "metadata": {
  "kernelspec": {
   "display_name": "Python 3 (ipykernel)",
   "language": "python",
   "name": "python3"
  },
  "language_info": {
   "codemirror_mode": {
    "name": "ipython",
    "version": 3
   },
   "file_extension": ".py",
   "mimetype": "text/x-python",
   "name": "python",
   "nbconvert_exporter": "python",
   "pygments_lexer": "ipython3",
   "version": "3.11.1"
  }
 },
 "nbformat": 4,
 "nbformat_minor": 5
}
