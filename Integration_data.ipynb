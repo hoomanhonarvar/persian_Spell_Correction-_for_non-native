{
 "cells": [
  {
   "cell_type": "code",
   "execution_count": 13,
   "id": "e0b0fb8e-3a22-4b8f-84f0-88f8754648ac",
   "metadata": {},
   "outputs": [],
   "source": [
    "import os\n",
    "import zipfile"
   ]
  },
  {
   "cell_type": "code",
   "execution_count": 14,
   "id": "46fc4e8e-5e2e-4051-8756-1c0f6c9e048c",
   "metadata": {},
   "outputs": [],
   "source": [
    "def list_all_folders(directory):\n",
    "    folders = []\n",
    "    for item in os.listdir(directory):\n",
    "        if os.path.isdir(os.path.join(directory, item)):\n",
    "            folders.append(item)\n",
    "    return folders"
   ]
  },
  {
   "cell_type": "code",
   "execution_count": 17,
   "id": "47735b16-1cea-4b36-8e2f-c98d9783e7c7",
   "metadata": {},
   "outputs": [],
   "source": [
    "directory = './annotation'\n",
    "annotation_folders = list_all_folders(directory)\n",
    "for folder in annotation_folders:\n",
    "\n",
    "# Get the list of all files and directories\n",
    "    all_items = os.listdir(('./annotation/'+folder))\n",
    "    if len(all_items)>1:\n",
    "        for zip_file in all_items:\n",
    "            if zip_file!=\"INITIAL_CAS.zip\":\n",
    "                zip_file_path=os.path.join('./annotation',folder,zip_file)\n",
    "                extract_dir = os.path.join('./all_data',folder)\n",
    "                with zipfile.ZipFile(zip_file_path, 'r') as zip_ref:\n",
    "                    # Extract all the files to the specified directory\n",
    "                    zip_ref.extractall(extract_dir)\n",
    "    files = [f for f in all_items if os.path.isfile(os.path.join(directory, f))]"
   ]
  },
  {
   "cell_type": "code",
   "execution_count": null,
   "id": "5a77bd12-4b07-489b-adfa-8fe8f804c870",
   "metadata": {},
   "outputs": [],
   "source": []
  }
 ],
 "metadata": {
  "kernelspec": {
   "display_name": "Python 3 (ipykernel)",
   "language": "python",
   "name": "python3"
  },
  "language_info": {
   "codemirror_mode": {
    "name": "ipython",
    "version": 3
   },
   "file_extension": ".py",
   "mimetype": "text/x-python",
   "name": "python",
   "nbconvert_exporter": "python",
   "pygments_lexer": "ipython3",
   "version": "3.10.13"
  }
 },
 "nbformat": 4,
 "nbformat_minor": 5
}
