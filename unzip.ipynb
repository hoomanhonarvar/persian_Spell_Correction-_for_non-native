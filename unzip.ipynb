{
 "cells": [
  {
   "cell_type": "code",
   "execution_count": 1,
   "id": "f8441607-100a-4526-86c5-1b96aaabd6ce",
   "metadata": {},
   "outputs": [],
   "source": [
    "import zipfile\n",
    "import os"
   ]
  },
  {
   "cell_type": "code",
   "execution_count": 2,
   "id": "00cc032f-4129-495d-b87f-7c4fa6def7bc",
   "metadata": {},
   "outputs": [],
   "source": [
    "def list_all_folders(directory):\n",
    "    folders = []\n",
    "    for item in os.listdir(directory):\n",
    "        if os.path.isdir(os.path.join(directory, item)):\n",
    "            folders.append(item)\n",
    "    return folders"
   ]
  },
  {
   "cell_type": "code",
   "execution_count": 3,
   "id": "3de0a401-771d-44e5-8a5a-8198b9c63b0c",
   "metadata": {},
   "outputs": [],
   "source": [
    "directory = './annotation'\n",
    "annotation_folders = list_all_folders(directory)\n",
    "curation_folders=list_all_folders('./curation')"
   ]
  },
  {
   "cell_type": "code",
   "execution_count": 4,
   "id": "bb997685-42c6-4320-95db-0b693f1a18b5",
   "metadata": {},
   "outputs": [],
   "source": [
    "for folder in annotation_folders:\n",
    "    zip_file_path = os.path.join('./annotation',folder,'INITIAL_CAS.zip')\n",
    "    extract_dir = os.path.join('./annotation',folder,'INITIAL_CAS')\n",
    "    with zipfile.ZipFile(zip_file_path, 'r') as zip_ref:\n",
    "    # Extract all the files to the specified directory\n",
    "        zip_ref.extractall(extract_dir)"
   ]
  },
  {
   "cell_type": "code",
   "execution_count": 5,
   "id": "85c63785-9465-454a-a259-440f18a82af8",
   "metadata": {},
   "outputs": [],
   "source": [
    "for folder in curation_folders:\n",
    "    zip_file_path = os.path.join('./curation',folder,'CURATION_USER.zip')\n",
    "    extract_dir = os.path.join('./curation',folder,'CURATION_USER')\n",
    "    with zipfile.ZipFile(zip_file_path, 'r') as zip_ref:\n",
    "    # Extract all the files to the specified directory\n",
    "        zip_ref.extractall(extract_dir)"
   ]
  },
  {
   "cell_type": "code",
   "execution_count": null,
   "id": "204d1947-3c11-46ba-96c8-2e0f046de0ac",
   "metadata": {},
   "outputs": [],
   "source": []
  }
 ],
 "metadata": {
  "kernelspec": {
   "display_name": "Python 3 (ipykernel)",
   "language": "python",
   "name": "python3"
  },
  "language_info": {
   "codemirror_mode": {
    "name": "ipython",
    "version": 3
   },
   "file_extension": ".py",
   "mimetype": "text/x-python",
   "name": "python",
   "nbconvert_exporter": "python",
   "pygments_lexer": "ipython3",
   "version": "3.11.1"
  }
 },
 "nbformat": 4,
 "nbformat_minor": 5
}
