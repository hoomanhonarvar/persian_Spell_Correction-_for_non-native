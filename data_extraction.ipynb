{
 "cells": [
  {
   "cell_type": "code",
   "execution_count": 1,
   "id": "3eee4da8-a2be-435e-8756-52f8b0428612",
   "metadata": {},
   "outputs": [],
   "source": [
    "import xml.etree.ElementTree as ET\n",
    "import os\n",
    "import pandas as pd"
   ]
  },
  {
   "cell_type": "code",
   "execution_count": 2,
   "id": "94e4db97-6840-42a1-bd6e-f25dcf0743c3",
   "metadata": {},
   "outputs": [],
   "source": [
    "def find_elements_by_attribute(root, attribute_name, attribute_value):\n",
    "    return root.findall(\".//*[@{}='{}']\".format(attribute_name, attribute_value))"
   ]
  },
  {
   "cell_type": "code",
   "execution_count": 3,
   "id": "0515b646-12d8-4465-8064-b0d6c887cc77",
   "metadata": {},
   "outputs": [],
   "source": [
    "def list_all_folders(directory):\n",
    "    folders = []\n",
    "    for item in os.listdir(directory):\n",
    "        if os.path.isdir(os.path.join(directory, item)):\n",
    "            folders.append(item)\n",
    "    return folders"
   ]
  },
  {
   "cell_type": "code",
   "execution_count": 173,
   "id": "b3377b00-2c64-47c1-a626-645b6017a0ca",
   "metadata": {},
   "outputs": [],
   "source": [
    "def wrong_correct_sentence(root,begin,end,correct_word):\n",
    "    wrong_sentence , correct_sentence=\"\",\"\"\n",
    "    for element in root.findall(\"{http:///de/tudarmstadt/ukp/dkpro/core/api/segmentation/type.ecore}Sentence\"):\n",
    "        if int(element.get(\"begin\"))<= begin and int(element.get(\"end\"))>=end:\n",
    "            wrong_sentence=root.findall(\"{http:///uima/cas.ecore}Sofa\")[0].get(\"sofaString\")[int(element.get(\"begin\")):int(element.get(\"end\"))] \n",
    "            s_begin=int(element.get(\"begin\"))\n",
    "            s_end=int(element.get(\"end\"))\n",
    "            if correct_word==None:\n",
    "                correct_word=\" \"\n",
    "            correct_sentence=root.findall(\"{http:///uima/cas.ecore}Sofa\")[0].get(\"sofaString\")[s_begin:begin]+correct_word+root.findall(\"{http:///uima/cas.ecore}Sofa\")[0].get(\"sofaString\")[end:s_end] \n",
    "\n",
    "    return wrong_sentence, correct_sentence\n"
   ]
  },
  {
   "cell_type": "code",
   "execution_count": 174,
   "id": "ca31bd2e-02be-4eef-b156-19e97d109e13",
   "metadata": {},
   "outputs": [],
   "source": [
    "data={\n",
    "    'file_name':[],\n",
    "    'USER_NUMBER':[],\n",
    "    'begin':[],\n",
    "    'end':[],\n",
    "    'wrong_word':[],\n",
    "    'correct_word':[],\n",
    "    'wrong_sentence':[],\n",
    "    'correct_sentence':[],\n",
    "    'process':[],\n",
    "    'main_category':[],\n",
    "    'sub_category_1':[],\n",
    "    'sub_category_2':[]\n",
    "\n",
    "}\n",
    "df = pd.DataFrame(data)\n",
    "df.to_csv('data.csv')"
   ]
  },
  {
   "cell_type": "code",
   "execution_count": 175,
   "id": "1c2e206e-34e0-44c4-9f1c-088d48e3cf32",
   "metadata": {},
   "outputs": [],
   "source": [
    "def extract_data_from_XMI(path,USER_NUMBER):\n",
    "    data_temp={\n",
    "    'file_name':[],\n",
    "    'USER_NUMBER':[],\n",
    "    'begin':[],\n",
    "    'end':[],\n",
    "    'wrong_word':[],\n",
    "    'correct_word':[],\n",
    "    'wrong_sentence':[],\n",
    "    'correct_sentence':[],\n",
    "    'process':[],\n",
    "    'main_category':[],\n",
    "    'sub_category_1':[],\n",
    "    'sub_category_2':[]\n",
    "}\n",
    "    tree = ET.parse(path)\n",
    "    root=tree.getroot()\n",
    "    if len(root.findall('{http:///webanno/custom.ecore}Orthography'))!=0 :\n",
    "        # print(root.findall(\"{http:///uima/cas.ecore}Sofa\")[0].get(\"sofaString\"))\n",
    "        for element in root.findall('{http:///webanno/custom.ecore}Orthography'):\n",
    "            data_temp['USER_NUMBER'].append(USER_NUMBER)\n",
    "            begin=element.get(\"begin\")\n",
    "            end=element.get(\"end\")\n",
    "            data_temp['file_name'].append(root.findall(\"{http:///de/tudarmstadt/ukp/dkpro/core/api/metadata/type.ecore}DocumentMetaData\")[0].get(\"documentTitle\"))\n",
    "            data_temp['begin'].append(begin)\n",
    "            data_temp['end'].append(end)\n",
    "            data_temp['correct_word'].append(element.get(\"correction\"))\n",
    "            data_temp['main_category'].append(element.get(\"mainCategory\"))\n",
    "            data_temp['sub_category_1'].append(element.get(\"subCategory_1\"))\n",
    "            data_temp['wrong_word'].append(root.findall(\"{http:///uima/cas.ecore}Sofa\")[0].get(\"sofaString\")[int(begin):int(end)])\n",
    "            data_temp['process'].append(element.get(\"process\"))\n",
    "            if \"subCategory_2\" in element.attrib:\n",
    "                data_temp[\"sub_category_2\"].append(element.get(\"subCategory_2\"))\n",
    "            else:\n",
    "                data_temp[\"sub_category_2\"].append(\"None\")\n",
    "            wrong_sentence,correct_sentence=wrong_correct_sentence(root,int(begin),int(end),element.get(\"correction\"))\n",
    "            data_temp[\"wrong_sentence\"].append(wrong_sentence)\n",
    "            data_temp[\"correct_sentence\"].append(correct_sentence)\n",
    "\n",
    "    df2=pd.DataFrame(data_temp)\n",
    "    return df2\n",
    "\n",
    "    "
   ]
  },
  {
   "cell_type": "code",
   "execution_count": 176,
   "id": "2cee451a-b57c-4289-9977-32c6204a89ce",
   "metadata": {},
   "outputs": [],
   "source": [
    "annotation_folders=list_all_folders(\"./all_data\")\n",
    "for folder in annotation_folders:\n",
    "    all_items = os.listdir(\"./all_data/\"+folder)\n",
    "    xmi_files = [f for f in all_items if f.endswith('.xmi') and os.path.isfile(os.path.join(\"./all_data\",folder, f))]\n",
    "    for xmi_file in xmi_files:\n",
    "        xmi_path=os.path.join(\"./all_data\",folder,xmi_file)\n",
    "    output= extract_data_from_XMI(xmi_path,xmi_file[:-4])\n",
    "    if len(output)!=0:\n",
    "        df=pd.concat([df,output],axis=0)\n",
    "    \n"
   ]
  },
  {
   "cell_type": "code",
   "execution_count": 177,
   "id": "b67da00e-fa15-4a32-8529-abe4d173bcbf",
   "metadata": {},
   "outputs": [],
   "source": [
    "df.to_csv('specll_correction.csv')"
   ]
  },
  {
   "cell_type": "code",
   "execution_count": null,
   "id": "09497e67-5248-4a03-ae3b-591029fe13e1",
   "metadata": {},
   "outputs": [],
   "source": []
  }
 ],
 "metadata": {
  "kernelspec": {
   "display_name": "Python 3 (ipykernel)",
   "language": "python",
   "name": "python3"
  },
  "language_info": {
   "codemirror_mode": {
    "name": "ipython",
    "version": 3
   },
   "file_extension": ".py",
   "mimetype": "text/x-python",
   "name": "python",
   "nbconvert_exporter": "python",
   "pygments_lexer": "ipython3",
   "version": "3.10.13"
  }
 },
 "nbformat": 4,
 "nbformat_minor": 5
}
