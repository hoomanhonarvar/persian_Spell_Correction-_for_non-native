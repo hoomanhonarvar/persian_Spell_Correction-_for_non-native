{
 "cells": [
  {
   "cell_type": "code",
   "execution_count": 1,
   "id": "3eee4da8-a2be-435e-8756-52f8b0428612",
   "metadata": {},
   "outputs": [],
   "source": [
    "import os\n",
    "import xml.etree.ElementTree as ET\n",
    "import pandas as pd\n",
    "\n",
    "# Initialize an empty DataFrame\n",
    "all_data = pd.DataFrame()\n"
   ]
  },
  {
   "cell_type": "code",
   "execution_count": null,
   "id": "00115481-cef4-40ed-9cab-e29df609d602",
   "metadata": {},
   "outputs": [],
   "source": [
    "while True:\n",
    "    # Prompt for the file path\n",
    "    file_path = input(\"./annotation/n_dialog_11_0.txt/INITIAL_CAS/INITIAL_CAS.xmi\")\n",
    "    \n",
    "    if file_path.lower() == 'done':\n",
    "        break\n",
    "    \n",
    "    if not os.path.isfile(file_path):\n",
    "        print(f\"File {file_path} does not exist. Please try again.\")\n",
    "        continue\n",
    "    \n",
    "    try:\n",
    "        # Parse the XML file\n",
    "        with open(file_path, 'r', encoding='utf-8') as file:\n",
    "            xml_content = file.read()\n",
    "            root = ET.fromstring(xml_content)\n",
    "            \n",
    "            # Extract the sofaString\n",
    "            sofa_string = root.attrib.get('sofaString', '')\n",
    "            \n",
    "            # Split the sofaString by line breaks (&#10;)\n",
    "            lines = sofa_string.split('&#10;&#10;')\n",
    "            \n",
    "            if len(lines) >= 5:  # Ensure there are enough lines to extract the required information\n",
    "                # Extract the directory name\n",
    "                directory_name = os.path.dirname(file_path)\n",
    "                \n",
    "\n",
    "                # Extract the required information\n",
    "                data = {\n",
    "                    'Directory': directory_name,\n",
    "                    'Nationality': lines[0],\n",
    "                    'Gender': lines[3],\n",
    "                    'Training Center': lines[4]\n",
    "                }\n",
    "                \n",
    "                # Append the data to the DataFrame\n",
    "                all_data = all_data.append(data, ignore_index=True)\n",
    "            else:\n",
    "                print(f\"File {file_path} does not contain enough data.\")\n",
    "    \n",
    "    except Exception as e:\n",
    "        print(f\"An error occurred while processing file {file_path}: {e}\")"
   ]
  },
  {
   "cell_type": "code",
   "execution_count": null,
   "id": "19b40dd2-3bd1-4b5d-8fa8-4e3db4346b30",
   "metadata": {},
   "outputs": [],
   "source": [
    "# Save the DataFrame to an Excel file if there is any data\n",
    "if not all_data.empty:\n",
    "    output_file = 'all_data_output.xlsx'\n",
    "    all_data.to_excel(output_file, index=False)\n",
    "    print(f'Data saved to {output_file}')\n",
    "else:\n",
    "    print(\"No data to save.\")\n"
   ]
  }
 ],
 "metadata": {
  "kernelspec": {
   "display_name": "Python 3 (ipykernel)",
   "language": "python",
   "name": "python3"
  },
  "language_info": {
   "codemirror_mode": {
    "name": "ipython",
    "version": 3
   },
   "file_extension": ".py",
   "mimetype": "text/x-python",
   "name": "python",
   "nbconvert_exporter": "python",
   "pygments_lexer": "ipython3",
   "version": "3.11.1"
  }
 },
 "nbformat": 4,
 "nbformat_minor": 5
}
