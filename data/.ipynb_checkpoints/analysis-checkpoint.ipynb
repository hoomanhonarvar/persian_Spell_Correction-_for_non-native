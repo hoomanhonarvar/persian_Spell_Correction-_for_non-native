{
 "cells": [
  {
   "cell_type": "code",
   "execution_count": 7,
   "id": "b2d8d169-f510-4ef6-a66b-5028b463d692",
   "metadata": {},
   "outputs": [
    {
     "name": "stdout",
     "output_type": "stream",
     "text": [
      "['آذربایجان', 'آرژانتین', 'آفریقا', 'آلمان', 'اتریش', 'ارمنستان', 'ازبکستان', 'استرالیا', 'اسلواکی', 'اسپانیا', 'افغانستان', 'الجزایر', 'اندونزی', 'انگلستان', 'اوکراین', 'اوگاندا', 'ایالات متحده آمریکا', 'ایتالیا', 'ایران', 'بحرین', 'بلاروس', 'بلغارستان', 'بلژیک', 'بنگلادش', 'بورکینافاسو', 'بوسنی و هرزگوین', 'تاجیکستان', 'تانزانیا', 'تایلند', 'ترکیه', 'تونس', 'رواندا', 'روسیه', 'رومانی', 'ساحل عاج', 'سریلانکا', 'سنگال', 'سوئیس', 'سودان', 'سوریه', 'شیلی', 'صربستان', 'عراق', 'عربستان', 'عمان', 'غنا', 'فرانسه', 'فلسطین', 'فیلیپین', 'قرقیزستان', 'قزاقستان', 'لبنان', 'لهستان', 'ماداگاسکار', 'مالاوی', 'مالزی', 'مالی', 'مجارستان', 'مقدونیه', 'میانمار', 'نامشخص', 'نیجر', 'نیجریه', 'هلند', 'هند', 'پاکستان', 'پرتغال', 'چک', 'چین', 'کامرون', 'کرواسی', 'کلمبیا', 'کنگو', 'کنیا', 'کویت', 'گامبیا', 'گرجستان', 'گینه', 'یمن']\n",
      "79\n"
     ]
    }
   ],
   "source": [
    "import pandas as pd\n",
    "\n",
    "file_path = './data.csv'  \n",
    "df = pd.read_csv(file_path)\n",
    "\n",
    "significant_column = 'Nationality' \n",
    "\n",
    "Nationalities = df[significant_column].unique().tolist()\n",
    "count = len(Nationalities)\n",
    "Nationalities.sort();\n",
    "print(Nationalities)\n",
    "print(count)"
   ]
  },
  {
   "cell_type": "code",
   "execution_count": 11,
   "id": "86237a83-3d24-4756-a0c6-2678d3f4dd9e",
   "metadata": {},
   "outputs": [],
   "source": [
    "significant_column = 'Nationality' "
   ]
  }
 ],
 "metadata": {
  "kernelspec": {
   "display_name": "Python 3 (ipykernel)",
   "language": "python",
   "name": "python3"
  },
  "language_info": {
   "codemirror_mode": {
    "name": "ipython",
    "version": 3
   },
   "file_extension": ".py",
   "mimetype": "text/x-python",
   "name": "python",
   "nbconvert_exporter": "python",
   "pygments_lexer": "ipython3",
   "version": "3.11.1"
  }
 },
 "nbformat": 4,
 "nbformat_minor": 5
}
