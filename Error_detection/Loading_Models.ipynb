{
 "cells": [
  {
   "cell_type": "code",
   "execution_count": 38,
   "id": "49714bb7-be5a-4cbd-a45f-6dccbcd00cc5",
   "metadata": {},
   "outputs": [],
   "source": [
    "# pip install transformers"
   ]
  },
  {
   "cell_type": "code",
   "execution_count": 39,
   "id": "b822b7c2-6ae7-4506-9575-727b8ff5f89a",
   "metadata": {},
   "outputs": [],
   "source": [
    "# !pip install datasets"
   ]
  },
  {
   "cell_type": "code",
   "execution_count": 40,
   "id": "040ec7d9-f0dc-479f-9199-5d59f8eaf488",
   "metadata": {},
   "outputs": [],
   "source": [
    "import os\n",
    "from datasets import Dataset\n",
    "from transformers import BertTokenizer\n",
    "import pandas as pd"
   ]
  },
  {
   "cell_type": "code",
   "execution_count": 43,
   "id": "0feff438-042a-446a-8d59-b062c916f4a9",
   "metadata": {},
   "outputs": [
    {
     "name": "stderr",
     "output_type": "stream",
     "text": [
      "Some weights of BertModel were not initialized from the model checkpoint at ../Models/With_Nationality/model/ and are newly initialized: ['bert.pooler.dense.bias', 'bert.pooler.dense.weight']\n",
      "You should probably TRAIN this model on a down-stream task to be able to use it for predictions and inference.\n"
     ]
    }
   ],
   "source": [
    "\n",
    "from transformers import AutoModel, AutoConfig\n",
    "\n",
    "# Path to the directory containing config.json and model.safetensors\n",
    "model_directory = '../Models/With_Nationality/model/'\n",
    "\n",
    "# Load the configuration\n",
    "config = AutoConfig.from_pretrained(model_directory)\n",
    "\n",
    "# Load the model using the configuration\n",
    "model_NN = AutoModel.from_pretrained(model_directory, config=config, use_safetensors=True)\n",
    "\n"
   ]
  },
  {
   "cell_type": "code",
   "execution_count": 44,
   "id": "6d188970-47b5-4ccc-8c6d-359722b83c96",
   "metadata": {},
   "outputs": [],
   "source": [
    "tokenizer = BertTokenizer.from_pretrained('HooshvareLab/bert-base-parsbert-uncased')"
   ]
  },
  {
   "cell_type": "code",
   "execution_count": 29,
   "id": "f3c030c9-485e-4e09-8c14-e5d7d8f27139",
   "metadata": {},
   "outputs": [],
   "source": [
    "file_path = '../data/data.csv'\n",
    "df = pd.read_csv(file_path)"
   ]
  },
  {
   "cell_type": "code",
   "execution_count": 30,
   "id": "cba4d12f-f2bc-43cc-afc0-e8e097c6d450",
   "metadata": {},
   "outputs": [],
   "source": [
    "columns_to_drop_without_nationality = ['USER_NUMBER', 'file_name','begin','end','Gender','wrong_word','process','main_category','sub_category_1','sub_category_2','Training Center','Nationality','nationality_encoded','correct_word','word_tokens_correct','correct_sentence','word_tokens_wrong']"
   ]
  },
  {
   "cell_type": "code",
   "execution_count": 18,
   "id": "ee8068ab-408e-4771-888c-d9d1adc4bbca",
   "metadata": {},
   "outputs": [],
   "source": [
    "# tdwn = df.drop(columns=columns_to_drop_without_nationality)"
   ]
  },
  {
   "cell_type": "code",
   "execution_count": 45,
   "id": "30374214-d953-4ccf-acb7-05cce008be63",
   "metadata": {},
   "outputs": [],
   "source": [
    "# Correct `id2label` mapping\n",
    "model_NN.config.id2label = {\n",
    "    0: \"negative\",\n",
    "    # 1: \"MainSigns_Consonants\",\n",
    "    # 2: \"MainSigns_Vowels\",\n",
    "    # 3: \"DiacriticSigns_Tashdid\",\n",
    "    # 4: \"DiacriticSigns_Madd\",\n",
    "    # 5: \"DiacriticSigns_Tanwin\",\n",
    "    # 6: \"Form_Boundary\",\n",
    "    # 7: \"Form_AlifLam\",\n",
    "    # 8: \"Form_Place\",\n",
    "    # 9: \"Form_Dot\",\n",
    "    # 10: \"Punctuation\"\n",
    "    1:\"posetive\"\n",
    "\n",
    "}\n",
    "\n",
    "# Correct `label2id` mapping\n",
    "model_NN.config.label2id = {\n",
    "    \"negative\": 0,\n",
    "    # \"MainSigns_Consonants\": 1,\n",
    "    # \"MainSigns_Vowels\": 2,\n",
    "    # \"DiacriticSigns_Tashdid\": 3,\n",
    "    # \"DiacriticSigns_Madd\": 4,\n",
    "    # \"DiacriticSigns_Tanwin\": 5,\n",
    "    # \"Form_Boundary\": 6,\n",
    "    # \"Form_AlifLam\": 7,\n",
    "    # \"Form_Place\": 8,\n",
    "    # \"Form_Dot\": 9,\n",
    "    # \"Punctuation\": 10\n",
    "    \"posetive\":1\n",
    "}\n"
   ]
  },
  {
   "cell_type": "code",
   "execution_count": 54,
   "id": "85979035-9cbc-4ca1-9303-d01b123251af",
   "metadata": {},
   "outputs": [
    {
     "name": "stdout",
     "output_type": "stream",
     "text": [
      "torch.Size([1, 7, 768])\n",
      "torch.Size([1, 7, 1])\n",
      "tensor([[-0.0402, -0.0712, -0.2514, -0.2748, -0.2308,  0.1243, -0.0346]],\n",
      "       grad_fn=<SqueezeBackward1>)\n",
      "tensor([[0.4899, 0.4822, 0.4375, 0.4317, 0.4426, 0.5310, 0.4913]],\n",
      "       grad_fn=<SigmoidBackward0>)\n",
      "Token: [CLS], Predicted class: 0\n",
      "Token: دیوار, Predicted class: 0\n",
      "Token: کلاس, Predicted class: 0\n",
      "Token: سف, Predicted class: 0\n",
      "Token: ##د, Predicted class: 0\n",
      "Token: است, Predicted class: 1\n",
      "Token: [SEP], Predicted class: 0\n"
     ]
    }
   ],
   "source": [
    "from transformers import AutoTokenizer, AutoModelForTokenClassification\n",
    "import torch\n",
    "\n",
    "# # Load the trained model and tokenizer\n",
    "# model_path = \"path_to_your_trained_model\"  # Change to the path of your saved model\n",
    "# tokenizer_path = \"path_to_your_tokenizer\"  # Change to the path of your saved tokenizer\n",
    "\n",
    "# tokenizer = AutoTokenizer.from_pretrained(tokenizer_path)\n",
    "# model = AutoModelForTokenClassification.from_pretrained(model_path)\n",
    "\n",
    "# # Move model to GPU if available\n",
    "# device = torch.device(\"cuda\" if torch.cuda.is_available() else \"cpu\")\n",
    "# model.to(device)\n",
    "\n",
    "# # Input text\n",
    "# # # Tokenize the input text\n",
    "# inputs = tokenizer(text, return_tensors=\"pt\", is_split_into_words=False, padding=True, truncation=True)\n",
    "# input_ids = inputs[\"input_ids\"]\n",
    "# attention_mask = inputs[\"attention_mask\"]\n",
    "\n",
    "# # # Get predictions from the model\n",
    "# model.eval()  # Set the model to evaluation mode\n",
    "# with torch.no_grad():\n",
    "#     outputs = model(input_ids=input_ids, attention_mask=attention_mask)\n",
    "#     logits = outputs[1]\n",
    "\n",
    "# # # Convert logits to predicted labels\n",
    "# predictions = torch.argmax(logits, dim=2)\n",
    "\n",
    "# # # # Map label IDs to actual labels\n",
    "# id2label = model.config.id2label\n",
    "# predicted_labels = []\n",
    "# for label_id in predictions[0]:\n",
    "#     label_id = label_id.item()\n",
    "#     predicted_labels.append(id2label.get(label_id, \"Unknown Label\"))\n",
    "\n",
    "# # # # Post-process the predictions\n",
    "# tokens = tokenizer.convert_ids_to_tokens(input_ids[0])\n",
    "# print(\"Tokens:\", tokens)\n",
    "# print(\"Predicted Labels:\", predicted_labels)\n",
    "\n",
    "# for i in range(0,len(predicted_labels)):\n",
    "#   if predicted_labels[i]==\"False\":\n",
    "#     print(\"error is in this word :\",tokens[i])\n",
    "# print(outputs['pooler_output'])\n",
    "\n",
    "\n",
    "# Sample input text\n",
    "text = \"دیوار کلاس سفد است\"\n",
    "\n",
    "\n",
    "# Tokenize the input text\n",
    "inputs = tokenizer(text, return_tensors=\"pt\", truncation=True, padding=True, is_split_into_words=False)\n",
    "\n",
    "# Forward pass to get outputs\n",
    "outputs = model_NN(**inputs)\n",
    "\n",
    "# Get the last hidden state (representation for each token)\n",
    "last_hidden_state = outputs.last_hidden_state  # shape: (batch_size, seq_len, hidden_size)\n",
    "\n",
    "# Classification head: Define a dense layer for each token\n",
    "# Assuming binary classification for each token (you can change this for more classes)\n",
    "classification_head = torch.nn.Linear(last_hidden_state.shape[2], 1)  # Output size is 1 for binary classification\n",
    "print(last_hidden_state.shape)\n",
    "# Forward the last hidden state through the classification head\n",
    "token_logits = classification_head(last_hidden_state)  # shape: (batch_size, seq_len, 1)\n",
    "print(token_logits.shape)\n",
    "# Squeeze the logits to remove the last dimension\n",
    "token_logits = token_logits.squeeze(-1)  # shape: (batch_size, seq_len)\n",
    "print(token_logits)\n",
    "# Sigmoid to convert logits to probabilities (for binary classification)\n",
    "token_probabilities = torch.sigmoid(token_logits)\n",
    "print(token_probabilities)\n",
    "# Get the predicted class for each token (0 or 1)\n",
    "token_predictions = (token_probabilities > 0.5).int()\n",
    "\n",
    "# Decode token ids to tokens\n",
    "tokens = tokenizer.convert_ids_to_tokens(inputs['input_ids'][0])\n",
    "\n",
    "# Print each token with its predicted label\n",
    "for token, prediction in zip(tokens, token_predictions[0]):\n",
    "    print(f\"Token: {token}, Predicted class: {prediction.item()}\")\n"
   ]
  },
  {
   "cell_type": "code",
   "execution_count": null,
   "id": "9862c2d6-8cb7-4edd-bd25-e36f821f9110",
   "metadata": {},
   "outputs": [],
   "source": []
  }
 ],
 "metadata": {
  "kernelspec": {
   "display_name": "Python 3 (ipykernel)",
   "language": "python",
   "name": "python3"
  },
  "language_info": {
   "codemirror_mode": {
    "name": "ipython",
    "version": 3
   },
   "file_extension": ".py",
   "mimetype": "text/x-python",
   "name": "python",
   "nbconvert_exporter": "python",
   "pygments_lexer": "ipython3",
   "version": "3.11.1"
  }
 },
 "nbformat": 4,
 "nbformat_minor": 5
}
