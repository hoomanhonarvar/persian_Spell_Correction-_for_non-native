{
 "cells": [
  {
   "cell_type": "code",
   "execution_count": 1,
   "metadata": {
    "colab": {
     "base_uri": "https://localhost:8080/"
    },
    "id": "QdwFvo7Vlee_",
    "outputId": "ca6e5764-c168-42e1-afa2-e2b0d37aa71e"
   },
   "outputs": [
    {
     "name": "stdout",
     "output_type": "stream",
     "text": [
      "Requirement already satisfied: hazm in /usr/local/lib/python3.10/dist-packages (0.10.0)\n",
      "Requirement already satisfied: fasttext-wheel<0.10.0,>=0.9.2 in /usr/local/lib/python3.10/dist-packages (from hazm) (0.9.2)\n",
      "Requirement already satisfied: flashtext<3.0,>=2.7 in /usr/local/lib/python3.10/dist-packages (from hazm) (2.7)\n",
      "Requirement already satisfied: gensim<5.0.0,>=4.3.1 in /usr/local/lib/python3.10/dist-packages (from hazm) (4.3.3)\n",
      "Requirement already satisfied: nltk<4.0.0,>=3.8.1 in /usr/local/lib/python3.10/dist-packages (from hazm) (3.8.1)\n",
      "Requirement already satisfied: numpy==1.24.3 in /usr/local/lib/python3.10/dist-packages (from hazm) (1.24.3)\n",
      "Requirement already satisfied: python-crfsuite<0.10.0,>=0.9.9 in /usr/local/lib/python3.10/dist-packages (from hazm) (0.9.10)\n",
      "Requirement already satisfied: scikit-learn<2.0.0,>=1.2.2 in /usr/local/lib/python3.10/dist-packages (from hazm) (1.3.2)\n",
      "Requirement already satisfied: pybind11>=2.2 in /usr/local/lib/python3.10/dist-packages (from fasttext-wheel<0.10.0,>=0.9.2->hazm) (2.13.5)\n",
      "Requirement already satisfied: setuptools>=0.7.0 in /usr/local/lib/python3.10/dist-packages (from fasttext-wheel<0.10.0,>=0.9.2->hazm) (71.0.4)\n",
      "Requirement already satisfied: scipy<1.14.0,>=1.7.0 in /usr/local/lib/python3.10/dist-packages (from gensim<5.0.0,>=4.3.1->hazm) (1.13.1)\n",
      "Requirement already satisfied: smart-open>=1.8.1 in /usr/local/lib/python3.10/dist-packages (from gensim<5.0.0,>=4.3.1->hazm) (7.0.4)\n",
      "Requirement already satisfied: click in /usr/local/lib/python3.10/dist-packages (from nltk<4.0.0,>=3.8.1->hazm) (8.1.7)\n",
      "Requirement already satisfied: joblib in /usr/local/lib/python3.10/dist-packages (from nltk<4.0.0,>=3.8.1->hazm) (1.4.2)\n",
      "Requirement already satisfied: regex>=2021.8.3 in /usr/local/lib/python3.10/dist-packages (from nltk<4.0.0,>=3.8.1->hazm) (2024.5.15)\n",
      "Requirement already satisfied: tqdm in /usr/local/lib/python3.10/dist-packages (from nltk<4.0.0,>=3.8.1->hazm) (4.66.5)\n",
      "Requirement already satisfied: threadpoolctl>=2.0.0 in /usr/local/lib/python3.10/dist-packages (from scikit-learn<2.0.0,>=1.2.2->hazm) (3.5.0)\n",
      "Requirement already satisfied: wrapt in /usr/local/lib/python3.10/dist-packages (from smart-open>=1.8.1->gensim<5.0.0,>=4.3.1->hazm) (1.16.0)\n"
     ]
    }
   ],
   "source": [
    "!pip install hazm"
   ]
  },
  {
   "cell_type": "code",
   "execution_count": 2,
   "metadata": {
    "id": "B94kr-7NCeg_"
   },
   "outputs": [],
   "source": [
    "import numpy as np\n",
    "import matplotlib.pyplot as plt\n",
    "import tensorflow_datasets as tfds\n",
    "import tensorflow as tf\n",
    "import pandas as pd\n",
    "from hazm import word_tokenize\n",
    "import re\n",
    "from sklearn.model_selection import train_test_split\n",
    "from tensorflow.keras.preprocessing.sequence import pad_sequences\n",
    "import pickle"
   ]
  },
  {
   "cell_type": "code",
   "execution_count": 3,
   "metadata": {
    "colab": {
     "base_uri": "https://localhost:8080/"
    },
    "id": "-RWQ_yBqKrED",
    "outputId": "f3076532-902a-4e33-aecc-a0293ca22e69"
   },
   "outputs": [
    {
     "name": "stdout",
     "output_type": "stream",
     "text": [
      "Drive already mounted at /content/drive; to attempt to forcibly remount, call drive.mount(\"/content/drive\", force_remount=True).\n"
     ]
    }
   ],
   "source": [
    "from google.colab import drive\n",
    "drive.mount('/content/drive')"
   ]
  },
  {
   "cell_type": "code",
   "execution_count": 4,
   "metadata": {
    "id": "B5MTNdxnKrAk"
   },
   "outputs": [],
   "source": [
    "df=pd.read_csv(\"/content/drive/MyDrive/Spell_correction/data.csv\")"
   ]
  },
  {
   "cell_type": "code",
   "execution_count": 5,
   "metadata": {
    "id": "EmfsQEzWzXqU"
   },
   "outputs": [],
   "source": [
    "df=df[(df['main_category']==\"Main signs\") | (df['main_category']==\"Form\")]"
   ]
  },
  {
   "cell_type": "code",
   "execution_count": 6,
   "metadata": {
    "id": "vCdh2Yu-DxTz"
   },
   "outputs": [],
   "source": [
    "Arab=['Bahrain','Algeria','Iraq','Kuwait','Lebanon','Palestine','Saudi Arabia','Sudan','Syria','Yemen']\n",
    "Latin=['Argentina','Austria','Australia','Belgium','France','Colombia','Germany','Ghana','Hungary','Italy','Ivory Coast','Netherlands','Portugal','Romania','Senegal','Spain','Switzerland','United Kingdom','United States of America','']\n",
    "Turk=['Azerbaijan','Kazakhstan','Kyrgyzstan','Turkey']\n",
    "Pars=['Afghanistan','Iran','Pakistan','Tajikistan']\n",
    "India=['Bangladesh','India']\n",
    "Russia=['Belarus','Croatia','Poland','Russia','Serbia','Czech Republic','Slovakia','Ukraine','Bulgaria','North Macedonia']\n",
    "china=['China']\n",
    "\n",
    "\n",
    "\n",
    "def batch_nationality(nationality):\n",
    "  if nationality in Arab:\n",
    "    return \"Arab\"\n",
    "  elif nationality in Latin:\n",
    "    return \"Latin\"\n",
    "  elif nationality in Turk:\n",
    "    return \"Turk\"\n",
    "  elif nationality in Pars:\n",
    "    return \"Pars\"\n",
    "  elif nationality in India:\n",
    "    return \"India\"\n",
    "  elif nationality in Russia:\n",
    "    return \"Russia\"\n",
    "  elif nationality in china:\n",
    "    return \"China\"\n",
    "  else:\n",
    "    return \"Other\""
   ]
  },
  {
   "cell_type": "code",
   "execution_count": 7,
   "metadata": {
    "id": "gjdJbSc9G_R7"
   },
   "outputs": [],
   "source": [
    "df['wrong_sentence'] = df.apply(lambda row: f\"[{batch_nationality(row['Nationality'])}] {row['wrong_sentence']}\", axis=1)"
   ]
  },
  {
   "cell_type": "code",
   "execution_count": 8,
   "metadata": {
    "id": "qWrWf-i0Kq-P"
   },
   "outputs": [],
   "source": [
    "df=df[[\"wrong_sentence\",\"correct_sentence\"]]\n",
    "df=df.dropna()"
   ]
  },
  {
   "cell_type": "code",
   "execution_count": 9,
   "metadata": {
    "colab": {
     "base_uri": "https://localhost:8080/",
     "height": 206
    },
    "id": "Tn6qhQS2HkS5",
    "outputId": "45a53fad-45a0-44e7-a562-01b4eeaa279f"
   },
   "outputs": [
    {
     "data": {
      "application/vnd.google.colaboratory.intrinsic+json": {
       "summary": "{\n  \"name\": \"df\",\n  \"rows\": 5924,\n  \"fields\": [\n    {\n      \"column\": \"wrong_sentence\",\n      \"properties\": {\n        \"dtype\": \"category\",\n        \"num_unique_values\": 2740,\n        \"samples\": [\n          \"[Latin] \\u0628 ) \\u0622\\u062f\\u0627\\u0645\\u00ac\\u0647\\u0627\\u06cc \\u0628\\u0633\\u06cc\\u0627\\u0631 \\u0641\\u06a9\\u0631 \\u0645\\u06cc\\u00ac\\u06a9\\u0646\\u0646\\u062f \\u06a9\\u0647 \\u0645\\u0646 \\u06a9\\u062a\\u0627\\u0628\\u00ac\\u0647\\u0627 \\u0631\\u0627 \\u062f\\u0648\\u0633\\u062a \\u062f\\u0627\\u0631\\u0645 \\u0627\\u06cc\\u0646 \\u0639\\u0644\\u062a \\u0627\\u0633\\u062a .\",\n          \"[Russia] \\u062d\\u0644 \\u0627\\u06cc\\u0646 \\u0645\\u0634\\u06a9\\u0644 \\u0686\\u06cc\\u0633\\u062a \\u061f \\u0627\\u0648\\u0644 \\u0627\\u06cc\\u0646 \\u062d\\u0627\\u0644\\u062a \\u0628\\u06cc\\u0645\\u0627\\u0631\\u06cc \\u0627\\u0633\\u062a \\u0648 \\u0686\\u0646\\u06cc\\u0646 \\u06a9\\u0633\\u0627\\u0646\\u06cc \\u062d\\u062a\\u0645\\u0627 \\u0646\\u06cc\\u0627\\u0632 \\u0628\\u0647 \\u0631\\u0648\\u0627\\u0646 \\u067e\\u0632\\u0634\\u06a9 \\u062e\\u0648\\u0627\\u0647\\u062f_\\u062f\\u0627\\u0634\\u062a .\",\n          \"[Latin] \\u0634\\u0627\\u06af\\u0631\\u062f \\u0628\\u0627\\u06cc\\u062f \\u0633\\u06cc\\u0647 \\u06a9\\u0646\\u062f \\u0635\\u062f\\u0627\\u06cc \\u0627\\u062a\\u062b\\u0647 \\u0627\\u0634 \\u0628\\u0644\\u0646\\u062f \\u0646\\u0634\\u0648\\u062f \\u0627\\u06af\\u0631 \\u062e\\u0646\\u062f\\u0647 \\u0628\\u0631 \\u0627\\u0648 \\u0686\\u06cc\\u0631\\u0647 \\u06af\\u0634 \\u0628\\u062f\\u0648\\u0646 \\u0642\\u0647\\u0642\\u0647 \\u0648 \\u0628\\u06cc \\u0633\\u0631\\u0648\\u0635\\u062f\\u0627 \\u0628\\u0627\\u0634\\u0646\\u062f \\u06cc\\u0639\\u0646\\u06cc \\u0641\\u0642\\u0637 \\u0644\\u0628\\u062e\\u0646\\u062f \\u0628\\u0632\\u0646\\u062f \\u0648 \\u062a\\u0628\\u0633\\u0648\\u0645 \\u06a9\\u0646\\u062f . \\u0645\\u0635\\u0644\\u062d\\u062a \\u0622\\u0646 \\u0627\\u0633\\u062a \\u06a9\\u0647 \\u0628\\u0646\\u0627\\u06cc\\u0627\\u0646 \\u0648 \\u06a9\\u0627\\u0631\\u06af\\u0627\\u0631\\u0627\\u0646 \\u0628\\u0641\\u0631\\u0633\\u062a\\u06cc\\u0645 \\u062a\\u0627 \\u062f\\u0631 \\u0622\\u0646\\u062c\\u0627 \\u0634\\u0647\\u0631\\u06cc \\u0628\\u0646\\u0627 \\u06a9\\u0646\\u0646\\u062f \\u0648 \\u0628\\u0646\\u0627\\u0647\\u0627\\u06cc \\u0631\\u0641\\u06cc\\u0639 \\u0648 \\u0642\\u0635\\u0631 \\u0647\\u0627\\u06cc \\u0628\\u0644\\u0646\\u062f \\u067e\\u0627\\u06cc \\u0628\\u0633\\u0627\\u0632\\u0646\\u062f \\u0648 \\u0647\\u0631 \\u0645\\u062a\\u0627\\u0639 \\u0648 \\u062c\\u0646\\u0633 \\u06a9\\u0647 \\u0646\\u06cc\\u06a9\\u0648 \\u0628\\u0627\\u0634\\u062f \\u0628\\u0647 \\u0622\\u0646\\u062c\\u0627 \\u0631\\u0648\\u0627\\u0646 \\u0633\\u0627\\u0632\\u06cc\\u0645 . \\u062c\\u0627\\u0646\\u0648\\u0631 \\u0647\\u0631\\u0686\\u0647 \\u06a9\\u0648\\u0686\\u06a9 \\u062a\\u0631 \\u0648 \\u0646\\u0627\\u062a\\u0648\\u0627\\u0646 \\u062a\\u0631 \\u0628\\u0627\\u0634\\u0646\\u062f \\u0641\\u0627\\u0642\\u062f \\u0642\\u062f\\u0631\\u062a \\u0646\\u06af\\u0647\\u062f\\u0627\\u0631\\u06cc \\u0641\\u0631\\u0632\\u0646\\u062f \\u0628\\u0627\\u0634\\u0646\\u062f \\u0637\\u0648\\u0644\\u06cc\\u062f \\u0645\\u062b\\u0644 \\u0648\\u06cc \\u0627\\u0641\\u0632\\u0648\\u0646 \\u062a\\u0631 \\u0648 \\u0632\\u0627\\u06cc\\u0645\\u0627\\u0646\\u0634 \\u0628\\u06cc\\u0634\\u062a\\u0631 \\u062e\\u0648\\u0627\\u0647\\u062f_\\u0628\\u0648\\u062f .\"\n        ],\n        \"semantic_type\": \"\",\n        \"description\": \"\"\n      }\n    },\n    {\n      \"column\": \"correct_sentence\",\n      \"properties\": {\n        \"dtype\": \"string\",\n        \"num_unique_values\": 5287,\n        \"samples\": [\n          \"\\u0645\\u0646 \\u0634\\u0628\\u0627\\u0646\\u0647 \\u0631\\u0648\\u0632\\u0645 \\u0631\\u0627 \\u0628\\u0647 \\u0633\\u0647 \\u0628\\u062e\\u0634 \\u062f\\u0631\\u0633 \\u062e\\u0648\\u0627\\u0646\\u062f\\u0646 \\u0639\\u0628\\u0627\\u062f\\u062a \\u06a9\\u0631\\u062f\\u0646 \\u062a\\u0641\\u0631\\u06cc\\u062d \\u0648 \\u0627\\u0633\\u062a\\u0631\\u0627\\u062d\\u062a \\u062a\\u0642\\u0633\\u06cc\\u0645 \\u06a9\\u0631\\u062f\\u0645 .\",\n          \"\\u062f\\u0631 \\u0645\\u062f\\u0651\\u062a \\u0633\\u0641\\u0631 \\u06cc\\u06a9 \\u0646\\u0641\\u0631 \\u0631\\u0627 \\u0628\\u0647 \\u0627\\u0639\\u0646\\u0648\\u0627\\u0646 \\u0645\\u0633\\u0626\\u0648\\u0644 \\u0648 \\u0631\\u0647\\u0628\\u0631 \\u0627\\u0646\\u062a\\u062e\\u0627\\u0628 \\u06a9\\u0646\\u06cc\\u0645 \\u0648 \\u0627\\u06af\\u0631 \\u0647\\u0645\\u0633\\u0641\\u0631\\u0627\\u0646 \\u0646\\u06cc\\u0627\\u0632 \\u0628\\u0647 \\u06a9\\u0645\\u06a9 \\u062f\\u0627\\u0634\\u062a\\u0646\\u062f \\u0648 \\u0622\\u0646 \\u0647\\u0627 \\u0631\\u0627 \\u06cc\\u0627\\u0631\\u06cc \\u0646\\u0645\\u0627\\u06cc\\u0645 .\",\n          \"\\u0628\\u0686\\u0647 \\u0647\\u0627 \\u062f\\u0648\\u0633\\u062a\\u0645 \\u062e\\u06cc\\u0644\\u06cc \\u0642\\u0634\\u0646\\u06af \\u062e\\u0648\\u0628 \\u0627\\u0633\\u062a .\"\n        ],\n        \"semantic_type\": \"\",\n        \"description\": \"\"\n      }\n    }\n  ]\n}",
       "type": "dataframe",
       "variable_name": "df"
      },
      "text/html": [
       "\n",
       "  <div id=\"df-8887badd-d56a-4da9-80d0-5dd17aea8ad5\" class=\"colab-df-container\">\n",
       "    <div>\n",
       "<style scoped>\n",
       "    .dataframe tbody tr th:only-of-type {\n",
       "        vertical-align: middle;\n",
       "    }\n",
       "\n",
       "    .dataframe tbody tr th {\n",
       "        vertical-align: top;\n",
       "    }\n",
       "\n",
       "    .dataframe thead th {\n",
       "        text-align: right;\n",
       "    }\n",
       "</style>\n",
       "<table border=\"1\" class=\"dataframe\">\n",
       "  <thead>\n",
       "    <tr style=\"text-align: right;\">\n",
       "      <th></th>\n",
       "      <th>wrong_sentence</th>\n",
       "      <th>correct_sentence</th>\n",
       "    </tr>\n",
       "  </thead>\n",
       "  <tbody>\n",
       "    <tr>\n",
       "      <th>1</th>\n",
       "      <td>[Pars] افغانستان\\n \\n موضوع : اسراف\\n \\n اسراف...</td>\n",
       "      <td>افغانستان\\n \\n موضوع : اسراف\\n \\n اسراف را خدا...</td>\n",
       "    </tr>\n",
       "    <tr>\n",
       "      <th>3</th>\n",
       "      <td>[Pars] افغانستان\\n \\n موضوع : اسراف\\n \\n اسراف...</td>\n",
       "      <td>افغانستان\\n \\n موضوع : اسراف\\n \\n اسراف را خدا...</td>\n",
       "    </tr>\n",
       "    <tr>\n",
       "      <th>4</th>\n",
       "      <td>[Pars] افغانستان\\n \\n موضوع : اسراف\\n \\n اسراف...</td>\n",
       "      <td>افغانستان\\n \\n موضوع : اسراف\\n \\n اسراف را خدا...</td>\n",
       "    </tr>\n",
       "    <tr>\n",
       "      <th>7</th>\n",
       "      <td>[Pars] افغانستان\\n \\n موضوع : اسراف\\n \\n اسراف...</td>\n",
       "      <td>افغانستان\\n \\n موضوع : اسراف\\n \\n اسراف را خدا...</td>\n",
       "    </tr>\n",
       "    <tr>\n",
       "      <th>8</th>\n",
       "      <td>[Pars] افغانستان\\n \\n موضوع : اسراف\\n \\n اسراف...</td>\n",
       "      <td>افغانستان\\n \\n موضوع : اسراف\\n \\n اسراف را خدا...</td>\n",
       "    </tr>\n",
       "  </tbody>\n",
       "</table>\n",
       "</div>\n",
       "    <div class=\"colab-df-buttons\">\n",
       "\n",
       "  <div class=\"colab-df-container\">\n",
       "    <button class=\"colab-df-convert\" onclick=\"convertToInteractive('df-8887badd-d56a-4da9-80d0-5dd17aea8ad5')\"\n",
       "            title=\"Convert this dataframe to an interactive table.\"\n",
       "            style=\"display:none;\">\n",
       "\n",
       "  <svg xmlns=\"http://www.w3.org/2000/svg\" height=\"24px\" viewBox=\"0 -960 960 960\">\n",
       "    <path d=\"M120-120v-720h720v720H120Zm60-500h600v-160H180v160Zm220 220h160v-160H400v160Zm0 220h160v-160H400v160ZM180-400h160v-160H180v160Zm440 0h160v-160H620v160ZM180-180h160v-160H180v160Zm440 0h160v-160H620v160Z\"/>\n",
       "  </svg>\n",
       "    </button>\n",
       "\n",
       "  <style>\n",
       "    .colab-df-container {\n",
       "      display:flex;\n",
       "      gap: 12px;\n",
       "    }\n",
       "\n",
       "    .colab-df-convert {\n",
       "      background-color: #E8F0FE;\n",
       "      border: none;\n",
       "      border-radius: 50%;\n",
       "      cursor: pointer;\n",
       "      display: none;\n",
       "      fill: #1967D2;\n",
       "      height: 32px;\n",
       "      padding: 0 0 0 0;\n",
       "      width: 32px;\n",
       "    }\n",
       "\n",
       "    .colab-df-convert:hover {\n",
       "      background-color: #E2EBFA;\n",
       "      box-shadow: 0px 1px 2px rgba(60, 64, 67, 0.3), 0px 1px 3px 1px rgba(60, 64, 67, 0.15);\n",
       "      fill: #174EA6;\n",
       "    }\n",
       "\n",
       "    .colab-df-buttons div {\n",
       "      margin-bottom: 4px;\n",
       "    }\n",
       "\n",
       "    [theme=dark] .colab-df-convert {\n",
       "      background-color: #3B4455;\n",
       "      fill: #D2E3FC;\n",
       "    }\n",
       "\n",
       "    [theme=dark] .colab-df-convert:hover {\n",
       "      background-color: #434B5C;\n",
       "      box-shadow: 0px 1px 3px 1px rgba(0, 0, 0, 0.15);\n",
       "      filter: drop-shadow(0px 1px 2px rgba(0, 0, 0, 0.3));\n",
       "      fill: #FFFFFF;\n",
       "    }\n",
       "  </style>\n",
       "\n",
       "    <script>\n",
       "      const buttonEl =\n",
       "        document.querySelector('#df-8887badd-d56a-4da9-80d0-5dd17aea8ad5 button.colab-df-convert');\n",
       "      buttonEl.style.display =\n",
       "        google.colab.kernel.accessAllowed ? 'block' : 'none';\n",
       "\n",
       "      async function convertToInteractive(key) {\n",
       "        const element = document.querySelector('#df-8887badd-d56a-4da9-80d0-5dd17aea8ad5');\n",
       "        const dataTable =\n",
       "          await google.colab.kernel.invokeFunction('convertToInteractive',\n",
       "                                                    [key], {});\n",
       "        if (!dataTable) return;\n",
       "\n",
       "        const docLinkHtml = 'Like what you see? Visit the ' +\n",
       "          '<a target=\"_blank\" href=https://colab.research.google.com/notebooks/data_table.ipynb>data table notebook</a>'\n",
       "          + ' to learn more about interactive tables.';\n",
       "        element.innerHTML = '';\n",
       "        dataTable['output_type'] = 'display_data';\n",
       "        await google.colab.output.renderOutput(dataTable, element);\n",
       "        const docLink = document.createElement('div');\n",
       "        docLink.innerHTML = docLinkHtml;\n",
       "        element.appendChild(docLink);\n",
       "      }\n",
       "    </script>\n",
       "  </div>\n",
       "\n",
       "\n",
       "<div id=\"df-707fec5a-baf1-427f-88aa-547e49951bd6\">\n",
       "  <button class=\"colab-df-quickchart\" onclick=\"quickchart('df-707fec5a-baf1-427f-88aa-547e49951bd6')\"\n",
       "            title=\"Suggest charts\"\n",
       "            style=\"display:none;\">\n",
       "\n",
       "<svg xmlns=\"http://www.w3.org/2000/svg\" height=\"24px\"viewBox=\"0 0 24 24\"\n",
       "     width=\"24px\">\n",
       "    <g>\n",
       "        <path d=\"M19 3H5c-1.1 0-2 .9-2 2v14c0 1.1.9 2 2 2h14c1.1 0 2-.9 2-2V5c0-1.1-.9-2-2-2zM9 17H7v-7h2v7zm4 0h-2V7h2v10zm4 0h-2v-4h2v4z\"/>\n",
       "    </g>\n",
       "</svg>\n",
       "  </button>\n",
       "\n",
       "<style>\n",
       "  .colab-df-quickchart {\n",
       "      --bg-color: #E8F0FE;\n",
       "      --fill-color: #1967D2;\n",
       "      --hover-bg-color: #E2EBFA;\n",
       "      --hover-fill-color: #174EA6;\n",
       "      --disabled-fill-color: #AAA;\n",
       "      --disabled-bg-color: #DDD;\n",
       "  }\n",
       "\n",
       "  [theme=dark] .colab-df-quickchart {\n",
       "      --bg-color: #3B4455;\n",
       "      --fill-color: #D2E3FC;\n",
       "      --hover-bg-color: #434B5C;\n",
       "      --hover-fill-color: #FFFFFF;\n",
       "      --disabled-bg-color: #3B4455;\n",
       "      --disabled-fill-color: #666;\n",
       "  }\n",
       "\n",
       "  .colab-df-quickchart {\n",
       "    background-color: var(--bg-color);\n",
       "    border: none;\n",
       "    border-radius: 50%;\n",
       "    cursor: pointer;\n",
       "    display: none;\n",
       "    fill: var(--fill-color);\n",
       "    height: 32px;\n",
       "    padding: 0;\n",
       "    width: 32px;\n",
       "  }\n",
       "\n",
       "  .colab-df-quickchart:hover {\n",
       "    background-color: var(--hover-bg-color);\n",
       "    box-shadow: 0 1px 2px rgba(60, 64, 67, 0.3), 0 1px 3px 1px rgba(60, 64, 67, 0.15);\n",
       "    fill: var(--button-hover-fill-color);\n",
       "  }\n",
       "\n",
       "  .colab-df-quickchart-complete:disabled,\n",
       "  .colab-df-quickchart-complete:disabled:hover {\n",
       "    background-color: var(--disabled-bg-color);\n",
       "    fill: var(--disabled-fill-color);\n",
       "    box-shadow: none;\n",
       "  }\n",
       "\n",
       "  .colab-df-spinner {\n",
       "    border: 2px solid var(--fill-color);\n",
       "    border-color: transparent;\n",
       "    border-bottom-color: var(--fill-color);\n",
       "    animation:\n",
       "      spin 1s steps(1) infinite;\n",
       "  }\n",
       "\n",
       "  @keyframes spin {\n",
       "    0% {\n",
       "      border-color: transparent;\n",
       "      border-bottom-color: var(--fill-color);\n",
       "      border-left-color: var(--fill-color);\n",
       "    }\n",
       "    20% {\n",
       "      border-color: transparent;\n",
       "      border-left-color: var(--fill-color);\n",
       "      border-top-color: var(--fill-color);\n",
       "    }\n",
       "    30% {\n",
       "      border-color: transparent;\n",
       "      border-left-color: var(--fill-color);\n",
       "      border-top-color: var(--fill-color);\n",
       "      border-right-color: var(--fill-color);\n",
       "    }\n",
       "    40% {\n",
       "      border-color: transparent;\n",
       "      border-right-color: var(--fill-color);\n",
       "      border-top-color: var(--fill-color);\n",
       "    }\n",
       "    60% {\n",
       "      border-color: transparent;\n",
       "      border-right-color: var(--fill-color);\n",
       "    }\n",
       "    80% {\n",
       "      border-color: transparent;\n",
       "      border-right-color: var(--fill-color);\n",
       "      border-bottom-color: var(--fill-color);\n",
       "    }\n",
       "    90% {\n",
       "      border-color: transparent;\n",
       "      border-bottom-color: var(--fill-color);\n",
       "    }\n",
       "  }\n",
       "</style>\n",
       "\n",
       "  <script>\n",
       "    async function quickchart(key) {\n",
       "      const quickchartButtonEl =\n",
       "        document.querySelector('#' + key + ' button');\n",
       "      quickchartButtonEl.disabled = true;  // To prevent multiple clicks.\n",
       "      quickchartButtonEl.classList.add('colab-df-spinner');\n",
       "      try {\n",
       "        const charts = await google.colab.kernel.invokeFunction(\n",
       "            'suggestCharts', [key], {});\n",
       "      } catch (error) {\n",
       "        console.error('Error during call to suggestCharts:', error);\n",
       "      }\n",
       "      quickchartButtonEl.classList.remove('colab-df-spinner');\n",
       "      quickchartButtonEl.classList.add('colab-df-quickchart-complete');\n",
       "    }\n",
       "    (() => {\n",
       "      let quickchartButtonEl =\n",
       "        document.querySelector('#df-707fec5a-baf1-427f-88aa-547e49951bd6 button');\n",
       "      quickchartButtonEl.style.display =\n",
       "        google.colab.kernel.accessAllowed ? 'block' : 'none';\n",
       "    })();\n",
       "  </script>\n",
       "</div>\n",
       "\n",
       "    </div>\n",
       "  </div>\n"
      ],
      "text/plain": [
       "                                      wrong_sentence  \\\n",
       "1  [Pars] افغانستان\\n \\n موضوع : اسراف\\n \\n اسراف...   \n",
       "3  [Pars] افغانستان\\n \\n موضوع : اسراف\\n \\n اسراف...   \n",
       "4  [Pars] افغانستان\\n \\n موضوع : اسراف\\n \\n اسراف...   \n",
       "7  [Pars] افغانستان\\n \\n موضوع : اسراف\\n \\n اسراف...   \n",
       "8  [Pars] افغانستان\\n \\n موضوع : اسراف\\n \\n اسراف...   \n",
       "\n",
       "                                    correct_sentence  \n",
       "1  افغانستان\\n \\n موضوع : اسراف\\n \\n اسراف را خدا...  \n",
       "3  افغانستان\\n \\n موضوع : اسراف\\n \\n اسراف را خدا...  \n",
       "4  افغانستان\\n \\n موضوع : اسراف\\n \\n اسراف را خدا...  \n",
       "7  افغانستان\\n \\n موضوع : اسراف\\n \\n اسراف را خدا...  \n",
       "8  افغانستان\\n \\n موضوع : اسراف\\n \\n اسراف را خدا...  "
      ]
     },
     "execution_count": 9,
     "metadata": {},
     "output_type": "execute_result"
    }
   ],
   "source": [
    "df.head()"
   ]
  },
  {
   "cell_type": "code",
   "execution_count": 10,
   "metadata": {
    "id": "imF-Qcocvtnz"
   },
   "outputs": [],
   "source": [
    "df,Test=train_test_split(df,test_size=0.2,random_state=24)"
   ]
  },
  {
   "cell_type": "code",
   "execution_count": 11,
   "metadata": {
    "colab": {
     "base_uri": "https://localhost:8080/"
    },
    "id": "-phh0f1_dztD",
    "outputId": "62f6a2e8-035b-400c-a533-0722fae806b8"
   },
   "outputs": [
    {
     "data": {
      "text/plain": [
       "4739"
      ]
     },
     "execution_count": 11,
     "metadata": {},
     "output_type": "execute_result"
    }
   ],
   "source": [
    "len(df)"
   ]
  },
  {
   "cell_type": "code",
   "execution_count": 12,
   "metadata": {
    "id": "SG4Ep-C6Kq5Y"
   },
   "outputs": [],
   "source": [
    "#create vocabulay\n",
    "symbols_to_remove = ['@', '#', '$', '%', '^', '&', '*', '(', ')','{','}','\"','*\\r','+',',','ø','>>','CV','EXPO','None','alfare','fat','«','0-9','\\\\u200','\\\\u200c','\\\\u200f','\\\\u200e']\n",
    "# Create a regex pattern that matches any of the symbols in the list\n",
    "pattern = re.compile(f\"[{re.escape(''.join(symbols_to_remove))}]\")"
   ]
  },
  {
   "cell_type": "code",
   "execution_count": 13,
   "metadata": {
    "id": "l5sIXcS4MiJN"
   },
   "outputs": [],
   "source": [
    "# create a dictionary to convert the vocabulary to integers\n",
    "vocab_to_int = {}\n",
    "count = 0\n",
    "#tokenize and put <start> , < end >\n",
    "# Add special tokens to vocab_to_int\n",
    "codes = ['<PAD>','<eos>','<sos>']\n",
    "for code in codes:\n",
    "    vocab_to_int[code] = count\n",
    "    count += 1\n",
    "\n",
    "for index in df.index:\n",
    "    for word in word_tokenize(df.at[index,\"wrong_sentence\"]):\n",
    "        cleaned_string = pattern.sub(\"\", word)\n",
    "        # cleaned_string = new_word.replace(\"\\u200c\", \"\").replace(\"\\u200f\", \"\")\n",
    "        if cleaned_string not in vocab_to_int:\n",
    "            vocab_to_int[cleaned_string] = count\n",
    "            count += 1\n",
    "    for word in word_tokenize(df.at[index,\"correct_sentence\"]):\n",
    "        cleaned_string = pattern.sub(\"\", word)\n",
    "        # cleaned_string = new_word.replace(\"\\u200c\", \"\").replace(\"\\u200f\", \"\")\n",
    "        if cleaned_string not in vocab_to_int:\n",
    "            vocab_to_int[cleaned_string] = count\n",
    "            count += 1"
   ]
  },
  {
   "cell_type": "code",
   "execution_count": 14,
   "metadata": {
    "colab": {
     "base_uri": "https://localhost:8080/"
    },
    "id": "FGZsZqTPNdc2",
    "outputId": "26e330f4-0a26-4b50-bf8e-59ad9387ddda"
   },
   "outputs": [
    {
     "name": "stdout",
     "output_type": "stream",
     "text": [
      "The vocabulary contains 8566 words.\n"
     ]
    }
   ],
   "source": [
    "vocab_size = len(vocab_to_int)\n",
    "print(\"The vocabulary contains {} words.\".format(vocab_size))"
   ]
  },
  {
   "cell_type": "code",
   "execution_count": 15,
   "metadata": {
    "id": "T6_eq3Z6Ngl9"
   },
   "outputs": [],
   "source": [
    "# Create another dictionary to convert integers to their respective characters\n",
    "int_to_vocab = {}\n",
    "for word, value in vocab_to_int.items():\n",
    "    int_to_vocab[value] = word"
   ]
  },
  {
   "cell_type": "code",
   "execution_count": 16,
   "metadata": {
    "id": "uAAMKovYKq3D"
   },
   "outputs": [],
   "source": [
    "#change input to tokens_id\n",
    "def tokenizer(sentence):\n",
    "    tmp=[]\n",
    "    tmp.append(vocab_to_int[\"<sos>\"])\n",
    "    for word in word_tokenize(sentence):\n",
    "        cleaned_string = pattern.sub(\"\", word)\n",
    "        if cleaned_string not in vocab_to_int:\n",
    "            tmp.append(vocab_to_int[\"<PAD>\"])\n",
    "        else:\n",
    "          tmp.append(vocab_to_int[cleaned_string])\n",
    "    tmp.append(vocab_to_int[\"<eos>\"])\n",
    "    # padded_sequences = tf.keras.preprocessing.sequence.pad_sequences([tmp],maxlen=512 ,padding='post', value=vocab_to_int[\"<PAD>\"])\n",
    "    return tmp\n",
    "\n"
   ]
  },
  {
   "cell_type": "code",
   "execution_count": 17,
   "metadata": {
    "id": "_68o2y7HO9pK"
   },
   "outputs": [],
   "source": [
    "def detokenizer(tokens):\n",
    "    tmp=\"\"\n",
    "    for token in tokens:\n",
    "        tmp+=int_to_vocab[token]+\" \"\n",
    "    return tmp"
   ]
  },
  {
   "cell_type": "code",
   "execution_count": 18,
   "metadata": {
    "id": "jlZAWYfJKq0g"
   },
   "outputs": [],
   "source": [
    "lengths = []\n",
    "\n",
    "for ind in df.index:\n",
    "  wr_tokens = tokenizer(df.at[ind,\"wrong_sentence\"])\n",
    "  lengths.append(len(wr_tokens))\n",
    "  cor_tokens = tokenizer(df.at[ind,\"correct_sentence\"])\n",
    "  lengths.append(len(cor_tokens))"
   ]
  },
  {
   "cell_type": "code",
   "execution_count": 19,
   "metadata": {
    "colab": {
     "base_uri": "https://localhost:8080/",
     "height": 452
    },
    "id": "PqKl2MKGKqxp",
    "outputId": "04630e87-a3b8-497f-e4b9-3567e73d9a1b"
   },
   "outputs": [
    {
     "data": {
      "image/png": "[encoded data removed]",
      "text/plain": [
       "<Figure size 640x480 with 1 Axes>"
      ]
     },
     "metadata": {},
     "output_type": "display_data"
    }
   ],
   "source": [
    "\n",
    "plt.hist(lengths, np.linspace(0, 500, 101))\n",
    "plt.ylim(plt.ylim())\n",
    "max_length = max(lengths)\n",
    "plt.plot([max_length, max_length], plt.ylim())\n",
    "plt.title(f'Maximum tokens per example: {max_length}');"
   ]
  },
  {
   "cell_type": "code",
   "execution_count": 20,
   "metadata": {
    "id": "kfCX3Lp9y5uv"
   },
   "outputs": [],
   "source": [
    "wrong_sentence=[]\n",
    "correct_sentence_inputs=[]\n",
    "correct_sentence_labels=[]\n",
    "# MAX_TOKENS=256\n",
    "for ind in df.index:\n",
    "  wrong=tokenizer(df.at[ind,\"wrong_sentence\"])\n",
    "  # wrong=wrong[:, :MAX_TOKENS]    # Trim to MAX_TOKENS.\n",
    "  wrong_sentence.append(tf.keras.preprocessing.sequence.pad_sequences([wrong],maxlen=256 ,padding='post', value=vocab_to_int[\"<PAD>\"],truncating='post')\n",
    ")\n",
    "  correct_inputs=tokenizer(df.at[ind,\"correct_sentence\"])\n",
    "  # correct_sentence = correct_inputs[:, :(MAX_TOKENS+1)]\n",
    "  correct_sentence_inputs_one = correct_inputs[:-1]     #drop <eos>\n",
    "  correct_sentence_labels_one=correct_inputs[1:]        #drop <sos>\n",
    "  correct_sentence_inputs .append(tf.keras.preprocessing.sequence.pad_sequences([correct_sentence_inputs_one],maxlen=256 ,padding='post', value=vocab_to_int[\"<PAD>\"],truncating='post') )\n",
    "  correct_sentence_labels .append(tf.keras.preprocessing.sequence.pad_sequences([correct_sentence_labels_one],maxlen=256 ,padding='post', value=vocab_to_int[\"<PAD>\"],truncating='post') )\n"
   ]
  },
  {
   "cell_type": "code",
   "execution_count": 21,
   "metadata": {
    "id": "9DZQPQgH0CUd"
   },
   "outputs": [],
   "source": [
    "df=pd.DataFrame({\n",
    "    \"wrong_sentence\":wrong_sentence,\n",
    "    \"correct_sentence_inputs\":correct_sentence_inputs,\n",
    "    \"correct_sentence_labels\":correct_sentence_labels\n",
    "})"
   ]
  },
  {
   "cell_type": "code",
   "execution_count": 22,
   "metadata": {
    "id": "cLFO9YIIUYv6"
   },
   "outputs": [],
   "source": [
    "train,test=train_test_split(df,test_size=0.2,random_state=24)"
   ]
  },
  {
   "cell_type": "code",
   "execution_count": 23,
   "metadata": {
    "id": "GPQwbsXcdAUX"
   },
   "outputs": [],
   "source": [
    "correct_label=tf.convert_to_tensor(train['correct_sentence_labels'].tolist(), dtype=tf.int64)\n",
    "wrong=tf.convert_to_tensor(train['wrong_sentence'].tolist(), dtype=tf.int64)\n",
    "correct_inputs=tf.convert_to_tensor(train['correct_sentence_inputs'].tolist(), dtype=tf.int64)\n",
    "\n",
    "\n",
    "\n",
    "correct_label_test=tf.convert_to_tensor(test['correct_sentence_labels'].tolist(), dtype=tf.int64)\n",
    "wrong_test=tf.convert_to_tensor(test['wrong_sentence'].tolist(), dtype=tf.int64)\n",
    "correct_inputs_test=tf.convert_to_tensor(test['correct_sentence_inputs'].tolist(), dtype=tf.int64)\n",
    "\n"
   ]
  },
  {
   "cell_type": "code",
   "execution_count": 24,
   "metadata": {
    "id": "2q-yTYk5Fr1j"
   },
   "outputs": [],
   "source": [
    "correct_label=tf.squeeze(correct_label, axis=1)\n",
    "wrong=tf.squeeze(wrong, axis=1)\n",
    "correct_inputs=tf.squeeze(correct_inputs, axis=1)\n",
    "\n",
    "correct_label_test=tf.squeeze(correct_label_test, axis=1)\n",
    "wrong_test=tf.squeeze(wrong_test, axis=1)\n",
    "correct_inputs_test=tf.squeeze(correct_inputs_test, axis=1)\n"
   ]
  },
  {
   "cell_type": "code",
   "execution_count": 25,
   "metadata": {
    "id": "kiW7txpj4Zm8"
   },
   "outputs": [],
   "source": [
    "\n",
    "tensor_dict = (\n",
    "     wrong,\n",
    "     correct_inputs)\n",
    "tensor_dict_test = (\n",
    "     wrong_test,\n",
    "     correct_inputs_test\n",
    ")"
   ]
  },
  {
   "cell_type": "code",
   "execution_count": 25,
   "metadata": {
    "id": "K2LpTcyT5Yp4"
   },
   "outputs": [],
   "source": []
  },
  {
   "cell_type": "code",
   "execution_count": 26,
   "metadata": {
    "id": "ZKdJwU6BRKfU"
   },
   "outputs": [],
   "source": [
    "dataset_train = tf.data.Dataset.from_tensor_slices((tensor_dict,correct_label))\n",
    "dataset_test = tf.data.Dataset.from_tensor_slices((tensor_dict_test,correct_label_test))"
   ]
  },
  {
   "cell_type": "code",
   "execution_count": 27,
   "metadata": {
    "id": "pf7mMh-kRnvt"
   },
   "outputs": [],
   "source": [
    "\n",
    "MAX_TOKENS=128\n",
    "def prepare_batch(wrong_sentence,correct_sentence):\n",
    "    wrong_sentence = tokenizer(wrong_sentence)      # Output is ragged.\n",
    "    wrong_sentence = wrong_sentence[:, :MAX_TOKENS]    # Trim to MAX_TOKENS.\n",
    "    print(wrong_sentence)\n",
    "    wrong_sentence = wrong_sentence.to_tensor()  # Convert to 0-padded dense Tensor\n",
    "\n",
    "    correct_sentence = tokenizer(correct_sentence)\n",
    "    correct_sentence = correct_sentence[:, :(MAX_TOKENS+1)]\n",
    "    correct_sentence_inputs = correct_sentence[:, :-1].to_tensor()  # Drop the [END] tokens\n",
    "    correct_sentence_labels = correct_sentence[:, 1:].to_tensor()   # Drop the [START] tokens\n",
    "\n",
    "    return (wrong_sentence, correct_sentence_inputs), correct_sentence_labels"
   ]
  },
  {
   "cell_type": "code",
   "execution_count": 28,
   "metadata": {
    "id": "Z1FQQqHuKqsS"
   },
   "outputs": [],
   "source": [
    "BUFFER_SIZE = 20000\n",
    "BATCH_SIZE = 64"
   ]
  },
  {
   "cell_type": "code",
   "execution_count": 28,
   "metadata": {
    "id": "F3BAyAe0Q3zq"
   },
   "outputs": [],
   "source": []
  },
  {
   "cell_type": "code",
   "execution_count": 29,
   "metadata": {
    "id": "epWINy_lKqpV"
   },
   "outputs": [],
   "source": [
    "def make_batches(ds):\n",
    "  return (\n",
    "      ds\n",
    "      .shuffle(BUFFER_SIZE)\n",
    "      .batch(BATCH_SIZE))\n",
    "      # .map(prepare_batch, tf.data.AUTOTUNE)\n",
    "      # .prefetch(buffer_size=tf.data.AUTOTUNE))"
   ]
  },
  {
   "cell_type": "code",
   "execution_count": 30,
   "metadata": {
    "id": "Z-6k9N5fQ0qS"
   },
   "outputs": [],
   "source": [
    "# Create training and validation set batches.\n",
    "train_batches = make_batches(dataset_train)\n",
    "val_batches = make_batches(dataset_test)"
   ]
  },
  {
   "cell_type": "code",
   "execution_count": 31,
   "metadata": {
    "id": "Jgt0XnfxCm-L"
   },
   "outputs": [],
   "source": [
    "def positional_encoding(length, depth):\n",
    "  depth = depth/2\n",
    "\n",
    "  positions = np.arange(length)[:, np.newaxis]     # (seq, 1)\n",
    "  depths = np.arange(depth)[np.newaxis, :]/depth   # (1, depth)\n",
    "\n",
    "  angle_rates = 1 / (10000**depths)         # (1, depth)\n",
    "  angle_rads = positions * angle_rates      # (pos, depth)\n",
    "\n",
    "  pos_encoding = np.concatenate(\n",
    "      [np.sin(angle_rads), np.cos(angle_rads)],\n",
    "      axis=-1)\n",
    "\n",
    "  return tf.cast(pos_encoding, dtype=tf.float32)\n"
   ]
  },
  {
   "cell_type": "code",
   "execution_count": 32,
   "metadata": {
    "id": "IO5qLxJlCvpT"
   },
   "outputs": [],
   "source": [
    "class PositionalEmbedding(tf.keras.layers.Layer):\n",
    "  def __init__(self, vocab_size, d_model):\n",
    "    super().__init__()\n",
    "    self.d_model = d_model\n",
    "    self.embedding = tf.keras.layers.Embedding(vocab_size, d_model, mask_zero=True)\n",
    "    self.pos_encoding = positional_encoding(length=2048, depth=d_model)\n",
    "\n",
    "  def compute_mask(self, *args, **kwargs):\n",
    "    return self.embedding.compute_mask(*args, **kwargs)\n",
    "\n",
    "  def call(self, x):\n",
    "    length = tf.shape(x)[1]\n",
    "    x = self.embedding(x)\n",
    "    # This factor sets the relative scale of the embedding and positonal_encoding.\n",
    "    x *= tf.math.sqrt(tf.cast(self.d_model, tf.float32))\n",
    "    x = x + self.pos_encoding[tf.newaxis, :length, :]\n",
    "    return x"
   ]
  },
  {
   "cell_type": "code",
   "execution_count": 33,
   "metadata": {
    "colab": {
     "base_uri": "https://localhost:8080/"
    },
    "id": "IdGErdpt-tZz",
    "outputId": "089244a8-50e9-47b2-c054-de4eb57f4d71"
   },
   "outputs": [
    {
     "name": "stdout",
     "output_type": "stream",
     "text": [
      "(64, 256)\n",
      "(64, 256)\n",
      "(64, 256)\n",
      "tf.Tensor([ 64 256], shape=(2,), dtype=int32)\n"
     ]
    }
   ],
   "source": [
    "for (wrong_sentence,correct_sentence), correct_sentence_labels in train_batches.take(1):\n",
    "  break\n",
    "print(wrong_sentence.shape)\n",
    "print(correct_sentence.shape)\n",
    "print(correct_sentence_labels.shape)\n",
    "print(tf.shape(wrong_sentence))"
   ]
  },
  {
   "cell_type": "code",
   "execution_count": 34,
   "metadata": {
    "colab": {
     "base_uri": "https://localhost:8080/"
    },
    "id": "5syWSMLiC4Ls",
    "outputId": "63df3742-1389-45a0-8d07-8ef34c0ea476"
   },
   "outputs": [
    {
     "name": "stdout",
     "output_type": "stream",
     "text": [
      "(64, 256, 512)\n"
     ]
    }
   ],
   "source": [
    "embed_wrong = PositionalEmbedding(vocab_size=len(vocab_to_int), d_model=512)\n",
    "embed_correct = PositionalEmbedding(vocab_size=len(vocab_to_int), d_model=512)\n",
    "\n",
    "wrong_emb = embed_wrong(wrong_sentence)\n",
    "correct_emb = embed_correct(correct_sentence)\n",
    "print(wrong_emb.shape)"
   ]
  },
  {
   "cell_type": "code",
   "execution_count": 35,
   "metadata": {
    "id": "4G12SepD7PXL"
   },
   "outputs": [],
   "source": [
    "class BaseAttention(tf.keras.layers.Layer):\n",
    "  def __init__(self, **kwargs):\n",
    "    super().__init__()\n",
    "    self.mha = tf.keras.layers.MultiHeadAttention(**kwargs)\n",
    "    self.layernorm = tf.keras.layers.LayerNormalization()\n",
    "    self.add = tf.keras.layers.Add()\n"
   ]
  },
  {
   "cell_type": "code",
   "execution_count": 36,
   "metadata": {
    "id": "p-1d0LMf8eTA"
   },
   "outputs": [],
   "source": [
    "class CrossAttention(BaseAttention):\n",
    "  def call(self, x, context):\n",
    "    attn_output, attn_scores = self.mha(\n",
    "        query=x,\n",
    "        key=context,\n",
    "        value=context,\n",
    "        return_attention_scores=True)\n",
    "\n",
    "    # Cache the attention scores for plotting later.\n",
    "    self.last_attn_scores = attn_scores\n",
    "\n",
    "    x = self.add([x, attn_output])\n",
    "    x = self.layernorm(x)\n",
    "\n",
    "    return x"
   ]
  },
  {
   "cell_type": "code",
   "execution_count": 37,
   "metadata": {
    "id": "4xSQBoMG8fR2"
   },
   "outputs": [],
   "source": [
    "class GlobalSelfAttention(BaseAttention):\n",
    "  def call(self, x):\n",
    "    attn_output = self.mha(\n",
    "        query=x,\n",
    "        value=x,\n",
    "        key=x)\n",
    "    x = self.add([x, attn_output])\n",
    "    x = self.layernorm(x)\n",
    "    return x"
   ]
  },
  {
   "cell_type": "code",
   "execution_count": 38,
   "metadata": {
    "id": "2TNYIVqR9yss"
   },
   "outputs": [],
   "source": [
    "class CausalSelfAttention(BaseAttention):\n",
    "  def call(self, x):\n",
    "    attn_output = self.mha(\n",
    "        query=x,\n",
    "        value=x,\n",
    "        key=x,\n",
    "        use_causal_mask = True)\n",
    "    x = self.add([x, attn_output])\n",
    "    x = self.layernorm(x)\n",
    "    return x"
   ]
  },
  {
   "cell_type": "code",
   "execution_count": 39,
   "metadata": {
    "id": "gzeh5bqR_y8F"
   },
   "outputs": [],
   "source": [
    "class FeedForward(tf.keras.layers.Layer):\n",
    "  def __init__(self, d_model, dff, dropout_rate=0.1):\n",
    "    super().__init__()\n",
    "    self.seq = tf.keras.Sequential([\n",
    "      tf.keras.layers.Dense(dff, activation='relu'),\n",
    "      tf.keras.layers.Dense(d_model),\n",
    "      tf.keras.layers.Dropout(dropout_rate)\n",
    "    ])\n",
    "    self.add = tf.keras.layers.Add()\n",
    "    self.layer_norm = tf.keras.layers.LayerNormalization()\n",
    "\n",
    "  def call(self, x):\n",
    "    x = self.add([x, self.seq(x)])\n",
    "    x = self.layer_norm(x)\n",
    "    return x"
   ]
  },
  {
   "cell_type": "code",
   "execution_count": 40,
   "metadata": {
    "id": "-5u2_8KC_7js"
   },
   "outputs": [],
   "source": [
    "class EncoderLayer(tf.keras.layers.Layer):\n",
    "  def __init__(self,*, d_model, num_heads, dff, dropout_rate=0.1):\n",
    "    super().__init__()\n",
    "\n",
    "    self.self_attention = GlobalSelfAttention(\n",
    "        num_heads=num_heads,\n",
    "        key_dim=d_model,\n",
    "        dropout=dropout_rate)\n",
    "\n",
    "    self.ffn = FeedForward(d_model, dff)\n",
    "\n",
    "  def call(self, x):\n",
    "    x = self.self_attention(x)\n",
    "    x = self.ffn(x)\n",
    "    return x"
   ]
  },
  {
   "cell_type": "code",
   "execution_count": 41,
   "metadata": {
    "id": "O-afzG-zAGFH"
   },
   "outputs": [],
   "source": [
    "class Encoder(tf.keras.layers.Layer):\n",
    "  def __init__(self, *, num_layers, d_model, num_heads,\n",
    "               dff, vocab_size, dropout_rate=0.1):\n",
    "    super().__init__()\n",
    "\n",
    "    self.d_model = d_model\n",
    "    self.num_layers = num_layers\n",
    "\n",
    "    self.pos_embedding = PositionalEmbedding(\n",
    "        vocab_size=vocab_size, d_model=d_model)\n",
    "\n",
    "    self.enc_layers = [\n",
    "        EncoderLayer(d_model=d_model,\n",
    "                     num_heads=num_heads,\n",
    "                     dff=dff,\n",
    "                     dropout_rate=dropout_rate)\n",
    "        for _ in range(num_layers)]\n",
    "    self.dropout = tf.keras.layers.Dropout(dropout_rate)\n",
    "\n",
    "  def call(self, x):\n",
    "    # `x` is token-IDs shape: (batch, seq_len)\n",
    "    x = self.pos_embedding(x)  # Shape `(batch_size, seq_len, d_model)`.\n",
    "\n",
    "    # Add dropout.\n",
    "    x = self.dropout(x)\n",
    "\n",
    "    for i in range(self.num_layers):\n",
    "      x = self.enc_layers[i](x)\n",
    "\n",
    "    return x  # Shape `(batch_size, seq_len, d_model)`.\n"
   ]
  },
  {
   "cell_type": "code",
   "execution_count": 42,
   "metadata": {
    "id": "f58eAaa0Atem"
   },
   "outputs": [],
   "source": [
    "class DecoderLayer(tf.keras.layers.Layer):\n",
    "  def __init__(self,\n",
    "               *,\n",
    "               d_model,\n",
    "               num_heads,\n",
    "               dff,\n",
    "               dropout_rate=0.1):\n",
    "    super(DecoderLayer, self).__init__()\n",
    "\n",
    "    self.causal_self_attention = CausalSelfAttention(\n",
    "        num_heads=num_heads,\n",
    "        key_dim=d_model,\n",
    "        dropout=dropout_rate)\n",
    "\n",
    "    self.cross_attention = CrossAttention(\n",
    "        num_heads=num_heads,\n",
    "        key_dim=d_model,\n",
    "        dropout=dropout_rate)\n",
    "\n",
    "    self.ffn = FeedForward(d_model, dff)\n",
    "\n",
    "  def call(self, x, context):\n",
    "    x = self.causal_self_attention(x=x)\n",
    "    x = self.cross_attention(x=x, context=context)\n",
    "\n",
    "    # Cache the last attention scores for plotting later\n",
    "    self.last_attn_scores = self.cross_attention.last_attn_scores\n",
    "\n",
    "    x = self.ffn(x)  # Shape `(batch_size, seq_len, d_model)`.\n",
    "    return x"
   ]
  },
  {
   "cell_type": "code",
   "execution_count": 43,
   "metadata": {
    "id": "iRmRXWvIAz_j"
   },
   "outputs": [],
   "source": [
    "class Decoder(tf.keras.layers.Layer):\n",
    "  def __init__(self, *, num_layers, d_model, num_heads, dff, vocab_size,\n",
    "               dropout_rate=0.1):\n",
    "    super(Decoder, self).__init__()\n",
    "\n",
    "    self.d_model = d_model\n",
    "    self.num_layers = num_layers\n",
    "\n",
    "    self.pos_embedding = PositionalEmbedding(vocab_size=vocab_size,\n",
    "                                             d_model=d_model)\n",
    "    self.dropout = tf.keras.layers.Dropout(dropout_rate)\n",
    "    self.dec_layers = [\n",
    "        DecoderLayer(d_model=d_model, num_heads=num_heads,\n",
    "                     dff=dff, dropout_rate=dropout_rate)\n",
    "        for _ in range(num_layers)]\n",
    "\n",
    "    self.last_attn_scores = None\n",
    "\n",
    "  def call(self, x, context):\n",
    "    # `x` is token-IDs shape (batch, target_seq_len)\n",
    "    x = self.pos_embedding(x)  # (batch_size, target_seq_len, d_model)\n",
    "\n",
    "    x = self.dropout(x)\n",
    "\n",
    "    for i in range(self.num_layers):\n",
    "      x  = self.dec_layers[i](x, context)\n",
    "\n",
    "    self.last_attn_scores = self.dec_layers[-1].last_attn_scores\n",
    "\n",
    "    # The shape of x is (batch_size, target_seq_len, d_model).\n",
    "    return x"
   ]
  },
  {
   "cell_type": "code",
   "execution_count": 44,
   "metadata": {
    "id": "fWpVS0R1A2Q-"
   },
   "outputs": [],
   "source": [
    "@tf.keras.utils.register_keras_serializable()\n",
    "class Transformer(tf.keras.Model):\n",
    "  def __init__(self, *, num_layers, d_model, num_heads, dff,\n",
    "               input_vocab_size, target_vocab_size, dropout_rate=0.1,**kwargs):\n",
    "    super(Transformer, self).__init__(**kwargs)\n",
    "    self.num_layers = num_layers\n",
    "    self.d_model = d_model\n",
    "    self.num_heads = num_heads\n",
    "    self.dff = dff\n",
    "    self.input_vocab_size = input_vocab_size\n",
    "    self.target_vocab_size = target_vocab_size\n",
    "    self.dropout_rate = dropout_rate\n",
    "    self.encoder = Encoder(num_layers=num_layers, d_model=d_model,\n",
    "                           num_heads=num_heads, dff=dff,\n",
    "                           vocab_size=input_vocab_size,\n",
    "                           dropout_rate=dropout_rate)\n",
    "\n",
    "    self.decoder = Decoder(num_layers=num_layers, d_model=d_model,\n",
    "                           num_heads=num_heads, dff=dff,\n",
    "                           vocab_size=target_vocab_size,\n",
    "                           dropout_rate=dropout_rate)\n",
    "\n",
    "    self.final_layer = tf.keras.layers.Dense(target_vocab_size)\n",
    "\n",
    "  def call(self, inputs):\n",
    "    # To use a Keras model with `.fit` you must pass all your inputs in the\n",
    "    # first argument.\n",
    "    context, x  = inputs\n",
    "\n",
    "    context = self.encoder(context)  # (batch_size, context_len, d_model)\n",
    "\n",
    "    x = self.decoder(x, context)  # (batch_size, target_len, d_model)\n",
    "\n",
    "    # Final linear layer output.\n",
    "    logits = self.final_layer(x)  # (batch_size, target_len, target_vocab_size)\n",
    "\n",
    "    try:\n",
    "      # Drop the keras mask, so it doesn't scale the losses/metrics.\n",
    "      # b/250038731\n",
    "      del logits._keras_mask\n",
    "    except AttributeError:\n",
    "      pass\n",
    "\n",
    "    # Return the final output and the attention weights.\n",
    "    return logits\n",
    "  def get_config(self):\n",
    "      config = super(Transformer, self).get_config()\n",
    "      # Add additional config parameters if needed\n",
    "      config.update({\n",
    "          'num_layers': self.num_layers,\n",
    "          'd_model': self.d_model,\n",
    "          'num_heads': self.num_heads,\n",
    "          'dff': self.dff,\n",
    "          'input_vocab_size': self.input_vocab_size,\n",
    "          'target_vocab_size': self.target_vocab_size,\n",
    "          'dropout_rate': self.dropout_rate,\n",
    "      })\n",
    "      return config"
   ]
  },
  {
   "cell_type": "code",
   "execution_count": 45,
   "metadata": {
    "id": "7Xk_VsjcBm4Z"
   },
   "outputs": [],
   "source": [
    "num_layers = 4\n",
    "d_model = 128\n",
    "dff = 512\n",
    "num_heads = 8\n",
    "dropout_rate = 0.1"
   ]
  },
  {
   "cell_type": "code",
   "execution_count": 46,
   "metadata": {
    "id": "8cu56QXiQFvr"
   },
   "outputs": [],
   "source": [
    "transformer = Transformer(\n",
    "    num_layers=num_layers,\n",
    "    d_model=d_model,\n",
    "    num_heads=num_heads,\n",
    "    dff=dff,\n",
    "    input_vocab_size=len(vocab_to_int),\n",
    "    target_vocab_size=len(vocab_to_int),\n",
    "    dropout_rate=dropout_rate)"
   ]
  },
  {
   "cell_type": "code",
   "execution_count": 47,
   "metadata": {
    "id": "PrrV0G4qB2rh"
   },
   "outputs": [],
   "source": [
    "transformer = Transformer(\n",
    "    num_layers=num_layers,\n",
    "    d_model=d_model,\n",
    "    num_heads=num_heads,\n",
    "    dff=dff,\n",
    "    input_vocab_size=len(vocab_to_int),\n",
    "    target_vocab_size=len(vocab_to_int),\n",
    "    dropout_rate=dropout_rate)"
   ]
  },
  {
   "cell_type": "code",
   "execution_count": 48,
   "metadata": {
    "id": "yCIAmc3XB60w"
   },
   "outputs": [],
   "source": [
    "@tf.keras.utils.register_keras_serializable()\n",
    "class CustomSchedule(tf.keras.optimizers.schedules.LearningRateSchedule):\n",
    "  def __init__(self, d_model, warmup_steps=4000):\n",
    "    super().__init__()\n",
    "\n",
    "    self.d_model = d_model\n",
    "    self.d_model = tf.cast(self.d_model, tf.float32)\n",
    "\n",
    "    self.warmup_steps = warmup_steps\n",
    "\n",
    "  def __call__(self, step):\n",
    "    step = tf.cast(step, dtype=tf.float32)\n",
    "    arg1 = tf.math.rsqrt(step)\n",
    "    arg2 = step * (self.warmup_steps ** -1.5)\n",
    "\n",
    "    return tf.math.rsqrt(self.d_model) * tf.math.minimum(arg1, arg2)\n",
    "  def get_config(self):\n",
    "        return {\n",
    "            'd_model': self.d_model.numpy(),  # Convert tensor to Python float\n",
    "            'warmup_steps': self.warmup_steps,\n",
    "        }"
   ]
  },
  {
   "cell_type": "code",
   "execution_count": 49,
   "metadata": {
    "id": "A9xusyZUCpXx"
   },
   "outputs": [],
   "source": [
    "learning_rate = CustomSchedule(d_model)\n",
    "\n",
    "optimizer = tf.keras.optimizers.Adam(learning_rate, beta_1=0.9, beta_2=0.98,\n",
    "                                     epsilon=1e-9)"
   ]
  },
  {
   "cell_type": "code",
   "execution_count": 50,
   "metadata": {
    "colab": {
     "base_uri": "https://localhost:8080/",
     "height": 466
    },
    "id": "3O7UI3zlCvDK",
    "outputId": "12ef40d0-f343-4761-d3ef-6b1b2efa9f3b"
   },
   "outputs": [
    {
     "data": {
      "text/plain": [
       "Text(0.5, 0, 'Train Step')"
      ]
     },
     "execution_count": 50,
     "metadata": {},
     "output_type": "execute_result"
    },
    {
     "data": {
      "image/png": "[encoded data removed]",
      "text/plain": [
       "<Figure size 640x480 with 1 Axes>"
      ]
     },
     "metadata": {},
     "output_type": "display_data"
    }
   ],
   "source": [
    "plt.plot(learning_rate(tf.range(40000, dtype=tf.float32)))\n",
    "plt.ylabel('Learning Rate')\n",
    "plt.xlabel('Train Step')"
   ]
  },
  {
   "cell_type": "code",
   "execution_count": 51,
   "metadata": {
    "id": "qW4E5DqaC9SK"
   },
   "outputs": [],
   "source": [
    "@tf.keras.utils.register_keras_serializable()\n",
    "def masked_loss(label, pred):\n",
    "  mask = label != 0\n",
    "  loss_object = tf.keras.losses.SparseCategoricalCrossentropy(\n",
    "    from_logits=True, reduction='none')\n",
    "  loss = loss_object(label, pred)\n",
    "\n",
    "  mask = tf.cast(mask, dtype=loss.dtype)\n",
    "  loss *= mask\n",
    "\n",
    "  loss = tf.reduce_sum(loss)/tf.reduce_sum(mask)\n",
    "  return loss\n"
   ]
  },
  {
   "cell_type": "code",
   "execution_count": 52,
   "metadata": {
    "id": "095iqf2KC-GP"
   },
   "outputs": [],
   "source": [
    "@tf.keras.utils.register_keras_serializable()\n",
    "def masked_accuracy(label, pred):\n",
    "  pred = tf.argmax(pred, axis=2)\n",
    "  label = tf.cast(label, pred.dtype)\n",
    "  match = label == pred\n",
    "\n",
    "  mask = label != 0\n",
    "\n",
    "  match = match & mask\n",
    "\n",
    "  match = tf.cast(match, dtype=tf.float32)\n",
    "  mask = tf.cast(mask, dtype=tf.float32)\n",
    "  return tf.reduce_sum(match)/tf.reduce_sum(mask)\n"
   ]
  },
  {
   "cell_type": "code",
   "execution_count": 53,
   "metadata": {
    "id": "4zLVzNcpDIL4"
   },
   "outputs": [],
   "source": [
    "transformer.compile(\n",
    "    loss=masked_loss,\n",
    "    optimizer=optimizer,\n",
    "    metrics=[masked_accuracy])"
   ]
  },
  {
   "cell_type": "code",
   "execution_count": 54,
   "metadata": {
    "colab": {
     "base_uri": "https://localhost:8080/"
    },
    "id": "z9VSkwuUDM4j",
    "outputId": "eac6fdfd-bbc8-465c-8592-c5c046ec2f50"
   },
   "outputs": [
    {
     "name": "stdout",
     "output_type": "stream",
     "text": [
      "Epoch 1/30\n"
     ]
    },
    {
     "name": "stderr",
     "output_type": "stream",
     "text": [
      "/usr/local/lib/python3.10/dist-packages/keras/src/layers/layer.py:915: UserWarning: Layer 'query' (of type EinsumDense) was passed an input with a mask attached to it. However, this layer does not support masking and will therefore destroy the mask information. Downstream layers will not see the mask.\n",
      "  warnings.warn(\n",
      "/usr/local/lib/python3.10/dist-packages/keras/src/layers/layer.py:915: UserWarning: Layer 'key' (of type EinsumDense) was passed an input with a mask attached to it. However, this layer does not support masking and will therefore destroy the mask information. Downstream layers will not see the mask.\n",
      "  warnings.warn(\n",
      "/usr/local/lib/python3.10/dist-packages/keras/src/layers/layer.py:915: UserWarning: Layer 'value' (of type EinsumDense) was passed an input with a mask attached to it. However, this layer does not support masking and will therefore destroy the mask information. Downstream layers will not see the mask.\n",
      "  warnings.warn(\n",
      "/usr/local/lib/python3.10/dist-packages/keras/src/layers/layer.py:915: UserWarning: Layer 'global_self_attention_4' (of type GlobalSelfAttention) was passed an input with a mask attached to it. However, this layer does not support masking and will therefore destroy the mask information. Downstream layers will not see the mask.\n",
      "  warnings.warn(\n",
      "/usr/local/lib/python3.10/dist-packages/keras/src/layers/layer.py:915: UserWarning: Layer 'sequential_8' (of type Sequential) was passed an input with a mask attached to it. However, this layer does not support masking and will therefore destroy the mask information. Downstream layers will not see the mask.\n",
      "  warnings.warn(\n",
      "/usr/local/lib/python3.10/dist-packages/keras/src/layers/layer.py:915: UserWarning: Layer 'feed_forward_8' (of type FeedForward) was passed an input with a mask attached to it. However, this layer does not support masking and will therefore destroy the mask information. Downstream layers will not see the mask.\n",
      "  warnings.warn(\n",
      "/usr/local/lib/python3.10/dist-packages/keras/src/layers/layer.py:915: UserWarning: Layer 'encoder_layer_4' (of type EncoderLayer) was passed an input with a mask attached to it. However, this layer does not support masking and will therefore destroy the mask information. Downstream layers will not see the mask.\n",
      "  warnings.warn(\n",
      "/usr/local/lib/python3.10/dist-packages/keras/src/layers/layer.py:915: UserWarning: Layer 'global_self_attention_5' (of type GlobalSelfAttention) was passed an input with a mask attached to it. However, this layer does not support masking and will therefore destroy the mask information. Downstream layers will not see the mask.\n",
      "  warnings.warn(\n",
      "/usr/local/lib/python3.10/dist-packages/keras/src/layers/layer.py:915: UserWarning: Layer 'sequential_9' (of type Sequential) was passed an input with a mask attached to it. However, this layer does not support masking and will therefore destroy the mask information. Downstream layers will not see the mask.\n",
      "  warnings.warn(\n",
      "/usr/local/lib/python3.10/dist-packages/keras/src/layers/layer.py:915: UserWarning: Layer 'feed_forward_9' (of type FeedForward) was passed an input with a mask attached to it. However, this layer does not support masking and will therefore destroy the mask information. Downstream layers will not see the mask.\n",
      "  warnings.warn(\n",
      "/usr/local/lib/python3.10/dist-packages/keras/src/layers/layer.py:915: UserWarning: Layer 'encoder_layer_5' (of type EncoderLayer) was passed an input with a mask attached to it. However, this layer does not support masking and will therefore destroy the mask information. Downstream layers will not see the mask.\n",
      "  warnings.warn(\n",
      "/usr/local/lib/python3.10/dist-packages/keras/src/layers/layer.py:915: UserWarning: Layer 'global_self_attention_6' (of type GlobalSelfAttention) was passed an input with a mask attached to it. However, this layer does not support masking and will therefore destroy the mask information. Downstream layers will not see the mask.\n",
      "  warnings.warn(\n",
      "/usr/local/lib/python3.10/dist-packages/keras/src/layers/layer.py:915: UserWarning: Layer 'sequential_10' (of type Sequential) was passed an input with a mask attached to it. However, this layer does not support masking and will therefore destroy the mask information. Downstream layers will not see the mask.\n",
      "  warnings.warn(\n",
      "/usr/local/lib/python3.10/dist-packages/keras/src/layers/layer.py:915: UserWarning: Layer 'feed_forward_10' (of type FeedForward) was passed an input with a mask attached to it. However, this layer does not support masking and will therefore destroy the mask information. Downstream layers will not see the mask.\n",
      "  warnings.warn(\n",
      "/usr/local/lib/python3.10/dist-packages/keras/src/layers/layer.py:915: UserWarning: Layer 'encoder_layer_6' (of type EncoderLayer) was passed an input with a mask attached to it. However, this layer does not support masking and will therefore destroy the mask information. Downstream layers will not see the mask.\n",
      "  warnings.warn(\n",
      "/usr/local/lib/python3.10/dist-packages/keras/src/layers/layer.py:915: UserWarning: Layer 'global_self_attention_7' (of type GlobalSelfAttention) was passed an input with a mask attached to it. However, this layer does not support masking and will therefore destroy the mask information. Downstream layers will not see the mask.\n",
      "  warnings.warn(\n",
      "/usr/local/lib/python3.10/dist-packages/keras/src/layers/layer.py:915: UserWarning: Layer 'sequential_11' (of type Sequential) was passed an input with a mask attached to it. However, this layer does not support masking and will therefore destroy the mask information. Downstream layers will not see the mask.\n",
      "  warnings.warn(\n",
      "/usr/local/lib/python3.10/dist-packages/keras/src/layers/layer.py:915: UserWarning: Layer 'feed_forward_11' (of type FeedForward) was passed an input with a mask attached to it. However, this layer does not support masking and will therefore destroy the mask information. Downstream layers will not see the mask.\n",
      "  warnings.warn(\n",
      "/usr/local/lib/python3.10/dist-packages/keras/src/layers/layer.py:915: UserWarning: Layer 'encoder_layer_7' (of type EncoderLayer) was passed an input with a mask attached to it. However, this layer does not support masking and will therefore destroy the mask information. Downstream layers will not see the mask.\n",
      "  warnings.warn(\n",
      "/usr/local/lib/python3.10/dist-packages/keras/src/layers/layer.py:915: UserWarning: Layer 'causal_self_attention_4' (of type CausalSelfAttention) was passed an input with a mask attached to it. However, this layer does not support masking and will therefore destroy the mask information. Downstream layers will not see the mask.\n",
      "  warnings.warn(\n",
      "/usr/local/lib/python3.10/dist-packages/keras/src/layers/layer.py:915: UserWarning: Layer 'cross_attention_4' (of type CrossAttention) was passed an input with a mask attached to it. However, this layer does not support masking and will therefore destroy the mask information. Downstream layers will not see the mask.\n",
      "  warnings.warn(\n",
      "/usr/local/lib/python3.10/dist-packages/keras/src/layers/layer.py:915: UserWarning: Layer 'sequential_12' (of type Sequential) was passed an input with a mask attached to it. However, this layer does not support masking and will therefore destroy the mask information. Downstream layers will not see the mask.\n",
      "  warnings.warn(\n",
      "/usr/local/lib/python3.10/dist-packages/keras/src/layers/layer.py:915: UserWarning: Layer 'feed_forward_12' (of type FeedForward) was passed an input with a mask attached to it. However, this layer does not support masking and will therefore destroy the mask information. Downstream layers will not see the mask.\n",
      "  warnings.warn(\n",
      "/usr/local/lib/python3.10/dist-packages/keras/src/layers/layer.py:915: UserWarning: Layer 'decoder_layer_4' (of type DecoderLayer) was passed an input with a mask attached to it. However, this layer does not support masking and will therefore destroy the mask information. Downstream layers will not see the mask.\n",
      "  warnings.warn(\n",
      "/usr/local/lib/python3.10/dist-packages/keras/src/layers/layer.py:915: UserWarning: Layer 'causal_self_attention_5' (of type CausalSelfAttention) was passed an input with a mask attached to it. However, this layer does not support masking and will therefore destroy the mask information. Downstream layers will not see the mask.\n",
      "  warnings.warn(\n",
      "/usr/local/lib/python3.10/dist-packages/keras/src/layers/layer.py:915: UserWarning: Layer 'cross_attention_5' (of type CrossAttention) was passed an input with a mask attached to it. However, this layer does not support masking and will therefore destroy the mask information. Downstream layers will not see the mask.\n",
      "  warnings.warn(\n",
      "/usr/local/lib/python3.10/dist-packages/keras/src/layers/layer.py:915: UserWarning: Layer 'sequential_13' (of type Sequential) was passed an input with a mask attached to it. However, this layer does not support masking and will therefore destroy the mask information. Downstream layers will not see the mask.\n",
      "  warnings.warn(\n",
      "/usr/local/lib/python3.10/dist-packages/keras/src/layers/layer.py:915: UserWarning: Layer 'feed_forward_13' (of type FeedForward) was passed an input with a mask attached to it. However, this layer does not support masking and will therefore destroy the mask information. Downstream layers will not see the mask.\n",
      "  warnings.warn(\n",
      "/usr/local/lib/python3.10/dist-packages/keras/src/layers/layer.py:915: UserWarning: Layer 'decoder_layer_5' (of type DecoderLayer) was passed an input with a mask attached to it. However, this layer does not support masking and will therefore destroy the mask information. Downstream layers will not see the mask.\n",
      "  warnings.warn(\n",
      "/usr/local/lib/python3.10/dist-packages/keras/src/layers/layer.py:915: UserWarning: Layer 'causal_self_attention_6' (of type CausalSelfAttention) was passed an input with a mask attached to it. However, this layer does not support masking and will therefore destroy the mask information. Downstream layers will not see the mask.\n",
      "  warnings.warn(\n",
      "/usr/local/lib/python3.10/dist-packages/keras/src/layers/layer.py:915: UserWarning: Layer 'cross_attention_6' (of type CrossAttention) was passed an input with a mask attached to it. However, this layer does not support masking and will therefore destroy the mask information. Downstream layers will not see the mask.\n",
      "  warnings.warn(\n",
      "/usr/local/lib/python3.10/dist-packages/keras/src/layers/layer.py:915: UserWarning: Layer 'sequential_14' (of type Sequential) was passed an input with a mask attached to it. However, this layer does not support masking and will therefore destroy the mask information. Downstream layers will not see the mask.\n",
      "  warnings.warn(\n",
      "/usr/local/lib/python3.10/dist-packages/keras/src/layers/layer.py:915: UserWarning: Layer 'feed_forward_14' (of type FeedForward) was passed an input with a mask attached to it. However, this layer does not support masking and will therefore destroy the mask information. Downstream layers will not see the mask.\n",
      "  warnings.warn(\n",
      "/usr/local/lib/python3.10/dist-packages/keras/src/layers/layer.py:915: UserWarning: Layer 'decoder_layer_6' (of type DecoderLayer) was passed an input with a mask attached to it. However, this layer does not support masking and will therefore destroy the mask information. Downstream layers will not see the mask.\n",
      "  warnings.warn(\n",
      "/usr/local/lib/python3.10/dist-packages/keras/src/layers/layer.py:915: UserWarning: Layer 'causal_self_attention_7' (of type CausalSelfAttention) was passed an input with a mask attached to it. However, this layer does not support masking and will therefore destroy the mask information. Downstream layers will not see the mask.\n",
      "  warnings.warn(\n",
      "/usr/local/lib/python3.10/dist-packages/keras/src/layers/layer.py:915: UserWarning: Layer 'cross_attention_7' (of type CrossAttention) was passed an input with a mask attached to it. However, this layer does not support masking and will therefore destroy the mask information. Downstream layers will not see the mask.\n",
      "  warnings.warn(\n",
      "/usr/local/lib/python3.10/dist-packages/keras/src/layers/layer.py:915: UserWarning: Layer 'sequential_15' (of type Sequential) was passed an input with a mask attached to it. However, this layer does not support masking and will therefore destroy the mask information. Downstream layers will not see the mask.\n",
      "  warnings.warn(\n",
      "/usr/local/lib/python3.10/dist-packages/keras/src/layers/layer.py:915: UserWarning: Layer 'feed_forward_15' (of type FeedForward) was passed an input with a mask attached to it. However, this layer does not support masking and will therefore destroy the mask information. Downstream layers will not see the mask.\n",
      "  warnings.warn(\n",
      "/usr/local/lib/python3.10/dist-packages/keras/src/layers/layer.py:915: UserWarning: Layer 'decoder_layer_7' (of type DecoderLayer) was passed an input with a mask attached to it. However, this layer does not support masking and will therefore destroy the mask information. Downstream layers will not see the mask.\n",
      "  warnings.warn(\n"
     ]
    },
    {
     "name": "stdout",
     "output_type": "stream",
     "text": [
      "\u001b[1m60/60\u001b[0m \u001b[32m━━━━━━━━━━━━━━━━━━━━\u001b[0m\u001b[37m\u001b[0m \u001b[1m128s\u001b[0m 1s/step - loss: 9.0355 - masked_accuracy: 0.0020 - val_loss: 8.8554 - val_masked_accuracy: 0.0542\n",
      "Epoch 2/30\n",
      "\u001b[1m60/60\u001b[0m \u001b[32m━━━━━━━━━━━━━━━━━━━━\u001b[0m\u001b[37m\u001b[0m \u001b[1m87s\u001b[0m 639ms/step - loss: 8.7958 - masked_accuracy: 0.0544 - val_loss: 8.5829 - val_masked_accuracy: 0.0601\n",
      "Epoch 3/30\n",
      "\u001b[1m60/60\u001b[0m \u001b[32m━━━━━━━━━━━━━━━━━━━━\u001b[0m\u001b[37m\u001b[0m \u001b[1m39s\u001b[0m 608ms/step - loss: 8.4826 - masked_accuracy: 0.0629 - val_loss: 8.1634 - val_masked_accuracy: 0.0754\n",
      "Epoch 4/30\n",
      "\u001b[1m60/60\u001b[0m \u001b[32m━━━━━━━━━━━━━━━━━━━━\u001b[0m\u001b[37m\u001b[0m \u001b[1m37s\u001b[0m 613ms/step - loss: 8.0316 - masked_accuracy: 0.0819 - val_loss: 7.6656 - val_masked_accuracy: 0.0920\n",
      "Epoch 5/30\n",
      "\u001b[1m60/60\u001b[0m \u001b[32m━━━━━━━━━━━━━━━━━━━━\u001b[0m\u001b[37m\u001b[0m \u001b[1m43s\u001b[0m 648ms/step - loss: 7.5173 - masked_accuracy: 0.0964 - val_loss: 7.1768 - val_masked_accuracy: 0.1073\n",
      "Epoch 6/30\n",
      "\u001b[1m60/60\u001b[0m \u001b[32m━━━━━━━━━━━━━━━━━━━━\u001b[0m\u001b[37m\u001b[0m \u001b[1m37s\u001b[0m 613ms/step - loss: 7.0382 - masked_accuracy: 0.1132 - val_loss: 6.7559 - val_masked_accuracy: 0.1317\n",
      "Epoch 7/30\n",
      "\u001b[1m60/60\u001b[0m \u001b[32m━━━━━━━━━━━━━━━━━━━━\u001b[0m\u001b[37m\u001b[0m \u001b[1m43s\u001b[0m 646ms/step - loss: 6.6166 - masked_accuracy: 0.1551 - val_loss: 6.3871 - val_masked_accuracy: 0.1787\n",
      "Epoch 8/30\n",
      "\u001b[1m60/60\u001b[0m \u001b[32m━━━━━━━━━━━━━━━━━━━━\u001b[0m\u001b[37m\u001b[0m \u001b[1m37s\u001b[0m 618ms/step - loss: 6.2344 - masked_accuracy: 0.1888 - val_loss: 5.9978 - val_masked_accuracy: 0.1982\n",
      "Epoch 9/30\n",
      "\u001b[1m60/60\u001b[0m \u001b[32m━━━━━━━━━━━━━━━━━━━━\u001b[0m\u001b[37m\u001b[0m \u001b[1m37s\u001b[0m 615ms/step - loss: 5.7994 - masked_accuracy: 0.2153 - val_loss: 5.5495 - val_masked_accuracy: 0.2386\n",
      "Epoch 10/30\n",
      "\u001b[1m60/60\u001b[0m \u001b[32m━━━━━━━━━━━━━━━━━━━━\u001b[0m\u001b[37m\u001b[0m \u001b[1m39s\u001b[0m 644ms/step - loss: 5.3163 - masked_accuracy: 0.2517 - val_loss: 5.1078 - val_masked_accuracy: 0.2653\n",
      "Epoch 11/30\n",
      "\u001b[1m60/60\u001b[0m \u001b[32m━━━━━━━━━━━━━━━━━━━━\u001b[0m\u001b[37m\u001b[0m \u001b[1m41s\u001b[0m 646ms/step - loss: 4.8425 - masked_accuracy: 0.2957 - val_loss: 4.6454 - val_masked_accuracy: 0.3359\n",
      "Epoch 12/30\n",
      "\u001b[1m60/60\u001b[0m \u001b[32m━━━━━━━━━━━━━━━━━━━━\u001b[0m\u001b[37m\u001b[0m \u001b[1m37s\u001b[0m 618ms/step - loss: 4.3799 - masked_accuracy: 0.3503 - val_loss: 4.2007 - val_masked_accuracy: 0.3995\n",
      "Epoch 13/30\n",
      "\u001b[1m60/60\u001b[0m \u001b[32m━━━━━━━━━━━━━━━━━━━━\u001b[0m\u001b[37m\u001b[0m \u001b[1m41s\u001b[0m 615ms/step - loss: 3.8587 - masked_accuracy: 0.4229 - val_loss: 3.7668 - val_masked_accuracy: 0.4702\n",
      "Epoch 14/30\n",
      "\u001b[1m60/60\u001b[0m \u001b[32m━━━━━━━━━━━━━━━━━━━━\u001b[0m\u001b[37m\u001b[0m \u001b[1m37s\u001b[0m 619ms/step - loss: 3.3488 - masked_accuracy: 0.5071 - val_loss: 3.3507 - val_masked_accuracy: 0.5314\n",
      "Epoch 15/30\n",
      "\u001b[1m60/60\u001b[0m \u001b[32m━━━━━━━━━━━━━━━━━━━━\u001b[0m\u001b[37m\u001b[0m \u001b[1m37s\u001b[0m 615ms/step - loss: 2.8731 - masked_accuracy: 0.5803 - val_loss: 2.9385 - val_masked_accuracy: 0.5884\n",
      "Epoch 16/30\n",
      "\u001b[1m60/60\u001b[0m \u001b[32m━━━━━━━━━━━━━━━━━━━━\u001b[0m\u001b[37m\u001b[0m \u001b[1m37s\u001b[0m 614ms/step - loss: 2.4705 - masked_accuracy: 0.6359 - val_loss: 2.5619 - val_masked_accuracy: 0.6357\n",
      "Epoch 17/30\n",
      "\u001b[1m60/60\u001b[0m \u001b[32m━━━━━━━━━━━━━━━━━━━━\u001b[0m\u001b[37m\u001b[0m \u001b[1m37s\u001b[0m 615ms/step - loss: 2.0665 - masked_accuracy: 0.6941 - val_loss: 2.2815 - val_masked_accuracy: 0.6787\n",
      "Epoch 18/30\n",
      "\u001b[1m60/60\u001b[0m \u001b[32m━━━━━━━━━━━━━━━━━━━━\u001b[0m\u001b[37m\u001b[0m \u001b[1m37s\u001b[0m 615ms/step - loss: 1.7279 - masked_accuracy: 0.7460 - val_loss: 1.9823 - val_masked_accuracy: 0.7277\n",
      "Epoch 19/30\n",
      "\u001b[1m60/60\u001b[0m \u001b[32m━━━━━━━━━━━━━━━━━━━━\u001b[0m\u001b[37m\u001b[0m \u001b[1m37s\u001b[0m 616ms/step - loss: 1.4404 - masked_accuracy: 0.7874 - val_loss: 1.7635 - val_masked_accuracy: 0.7515\n",
      "Epoch 20/30\n",
      "\u001b[1m60/60\u001b[0m \u001b[32m━━━━━━━━━━━━━━━━━━━━\u001b[0m\u001b[37m\u001b[0m \u001b[1m41s\u001b[0m 617ms/step - loss: 1.1858 - masked_accuracy: 0.8237 - val_loss: 1.5275 - val_masked_accuracy: 0.7917\n",
      "Epoch 21/30\n",
      "\u001b[1m60/60\u001b[0m \u001b[32m━━━━━━━━━━━━━━━━━━━━\u001b[0m\u001b[37m\u001b[0m \u001b[1m41s\u001b[0m 617ms/step - loss: 0.9326 - masked_accuracy: 0.8631 - val_loss: 1.3608 - val_masked_accuracy: 0.8183\n",
      "Epoch 22/30\n",
      "\u001b[1m60/60\u001b[0m \u001b[32m━━━━━━━━━━━━━━━━━━━━\u001b[0m\u001b[37m\u001b[0m \u001b[1m37s\u001b[0m 618ms/step - loss: 0.7888 - masked_accuracy: 0.8855 - val_loss: 1.2463 - val_masked_accuracy: 0.8377\n",
      "Epoch 23/30\n",
      "\u001b[1m60/60\u001b[0m \u001b[32m━━━━━━━━━━━━━━━━━━━━\u001b[0m\u001b[37m\u001b[0m \u001b[1m37s\u001b[0m 617ms/step - loss: 0.6470 - masked_accuracy: 0.9087 - val_loss: 1.1451 - val_masked_accuracy: 0.8524\n",
      "Epoch 24/30\n",
      "\u001b[1m60/60\u001b[0m \u001b[32m━━━━━━━━━━━━━━━━━━━━\u001b[0m\u001b[37m\u001b[0m \u001b[1m41s\u001b[0m 618ms/step - loss: 0.5155 - masked_accuracy: 0.9286 - val_loss: 1.1025 - val_masked_accuracy: 0.8570\n",
      "Epoch 25/30\n",
      "\u001b[1m60/60\u001b[0m \u001b[32m━━━━━━━━━━━━━━━━━━━━\u001b[0m\u001b[37m\u001b[0m \u001b[1m37s\u001b[0m 615ms/step - loss: 0.4486 - masked_accuracy: 0.9377 - val_loss: 0.9737 - val_masked_accuracy: 0.8804\n",
      "Epoch 26/30\n",
      "\u001b[1m60/60\u001b[0m \u001b[32m━━━━━━━━━━━━━━━━━━━━\u001b[0m\u001b[37m\u001b[0m \u001b[1m43s\u001b[0m 650ms/step - loss: 0.3445 - masked_accuracy: 0.9527 - val_loss: 0.9255 - val_masked_accuracy: 0.8871\n",
      "Epoch 27/30\n",
      "\u001b[1m60/60\u001b[0m \u001b[32m━━━━━━━━━━━━━━━━━━━━\u001b[0m\u001b[37m\u001b[0m \u001b[1m39s\u001b[0m 650ms/step - loss: 0.2833 - masked_accuracy: 0.9600 - val_loss: 0.9023 - val_masked_accuracy: 0.8901\n",
      "Epoch 28/30\n",
      "\u001b[1m60/60\u001b[0m \u001b[32m━━━━━━━━━━━━━━━━━━━━\u001b[0m\u001b[37m\u001b[0m \u001b[1m39s\u001b[0m 615ms/step - loss: 0.2582 - masked_accuracy: 0.9629 - val_loss: 0.8289 - val_masked_accuracy: 0.8964\n",
      "Epoch 29/30\n",
      "\u001b[1m60/60\u001b[0m \u001b[32m━━━━━━━━━━━━━━━━━━━━\u001b[0m\u001b[37m\u001b[0m \u001b[1m37s\u001b[0m 620ms/step - loss: 0.2058 - masked_accuracy: 0.9698 - val_loss: 0.8275 - val_masked_accuracy: 0.8993\n",
      "Epoch 30/30\n",
      "\u001b[1m60/60\u001b[0m \u001b[32m━━━━━━━━━━━━━━━━━━━━\u001b[0m\u001b[37m\u001b[0m \u001b[1m37s\u001b[0m 615ms/step - loss: 0.1775 - masked_accuracy: 0.9720 - val_loss: 0.7857 - val_masked_accuracy: 0.9056\n"
     ]
    }
   ],
   "source": [
    "history=transformer.fit(train_batches,\n",
    "                epochs=30,\n",
    "                validation_data=val_batches)"
   ]
  },
  {
   "cell_type": "code",
   "execution_count": 55,
   "metadata": {
    "id": "7ee6gAFswUqP"
   },
   "outputs": [],
   "source": [
    "history_dict = history.history"
   ]
  },
  {
   "cell_type": "code",
   "execution_count": 56,
   "metadata": {
    "colab": {
     "base_uri": "https://localhost:8080/",
     "height": 581
    },
    "id": "8w4ysu-IwhiC",
    "outputId": "908043d5-6feb-4e8c-c9fe-69900b5a7f0c"
   },
   "outputs": [
    {
     "data": {
      "image/png": "[encoded data removed]",
      "text/plain": [
       "<Figure size 1200x600 with 1 Axes>"
      ]
     },
     "metadata": {},
     "output_type": "display_data"
    },
    {
     "data": {
      "text/plain": [
       "<Figure size 640x480 with 0 Axes>"
      ]
     },
     "metadata": {},
     "output_type": "display_data"
    }
   ],
   "source": [
    "plt.figure(figsize=(12, 6))\n",
    "\n",
    "# Plot loss\n",
    "plt.subplot(1, 2, 1)\n",
    "plt.plot(history_dict['loss'], label='Training Loss')\n",
    "plt.plot(history_dict['val_loss'], label='Validation Loss')\n",
    "plt.title('Model Loss')\n",
    "plt.xlabel('Epoch')\n",
    "plt.ylabel('Loss')\n",
    "plt.legend()\n",
    "\n",
    "# If you have accuracy or another metric, you can plot it similarly\n",
    "if 'accuracy' in history_dict and 'val_accuracy' in history_dict:\n",
    "    plt.subplot(1, 2, 2)\n",
    "    plt.plot(history_dict['accuracy'], label='Training Accuracy')\n",
    "    plt.plot(history_dict['val_accuracy'], label='Validation Accuracy')\n",
    "    plt.title('Model Accuracy')\n",
    "    plt.xlabel('Epoch')\n",
    "    plt.ylabel('Accuracy')\n",
    "    plt.legend()\n",
    "\n",
    "# Show the plots\n",
    "plt.show()\n",
    "plt.savefig('/content/drive/MyDrive/Spell_correction/model/with_batch_nationality.png', dpi=300, bbox_inches='tight', transparent=True)"
   ]
  },
  {
   "cell_type": "code",
   "execution_count": 57,
   "metadata": {
    "id": "Wu5JTOSrDrl4"
   },
   "outputs": [],
   "source": [
    "transformer.save(\"/content/drive/MyDrive/Spell_correction/model/with_batch_nationality.keras\")"
   ]
  },
  {
   "cell_type": "code",
   "execution_count": 58,
   "metadata": {
    "id": "mJTTK4EWcKBF"
   },
   "outputs": [],
   "source": [
    "Test.to_csv('/content/drive/MyDrive/Spell_correction/model/with_batch_nationality_Test.csv', index=False)"
   ]
  },
  {
   "cell_type": "code",
   "execution_count": 59,
   "metadata": {
    "id": "vxXlNn7esyep"
   },
   "outputs": [],
   "source": [
    "with open('/content/drive/MyDrive/Spell_correction/model/with_batch_nationality.pkl', 'wb') as file:\n",
    "    pickle.dump(vocab_to_int, file)"
   ]
  }
 ],
 "metadata": {
  "accelerator": "GPU",
  "colab": {
   "gpuType": "T4",
   "provenance": []
  },
  "kernelspec": {
   "display_name": "Python 3 (ipykernel)",
   "language": "python",
   "name": "python3"
  },
  "language_info": {
   "codemirror_mode": {
    "name": "ipython",
    "version": 3
   },
   "file_extension": ".py",
   "mimetype": "text/x-python",
   "name": "python",
   "nbconvert_exporter": "python",
   "pygments_lexer": "ipython3",
   "version": "3.10.13"
  }
 },
 "nbformat": 4,
 "nbformat_minor": 4
}
