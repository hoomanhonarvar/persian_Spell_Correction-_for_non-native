{
 "cells": [
  {
   "cell_type": "code",
   "execution_count": 1,
   "id": "3eee4da8-a2be-435e-8756-52f8b0428612",
   "metadata": {},
   "outputs": [],
   "source": [
    "import xml.etree.ElementTree as ET\n",
    "import os\n",
    "import pandas as pd"
   ]
  },
  {
   "cell_type": "code",
   "execution_count": 2,
   "id": "94e4db97-6840-42a1-bd6e-f25dcf0743c3",
   "metadata": {},
   "outputs": [],
   "source": [
    "def find_elements_by_attribute(root, attribute_name, attribute_value):\n",
    "    return root.findall(\".//*[@{}='{}']\".format(attribute_name, attribute_value))"
   ]
  },
  {
   "cell_type": "code",
   "execution_count": 3,
   "id": "0515b646-12d8-4465-8064-b0d6c887cc77",
   "metadata": {},
   "outputs": [],
   "source": [
    "def list_all_folders(directory):\n",
    "    folders = []\n",
    "    for item in os.listdir(directory):\n",
    "        if os.path.isdir(os.path.join(directory, item)):\n",
    "            folders.append(item)\n",
    "    return folders"
   ]
  },
  {
   "cell_type": "code",
   "execution_count": 4,
   "id": "b3377b00-2c64-47c1-a626-645b6017a0ca",
   "metadata": {},
   "outputs": [],
   "source": [
    "def wrong_correct_sentence(root,begin,end,correct_word):\n",
    "    wrong_sentence , correct_sentence=\"\",\"\"\n",
    "    for element in root.findall(\"{http:///de/tudarmstadt/ukp/dkpro/core/api/segmentation/type.ecore}Sentence\"):\n",
    "        if int(element.get(\"begin\"))<= begin and int(element.get(\"end\"))>=end:\n",
    "            wrong_sentence=root.findall(\"{http:///uima/cas.ecore}Sofa\")[0].get(\"sofaString\")[int(element.get(\"begin\")):int(element.get(\"end\"))] \n",
    "            s_begin=int(element.get(\"begin\"))\n",
    "            s_end=int(element.get(\"end\"))\n",
    "            if correct_word==None:\n",
    "                correct_word=\" \"\n",
    "            correct_sentence=root.findall(\"{http:///uima/cas.ecore}Sofa\")[0].get(\"sofaString\")[s_begin:begin]+correct_word+root.findall(\"{http:///uima/cas.ecore}Sofa\")[0].get(\"sofaString\")[end:s_end] \n",
    "\n",
    "    return wrong_sentence, correct_sentence\n"
   ]
  },
  {
   "cell_type": "code",
   "execution_count": 5,
   "id": "ca31bd2e-02be-4eef-b156-19e97d109e13",
   "metadata": {},
   "outputs": [],
   "source": [
    "data={\n",
    "    'file_name':[],\n",
    "    'USER_NUMBER':[],\n",
    "    'begin':[],\n",
    "    'end':[],\n",
    "    'wrong_word':[],\n",
    "    'correct_word':[],\n",
    "    'wrong_sentence':[],\n",
    "    'correct_sentence':[],\n",
    "    'process':[],\n",
    "    'main_category':[],\n",
    "    'sub_category_1':[],\n",
    "    'sub_category_2':[]\n",
    "\n",
    "}\n",
    "df = pd.DataFrame(data)\n",
    "df.to_csv('data.csv')"
   ]
  },
  {
   "cell_type": "code",
   "execution_count": 6,
   "id": "43c83cc4-a6f7-41d1-a249-43512c12c682",
   "metadata": {},
   "outputs": [],
   "source": [
    "errors={\n",
    "    \"Main signs\":1,\n",
    "    \"Diacritic signs\":2,\n",
    "    \"Form\":3,\n",
    "    \"Punctuation\":4\n",
    "}"
   ]
  },
  {
   "cell_type": "code",
   "execution_count": 7,
   "id": "1c2e206e-34e0-44c4-9f1c-088d48e3cf32",
   "metadata": {},
   "outputs": [],
   "source": [
    "def extract_data_from_XMI(path,USER_NUMBER):\n",
    "    data_temp={\n",
    "    'file_name':[],\n",
    "    'USER_NUMBER':[],\n",
    "    'begin':[],\n",
    "    'end':[],\n",
    "    'wrong_word':[],\n",
    "    'correct_word':[],\n",
    "    'wrong_sentence':[],\n",
    "    'correct_sentence':[],\n",
    "    'process':[],\n",
    "    'main_category':[],\n",
    "    'sub_category_1':[],\n",
    "    'sub_category_2':[]\n",
    "}\n",
    "    tree = ET.parse(path)\n",
    "    root=tree.getroot()\n",
    "    if len(root.findall('{http:///webanno/custom.ecore}Orthography'))!=0 :\n",
    "        # print(root.findall(\"{http:///uima/cas.ecore}Sofa\")[0].get(\"sofaString\"))\n",
    "        for element in root.findall('{http:///webanno/custom.ecore}Orthography'):\n",
    "            data_temp['USER_NUMBER'].append(USER_NUMBER)\n",
    "            begin=element.get(\"begin\")\n",
    "            end=element.get(\"end\")\n",
    "            data_temp['file_name'].append(root.findall(\"{http:///de/tudarmstadt/ukp/dkpro/core/api/metadata/type.ecore}DocumentMetaData\")[0].get(\"documentTitle\"))\n",
    "            data_temp['begin'].append(begin)\n",
    "            data_temp['end'].append(end)\n",
    "            data_temp['correct_word'].append(element.get(\"correction\"))\n",
    "            data_temp['main_category'].append(element.get(\"mainCategory\"))\n",
    "            data_temp['sub_category_1'].append(element.get(\"subCategory_1\"))\n",
    "            data_temp['wrong_word'].append(root.findall(\"{http:///uima/cas.ecore}Sofa\")[0].get(\"sofaString\")[int(begin):int(end)])\n",
    "            data_temp['process'].append(element.get(\"process\"))\n",
    "            if \"subCategory_2\" in element.attrib:\n",
    "                data_temp[\"sub_category_2\"].append(element.get(\"subCategory_2\"))\n",
    "            else:\n",
    "                data_temp[\"sub_category_2\"].append(\"None\")\n",
    "            wrong_sentence,correct_sentence=wrong_correct_sentence(root,int(begin)-1,int(end)-1,element.get(\"correction\"))\n",
    "            data_temp[\"wrong_sentence\"].append(wrong_sentence)\n",
    "            data_temp[\"correct_sentence\"].append(correct_sentence)\n",
    "\n",
    "    df2=pd.DataFrame(data_temp)\n",
    "    return df2\n",
    "\n",
    "    "
   ]
  },
  {
   "cell_type": "code",
   "execution_count": 8,
   "id": "2cee451a-b57c-4289-9977-32c6204a89ce",
   "metadata": {},
   "outputs": [],
   "source": [
    "annotation_folders=list_all_folders(\"./all_data\")\n",
    "for folder in annotation_folders:\n",
    "    all_items = os.listdir(\"./all_data/\"+folder)\n",
    "    xmi_files = [f for f in all_items if f.endswith('.xmi') and os.path.isfile(os.path.join(\"./all_data\",folder, f))]\n",
    "    for xmi_file in xmi_files:\n",
    "        xmi_path=os.path.join(\"./all_data\",folder,xmi_file)\n",
    "    output= extract_data_from_XMI(xmi_path,xmi_file[:-4])\n",
    "    if len(output)!=0:\n",
    "        df=pd.concat([df,output],axis=0)\n",
    "    \n"
   ]
  },
  {
   "cell_type": "code",
   "execution_count": 11,
   "id": "b67da00e-fa15-4a32-8529-abe4d173bcbf",
   "metadata": {},
   "outputs": [],
   "source": [
    "df.to_csv('data.csv',index=True)"
   ]
  },
  {
   "cell_type": "code",
   "execution_count": 12,
   "id": "e779b282-09c9-478d-a7b4-f2d9648f4d4f",
   "metadata": {},
   "outputs": [
    {
     "ename": "ModuleNotFoundError",
     "evalue": "No module named 'openpyxl'",
     "output_type": "error",
     "traceback": [
      "\u001b[1;31m---------------------------------------------------------------------------\u001b[0m",
      "\u001b[1;31mModuleNotFoundError\u001b[0m                       Traceback (most recent call last)",
      "Cell \u001b[1;32mIn[12], line 1\u001b[0m\n\u001b[1;32m----> 1\u001b[0m \u001b[43mdf\u001b[49m\u001b[38;5;241;43m.\u001b[39;49m\u001b[43mto_excel\u001b[49m\u001b[43m(\u001b[49m\u001b[38;5;124;43m'\u001b[39;49m\u001b[38;5;124;43mdata.xlsx\u001b[39;49m\u001b[38;5;124;43m'\u001b[39;49m\u001b[43m,\u001b[49m\u001b[43m \u001b[49m\u001b[43mindex\u001b[49m\u001b[38;5;241;43m=\u001b[39;49m\u001b[38;5;28;43;01mFalse\u001b[39;49;00m\u001b[43m)\u001b[49m\n",
      "File \u001b[1;32m~\\miniforge3\\lib\\site-packages\\pandas\\util\\_decorators.py:333\u001b[0m, in \u001b[0;36mdeprecate_nonkeyword_arguments.<locals>.decorate.<locals>.wrapper\u001b[1;34m(*args, **kwargs)\u001b[0m\n\u001b[0;32m    327\u001b[0m \u001b[38;5;28;01mif\u001b[39;00m \u001b[38;5;28mlen\u001b[39m(args) \u001b[38;5;241m>\u001b[39m num_allow_args:\n\u001b[0;32m    328\u001b[0m     warnings\u001b[38;5;241m.\u001b[39mwarn(\n\u001b[0;32m    329\u001b[0m         msg\u001b[38;5;241m.\u001b[39mformat(arguments\u001b[38;5;241m=\u001b[39m_format_argument_list(allow_args)),\n\u001b[0;32m    330\u001b[0m         \u001b[38;5;167;01mFutureWarning\u001b[39;00m,\n\u001b[0;32m    331\u001b[0m         stacklevel\u001b[38;5;241m=\u001b[39mfind_stack_level(),\n\u001b[0;32m    332\u001b[0m     )\n\u001b[1;32m--> 333\u001b[0m \u001b[38;5;28;01mreturn\u001b[39;00m func(\u001b[38;5;241m*\u001b[39margs, \u001b[38;5;241m*\u001b[39m\u001b[38;5;241m*\u001b[39mkwargs)\n",
      "File \u001b[1;32m~\\miniforge3\\lib\\site-packages\\pandas\\core\\generic.py:2417\u001b[0m, in \u001b[0;36mNDFrame.to_excel\u001b[1;34m(self, excel_writer, sheet_name, na_rep, float_format, columns, header, index, index_label, startrow, startcol, engine, merge_cells, inf_rep, freeze_panes, storage_options, engine_kwargs)\u001b[0m\n\u001b[0;32m   2404\u001b[0m \u001b[38;5;28;01mfrom\u001b[39;00m \u001b[38;5;21;01mpandas\u001b[39;00m\u001b[38;5;21;01m.\u001b[39;00m\u001b[38;5;21;01mio\u001b[39;00m\u001b[38;5;21;01m.\u001b[39;00m\u001b[38;5;21;01mformats\u001b[39;00m\u001b[38;5;21;01m.\u001b[39;00m\u001b[38;5;21;01mexcel\u001b[39;00m \u001b[38;5;28;01mimport\u001b[39;00m ExcelFormatter\n\u001b[0;32m   2406\u001b[0m formatter \u001b[38;5;241m=\u001b[39m ExcelFormatter(\n\u001b[0;32m   2407\u001b[0m     df,\n\u001b[0;32m   2408\u001b[0m     na_rep\u001b[38;5;241m=\u001b[39mna_rep,\n\u001b[1;32m   (...)\u001b[0m\n\u001b[0;32m   2415\u001b[0m     inf_rep\u001b[38;5;241m=\u001b[39minf_rep,\n\u001b[0;32m   2416\u001b[0m )\n\u001b[1;32m-> 2417\u001b[0m \u001b[43mformatter\u001b[49m\u001b[38;5;241;43m.\u001b[39;49m\u001b[43mwrite\u001b[49m\u001b[43m(\u001b[49m\n\u001b[0;32m   2418\u001b[0m \u001b[43m    \u001b[49m\u001b[43mexcel_writer\u001b[49m\u001b[43m,\u001b[49m\n\u001b[0;32m   2419\u001b[0m \u001b[43m    \u001b[49m\u001b[43msheet_name\u001b[49m\u001b[38;5;241;43m=\u001b[39;49m\u001b[43msheet_name\u001b[49m\u001b[43m,\u001b[49m\n\u001b[0;32m   2420\u001b[0m \u001b[43m    \u001b[49m\u001b[43mstartrow\u001b[49m\u001b[38;5;241;43m=\u001b[39;49m\u001b[43mstartrow\u001b[49m\u001b[43m,\u001b[49m\n\u001b[0;32m   2421\u001b[0m \u001b[43m    \u001b[49m\u001b[43mstartcol\u001b[49m\u001b[38;5;241;43m=\u001b[39;49m\u001b[43mstartcol\u001b[49m\u001b[43m,\u001b[49m\n\u001b[0;32m   2422\u001b[0m \u001b[43m    \u001b[49m\u001b[43mfreeze_panes\u001b[49m\u001b[38;5;241;43m=\u001b[39;49m\u001b[43mfreeze_panes\u001b[49m\u001b[43m,\u001b[49m\n\u001b[0;32m   2423\u001b[0m \u001b[43m    \u001b[49m\u001b[43mengine\u001b[49m\u001b[38;5;241;43m=\u001b[39;49m\u001b[43mengine\u001b[49m\u001b[43m,\u001b[49m\n\u001b[0;32m   2424\u001b[0m \u001b[43m    \u001b[49m\u001b[43mstorage_options\u001b[49m\u001b[38;5;241;43m=\u001b[39;49m\u001b[43mstorage_options\u001b[49m\u001b[43m,\u001b[49m\n\u001b[0;32m   2425\u001b[0m \u001b[43m    \u001b[49m\u001b[43mengine_kwargs\u001b[49m\u001b[38;5;241;43m=\u001b[39;49m\u001b[43mengine_kwargs\u001b[49m\u001b[43m,\u001b[49m\n\u001b[0;32m   2426\u001b[0m \u001b[43m\u001b[49m\u001b[43m)\u001b[49m\n",
      "File \u001b[1;32m~\\miniforge3\\lib\\site-packages\\pandas\\io\\formats\\excel.py:943\u001b[0m, in \u001b[0;36mExcelFormatter.write\u001b[1;34m(self, writer, sheet_name, startrow, startcol, freeze_panes, engine, storage_options, engine_kwargs)\u001b[0m\n\u001b[0;32m    941\u001b[0m     need_save \u001b[38;5;241m=\u001b[39m \u001b[38;5;28;01mFalse\u001b[39;00m\n\u001b[0;32m    942\u001b[0m \u001b[38;5;28;01melse\u001b[39;00m:\n\u001b[1;32m--> 943\u001b[0m     writer \u001b[38;5;241m=\u001b[39m \u001b[43mExcelWriter\u001b[49m\u001b[43m(\u001b[49m\n\u001b[0;32m    944\u001b[0m \u001b[43m        \u001b[49m\u001b[43mwriter\u001b[49m\u001b[43m,\u001b[49m\n\u001b[0;32m    945\u001b[0m \u001b[43m        \u001b[49m\u001b[43mengine\u001b[49m\u001b[38;5;241;43m=\u001b[39;49m\u001b[43mengine\u001b[49m\u001b[43m,\u001b[49m\n\u001b[0;32m    946\u001b[0m \u001b[43m        \u001b[49m\u001b[43mstorage_options\u001b[49m\u001b[38;5;241;43m=\u001b[39;49m\u001b[43mstorage_options\u001b[49m\u001b[43m,\u001b[49m\n\u001b[0;32m    947\u001b[0m \u001b[43m        \u001b[49m\u001b[43mengine_kwargs\u001b[49m\u001b[38;5;241;43m=\u001b[39;49m\u001b[43mengine_kwargs\u001b[49m\u001b[43m,\u001b[49m\n\u001b[0;32m    948\u001b[0m \u001b[43m    \u001b[49m\u001b[43m)\u001b[49m\n\u001b[0;32m    949\u001b[0m     need_save \u001b[38;5;241m=\u001b[39m \u001b[38;5;28;01mTrue\u001b[39;00m\n\u001b[0;32m    951\u001b[0m \u001b[38;5;28;01mtry\u001b[39;00m:\n",
      "File \u001b[1;32m~\\miniforge3\\lib\\site-packages\\pandas\\io\\excel\\_openpyxl.py:57\u001b[0m, in \u001b[0;36mOpenpyxlWriter.__init__\u001b[1;34m(self, path, engine, date_format, datetime_format, mode, storage_options, if_sheet_exists, engine_kwargs, **kwargs)\u001b[0m\n\u001b[0;32m     44\u001b[0m \u001b[38;5;28;01mdef\u001b[39;00m \u001b[38;5;21m__init__\u001b[39m(\n\u001b[0;32m     45\u001b[0m     \u001b[38;5;28mself\u001b[39m,\n\u001b[0;32m     46\u001b[0m     path: FilePath \u001b[38;5;241m|\u001b[39m WriteExcelBuffer \u001b[38;5;241m|\u001b[39m ExcelWriter,\n\u001b[1;32m   (...)\u001b[0m\n\u001b[0;32m     55\u001b[0m ) \u001b[38;5;241m-\u001b[39m\u001b[38;5;241m>\u001b[39m \u001b[38;5;28;01mNone\u001b[39;00m:\n\u001b[0;32m     56\u001b[0m     \u001b[38;5;66;03m# Use the openpyxl module as the Excel writer.\u001b[39;00m\n\u001b[1;32m---> 57\u001b[0m     \u001b[38;5;28;01mfrom\u001b[39;00m \u001b[38;5;21;01mopenpyxl\u001b[39;00m\u001b[38;5;21;01m.\u001b[39;00m\u001b[38;5;21;01mworkbook\u001b[39;00m \u001b[38;5;28;01mimport\u001b[39;00m Workbook\n\u001b[0;32m     59\u001b[0m     engine_kwargs \u001b[38;5;241m=\u001b[39m combine_kwargs(engine_kwargs, kwargs)\n\u001b[0;32m     61\u001b[0m     \u001b[38;5;28msuper\u001b[39m()\u001b[38;5;241m.\u001b[39m\u001b[38;5;21m__init__\u001b[39m(\n\u001b[0;32m     62\u001b[0m         path,\n\u001b[0;32m     63\u001b[0m         mode\u001b[38;5;241m=\u001b[39mmode,\n\u001b[1;32m   (...)\u001b[0m\n\u001b[0;32m     66\u001b[0m         engine_kwargs\u001b[38;5;241m=\u001b[39mengine_kwargs,\n\u001b[0;32m     67\u001b[0m     )\n",
      "\u001b[1;31mModuleNotFoundError\u001b[0m: No module named 'openpyxl'"
     ]
    }
   ],
   "source": [
    "df.to_excel('data.xlsx', index=False)"
   ]
  },
  {
   "cell_type": "code",
   "execution_count": null,
   "id": "6a4cfe19-79f0-4d06-9f75-7ec25300e3a6",
   "metadata": {},
   "outputs": [],
   "source": []
  }
 ],
 "metadata": {
  "kernelspec": {
   "display_name": "Python 3 (ipykernel)",
   "language": "python",
   "name": "python3"
  },
  "language_info": {
   "codemirror_mode": {
    "name": "ipython",
    "version": 3
   },
   "file_extension": ".py",
   "mimetype": "text/x-python",
   "name": "python",
   "nbconvert_exporter": "python",
   "pygments_lexer": "ipython3",
   "version": "3.10.13"
  }
 },
 "nbformat": 4,
 "nbformat_minor": 5
}
