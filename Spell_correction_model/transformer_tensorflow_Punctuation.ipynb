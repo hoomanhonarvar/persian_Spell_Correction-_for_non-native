{
  "cells": [
    {
      "cell_type": "code",
      "execution_count": 1,
      "metadata": {
        "colab": {
          "base_uri": "https://localhost:8080/"
        },
        "id": "o5kKlVH0LRe-",
        "outputId": "78e419fa-7fbd-402d-c79a-9c26ae0001e8"
      },
      "outputs": [
        {
          "output_type": "stream",
          "name": "stdout",
          "text": [
            "Requirement already satisfied: hazm in /usr/local/lib/python3.10/dist-packages (0.10.0)\n",
            "Requirement already satisfied: fasttext-wheel<0.10.0,>=0.9.2 in /usr/local/lib/python3.10/dist-packages (from hazm) (0.9.2)\n",
            "Requirement already satisfied: flashtext<3.0,>=2.7 in /usr/local/lib/python3.10/dist-packages (from hazm) (2.7)\n",
            "Requirement already satisfied: gensim<5.0.0,>=4.3.1 in /usr/local/lib/python3.10/dist-packages (from hazm) (4.3.3)\n",
            "Requirement already satisfied: nltk<4.0.0,>=3.8.1 in /usr/local/lib/python3.10/dist-packages (from hazm) (3.8.1)\n",
            "Requirement already satisfied: numpy==1.24.3 in /usr/local/lib/python3.10/dist-packages (from hazm) (1.24.3)\n",
            "Requirement already satisfied: python-crfsuite<0.10.0,>=0.9.9 in /usr/local/lib/python3.10/dist-packages (from hazm) (0.9.10)\n",
            "Requirement already satisfied: scikit-learn<2.0.0,>=1.2.2 in /usr/local/lib/python3.10/dist-packages (from hazm) (1.3.2)\n",
            "Requirement already satisfied: pybind11>=2.2 in /usr/local/lib/python3.10/dist-packages (from fasttext-wheel<0.10.0,>=0.9.2->hazm) (2.13.4)\n",
            "Requirement already satisfied: setuptools>=0.7.0 in /usr/local/lib/python3.10/dist-packages (from fasttext-wheel<0.10.0,>=0.9.2->hazm) (71.0.4)\n",
            "Requirement already satisfied: scipy<1.14.0,>=1.7.0 in /usr/local/lib/python3.10/dist-packages (from gensim<5.0.0,>=4.3.1->hazm) (1.13.1)\n",
            "Requirement already satisfied: smart-open>=1.8.1 in /usr/local/lib/python3.10/dist-packages (from gensim<5.0.0,>=4.3.1->hazm) (7.0.4)\n",
            "Requirement already satisfied: click in /usr/local/lib/python3.10/dist-packages (from nltk<4.0.0,>=3.8.1->hazm) (8.1.7)\n",
            "Requirement already satisfied: joblib in /usr/local/lib/python3.10/dist-packages (from nltk<4.0.0,>=3.8.1->hazm) (1.4.2)\n",
            "Requirement already satisfied: regex>=2021.8.3 in /usr/local/lib/python3.10/dist-packages (from nltk<4.0.0,>=3.8.1->hazm) (2024.5.15)\n",
            "Requirement already satisfied: tqdm in /usr/local/lib/python3.10/dist-packages (from nltk<4.0.0,>=3.8.1->hazm) (4.66.5)\n",
            "Requirement already satisfied: threadpoolctl>=2.0.0 in /usr/local/lib/python3.10/dist-packages (from scikit-learn<2.0.0,>=1.2.2->hazm) (3.5.0)\n",
            "Requirement already satisfied: wrapt in /usr/local/lib/python3.10/dist-packages (from smart-open>=1.8.1->gensim<5.0.0,>=4.3.1->hazm) (1.16.0)\n"
          ]
        }
      ],
      "source": [
        "!pip install hazm"
      ]
    },
    {
      "cell_type": "code",
      "execution_count": 2,
      "metadata": {
        "id": "B94kr-7NCeg_"
      },
      "outputs": [],
      "source": [
        "import logging\n",
        "import time\n",
        "import numpy as np\n",
        "import matplotlib.pyplot as plt\n",
        "import tensorflow_datasets as tfds\n",
        "import tensorflow as tf\n",
        "import pandas as pd\n",
        "from hazm import word_tokenize\n",
        "import re\n",
        "from sklearn.model_selection import train_test_split\n",
        "from tensorflow.keras.preprocessing.sequence import pad_sequences"
      ]
    },
    {
      "cell_type": "code",
      "execution_count": 3,
      "metadata": {
        "colab": {
          "base_uri": "https://localhost:8080/"
        },
        "id": "-RWQ_yBqKrED",
        "outputId": "5937b565-10e3-4f1c-c867-ee254047e704"
      },
      "outputs": [
        {
          "output_type": "stream",
          "name": "stdout",
          "text": [
            "Drive already mounted at /content/drive; to attempt to forcibly remount, call drive.mount(\"/content/drive\", force_remount=True).\n"
          ]
        }
      ],
      "source": [
        "from google.colab import drive\n",
        "drive.mount('/content/drive')"
      ]
    },
    {
      "cell_type": "code",
      "execution_count": 4,
      "metadata": {
        "id": "B5MTNdxnKrAk"
      },
      "outputs": [],
      "source": [
        "df=pd.read_csv(\"/content/drive/MyDrive/Spell_correction/data.csv\")\n"
      ]
    },
    {
      "cell_type": "code",
      "source": [],
      "metadata": {
        "id": "8RYrrEVNybIy"
      },
      "execution_count": 4,
      "outputs": []
    },
    {
      "cell_type": "code",
      "execution_count": 5,
      "metadata": {
        "id": "L1QdGI5EKjO9"
      },
      "outputs": [],
      "source": [
        "df=df[df[\"main_category\"]==\"Punctuation\" ]"
      ]
    },
    {
      "cell_type": "code",
      "execution_count": 6,
      "metadata": {
        "id": "qWrWf-i0Kq-P"
      },
      "outputs": [],
      "source": [
        "df=df[[\"wrong_sentence\",\"correct_sentence\"]]\n",
        "df=df.dropna()"
      ]
    },
    {
      "cell_type": "code",
      "execution_count": 7,
      "metadata": {
        "id": "12PEhzyzNPMz",
        "colab": {
          "base_uri": "https://localhost:8080/"
        },
        "outputId": "e6d1b171-e91a-4adb-a5e7-a471c4d94fd6"
      },
      "outputs": [
        {
          "output_type": "execute_result",
          "data": {
            "text/plain": [
              "2934"
            ]
          },
          "metadata": {},
          "execution_count": 7
        }
      ],
      "source": [
        "len(df)"
      ]
    },
    {
      "cell_type": "code",
      "source": [
        "df.head()"
      ],
      "metadata": {
        "colab": {
          "base_uri": "https://localhost:8080/",
          "height": 206
        },
        "id": "_q-QlmZgzH_-",
        "outputId": "dad45cda-670a-47bd-a433-0633c3f0e8d5"
      },
      "execution_count": 8,
      "outputs": [
        {
          "output_type": "execute_result",
          "data": {
            "text/plain": [
              "                                       wrong_sentence  \\\n",
              "0   افغانستان\\n \\n موضوع : اسراف\\n \\n اسراف را خدا...   \n",
              "2   افغانستان\\n \\n موضوع : اسراف\\n \\n اسراف را خدا...   \n",
              "5   افغانستان\\n \\n موضوع : اسراف\\n \\n اسراف را خدا...   \n",
              "6   افغانستان\\n \\n موضوع : اسراف\\n \\n اسراف را خدا...   \n",
              "11  افغانستان\\n \\n موضوع : اسراف\\n \\n اسراف را خدا...   \n",
              "\n",
              "                                     correct_sentence  \n",
              "0   افغانستان\\n \\n موضوع : اسراف\\n \\n اسراف را خدا...  \n",
              "2   افغانستان\\n \\n موضوع : اسراف\\n \\n اسراف را خدا...  \n",
              "5   افغانستان\\n \\n موضوع : اسراف\\n \\n اسراف را خدا...  \n",
              "6   افغانستان\\n \\n موضوع : اسراف\\n \\n اسراف را خدا...  \n",
              "11  افغانستان\\n \\n موضوع : اسراف\\n \\n اسراف را خدا...  "
            ],
            "text/html": [
              "\n",
              "  <div id=\"df-d31a2d95-5117-4bd3-b7aa-378b5ffdc598\" class=\"colab-df-container\">\n",
              "    <div>\n",
              "<style scoped>\n",
              "    .dataframe tbody tr th:only-of-type {\n",
              "        vertical-align: middle;\n",
              "    }\n",
              "\n",
              "    .dataframe tbody tr th {\n",
              "        vertical-align: top;\n",
              "    }\n",
              "\n",
              "    .dataframe thead th {\n",
              "        text-align: right;\n",
              "    }\n",
              "</style>\n",
              "<table border=\"1\" class=\"dataframe\">\n",
              "  <thead>\n",
              "    <tr style=\"text-align: right;\">\n",
              "      <th></th>\n",
              "      <th>wrong_sentence</th>\n",
              "      <th>correct_sentence</th>\n",
              "    </tr>\n",
              "  </thead>\n",
              "  <tbody>\n",
              "    <tr>\n",
              "      <th>0</th>\n",
              "      <td>افغانستان\\n \\n موضوع : اسراف\\n \\n اسراف را خدا...</td>\n",
              "      <td>افغانستان\\n \\n موضوع : اسراف\\n \\n اسراف را خدا...</td>\n",
              "    </tr>\n",
              "    <tr>\n",
              "      <th>2</th>\n",
              "      <td>افغانستان\\n \\n موضوع : اسراف\\n \\n اسراف را خدا...</td>\n",
              "      <td>افغانستان\\n \\n موضوع : اسراف\\n \\n اسراف را خدا...</td>\n",
              "    </tr>\n",
              "    <tr>\n",
              "      <th>5</th>\n",
              "      <td>افغانستان\\n \\n موضوع : اسراف\\n \\n اسراف را خدا...</td>\n",
              "      <td>افغانستان\\n \\n موضوع : اسراف\\n \\n اسراف را خدا...</td>\n",
              "    </tr>\n",
              "    <tr>\n",
              "      <th>6</th>\n",
              "      <td>افغانستان\\n \\n موضوع : اسراف\\n \\n اسراف را خدا...</td>\n",
              "      <td>افغانستان\\n \\n موضوع : اسراف\\n \\n اسراف را خدا...</td>\n",
              "    </tr>\n",
              "    <tr>\n",
              "      <th>11</th>\n",
              "      <td>افغانستان\\n \\n موضوع : اسراف\\n \\n اسراف را خدا...</td>\n",
              "      <td>افغانستان\\n \\n موضوع : اسراف\\n \\n اسراف را خدا...</td>\n",
              "    </tr>\n",
              "  </tbody>\n",
              "</table>\n",
              "</div>\n",
              "    <div class=\"colab-df-buttons\">\n",
              "\n",
              "  <div class=\"colab-df-container\">\n",
              "    <button class=\"colab-df-convert\" onclick=\"convertToInteractive('df-d31a2d95-5117-4bd3-b7aa-378b5ffdc598')\"\n",
              "            title=\"Convert this dataframe to an interactive table.\"\n",
              "            style=\"display:none;\">\n",
              "\n",
              "  <svg xmlns=\"http://www.w3.org/2000/svg\" height=\"24px\" viewBox=\"0 -960 960 960\">\n",
              "    <path d=\"M120-120v-720h720v720H120Zm60-500h600v-160H180v160Zm220 220h160v-160H400v160Zm0 220h160v-160H400v160ZM180-400h160v-160H180v160Zm440 0h160v-160H620v160ZM180-180h160v-160H180v160Zm440 0h160v-160H620v160Z\"/>\n",
              "  </svg>\n",
              "    </button>\n",
              "\n",
              "  <style>\n",
              "    .colab-df-container {\n",
              "      display:flex;\n",
              "      gap: 12px;\n",
              "    }\n",
              "\n",
              "    .colab-df-convert {\n",
              "      background-color: #E8F0FE;\n",
              "      border: none;\n",
              "      border-radius: 50%;\n",
              "      cursor: pointer;\n",
              "      display: none;\n",
              "      fill: #1967D2;\n",
              "      height: 32px;\n",
              "      padding: 0 0 0 0;\n",
              "      width: 32px;\n",
              "    }\n",
              "\n",
              "    .colab-df-convert:hover {\n",
              "      background-color: #E2EBFA;\n",
              "      box-shadow: 0px 1px 2px rgba(60, 64, 67, 0.3), 0px 1px 3px 1px rgba(60, 64, 67, 0.15);\n",
              "      fill: #174EA6;\n",
              "    }\n",
              "\n",
              "    .colab-df-buttons div {\n",
              "      margin-bottom: 4px;\n",
              "    }\n",
              "\n",
              "    [theme=dark] .colab-df-convert {\n",
              "      background-color: #3B4455;\n",
              "      fill: #D2E3FC;\n",
              "    }\n",
              "\n",
              "    [theme=dark] .colab-df-convert:hover {\n",
              "      background-color: #434B5C;\n",
              "      box-shadow: 0px 1px 3px 1px rgba(0, 0, 0, 0.15);\n",
              "      filter: drop-shadow(0px 1px 2px rgba(0, 0, 0, 0.3));\n",
              "      fill: #FFFFFF;\n",
              "    }\n",
              "  </style>\n",
              "\n",
              "    <script>\n",
              "      const buttonEl =\n",
              "        document.querySelector('#df-d31a2d95-5117-4bd3-b7aa-378b5ffdc598 button.colab-df-convert');\n",
              "      buttonEl.style.display =\n",
              "        google.colab.kernel.accessAllowed ? 'block' : 'none';\n",
              "\n",
              "      async function convertToInteractive(key) {\n",
              "        const element = document.querySelector('#df-d31a2d95-5117-4bd3-b7aa-378b5ffdc598');\n",
              "        const dataTable =\n",
              "          await google.colab.kernel.invokeFunction('convertToInteractive',\n",
              "                                                    [key], {});\n",
              "        if (!dataTable) return;\n",
              "\n",
              "        const docLinkHtml = 'Like what you see? Visit the ' +\n",
              "          '<a target=\"_blank\" href=https://colab.research.google.com/notebooks/data_table.ipynb>data table notebook</a>'\n",
              "          + ' to learn more about interactive tables.';\n",
              "        element.innerHTML = '';\n",
              "        dataTable['output_type'] = 'display_data';\n",
              "        await google.colab.output.renderOutput(dataTable, element);\n",
              "        const docLink = document.createElement('div');\n",
              "        docLink.innerHTML = docLinkHtml;\n",
              "        element.appendChild(docLink);\n",
              "      }\n",
              "    </script>\n",
              "  </div>\n",
              "\n",
              "\n",
              "<div id=\"df-f0a0fe32-3cc6-4015-a784-9a058e8dc86b\">\n",
              "  <button class=\"colab-df-quickchart\" onclick=\"quickchart('df-f0a0fe32-3cc6-4015-a784-9a058e8dc86b')\"\n",
              "            title=\"Suggest charts\"\n",
              "            style=\"display:none;\">\n",
              "\n",
              "<svg xmlns=\"http://www.w3.org/2000/svg\" height=\"24px\"viewBox=\"0 0 24 24\"\n",
              "     width=\"24px\">\n",
              "    <g>\n",
              "        <path d=\"M19 3H5c-1.1 0-2 .9-2 2v14c0 1.1.9 2 2 2h14c1.1 0 2-.9 2-2V5c0-1.1-.9-2-2-2zM9 17H7v-7h2v7zm4 0h-2V7h2v10zm4 0h-2v-4h2v4z\"/>\n",
              "    </g>\n",
              "</svg>\n",
              "  </button>\n",
              "\n",
              "<style>\n",
              "  .colab-df-quickchart {\n",
              "      --bg-color: #E8F0FE;\n",
              "      --fill-color: #1967D2;\n",
              "      --hover-bg-color: #E2EBFA;\n",
              "      --hover-fill-color: #174EA6;\n",
              "      --disabled-fill-color: #AAA;\n",
              "      --disabled-bg-color: #DDD;\n",
              "  }\n",
              "\n",
              "  [theme=dark] .colab-df-quickchart {\n",
              "      --bg-color: #3B4455;\n",
              "      --fill-color: #D2E3FC;\n",
              "      --hover-bg-color: #434B5C;\n",
              "      --hover-fill-color: #FFFFFF;\n",
              "      --disabled-bg-color: #3B4455;\n",
              "      --disabled-fill-color: #666;\n",
              "  }\n",
              "\n",
              "  .colab-df-quickchart {\n",
              "    background-color: var(--bg-color);\n",
              "    border: none;\n",
              "    border-radius: 50%;\n",
              "    cursor: pointer;\n",
              "    display: none;\n",
              "    fill: var(--fill-color);\n",
              "    height: 32px;\n",
              "    padding: 0;\n",
              "    width: 32px;\n",
              "  }\n",
              "\n",
              "  .colab-df-quickchart:hover {\n",
              "    background-color: var(--hover-bg-color);\n",
              "    box-shadow: 0 1px 2px rgba(60, 64, 67, 0.3), 0 1px 3px 1px rgba(60, 64, 67, 0.15);\n",
              "    fill: var(--button-hover-fill-color);\n",
              "  }\n",
              "\n",
              "  .colab-df-quickchart-complete:disabled,\n",
              "  .colab-df-quickchart-complete:disabled:hover {\n",
              "    background-color: var(--disabled-bg-color);\n",
              "    fill: var(--disabled-fill-color);\n",
              "    box-shadow: none;\n",
              "  }\n",
              "\n",
              "  .colab-df-spinner {\n",
              "    border: 2px solid var(--fill-color);\n",
              "    border-color: transparent;\n",
              "    border-bottom-color: var(--fill-color);\n",
              "    animation:\n",
              "      spin 1s steps(1) infinite;\n",
              "  }\n",
              "\n",
              "  @keyframes spin {\n",
              "    0% {\n",
              "      border-color: transparent;\n",
              "      border-bottom-color: var(--fill-color);\n",
              "      border-left-color: var(--fill-color);\n",
              "    }\n",
              "    20% {\n",
              "      border-color: transparent;\n",
              "      border-left-color: var(--fill-color);\n",
              "      border-top-color: var(--fill-color);\n",
              "    }\n",
              "    30% {\n",
              "      border-color: transparent;\n",
              "      border-left-color: var(--fill-color);\n",
              "      border-top-color: var(--fill-color);\n",
              "      border-right-color: var(--fill-color);\n",
              "    }\n",
              "    40% {\n",
              "      border-color: transparent;\n",
              "      border-right-color: var(--fill-color);\n",
              "      border-top-color: var(--fill-color);\n",
              "    }\n",
              "    60% {\n",
              "      border-color: transparent;\n",
              "      border-right-color: var(--fill-color);\n",
              "    }\n",
              "    80% {\n",
              "      border-color: transparent;\n",
              "      border-right-color: var(--fill-color);\n",
              "      border-bottom-color: var(--fill-color);\n",
              "    }\n",
              "    90% {\n",
              "      border-color: transparent;\n",
              "      border-bottom-color: var(--fill-color);\n",
              "    }\n",
              "  }\n",
              "</style>\n",
              "\n",
              "  <script>\n",
              "    async function quickchart(key) {\n",
              "      const quickchartButtonEl =\n",
              "        document.querySelector('#' + key + ' button');\n",
              "      quickchartButtonEl.disabled = true;  // To prevent multiple clicks.\n",
              "      quickchartButtonEl.classList.add('colab-df-spinner');\n",
              "      try {\n",
              "        const charts = await google.colab.kernel.invokeFunction(\n",
              "            'suggestCharts', [key], {});\n",
              "      } catch (error) {\n",
              "        console.error('Error during call to suggestCharts:', error);\n",
              "      }\n",
              "      quickchartButtonEl.classList.remove('colab-df-spinner');\n",
              "      quickchartButtonEl.classList.add('colab-df-quickchart-complete');\n",
              "    }\n",
              "    (() => {\n",
              "      let quickchartButtonEl =\n",
              "        document.querySelector('#df-f0a0fe32-3cc6-4015-a784-9a058e8dc86b button');\n",
              "      quickchartButtonEl.style.display =\n",
              "        google.colab.kernel.accessAllowed ? 'block' : 'none';\n",
              "    })();\n",
              "  </script>\n",
              "</div>\n",
              "\n",
              "    </div>\n",
              "  </div>\n"
            ],
            "application/vnd.google.colaboratory.intrinsic+json": {
              "type": "dataframe",
              "variable_name": "df",
              "summary": "{\n  \"name\": \"df\",\n  \"rows\": 2934,\n  \"fields\": [\n    {\n      \"column\": \"wrong_sentence\",\n      \"properties\": {\n        \"dtype\": \"category\",\n        \"num_unique_values\": 1360,\n        \"samples\": [\n          \"\\u0627\\u06cc\\u0627 \\u0627\\u0646 \\u062f\\u0648 \\u06a9\\u0644\\u200c\\u06a9\\u0644 \\u0627\\u0633\\u062a . \\u0646\\u0647 \\u0627\\u0646 \\u0634\\u0648\\u062a\\u0631 \\u0627\\u0633\\u062a .\",\n          \". \\u062a\\u063a\\u0630\\u06cc\\u0647\",\n          \"\\u0647\\u0645\\u0627\\u0646 \\u0630\\u06a9\\u0631 \\u0627\\u06cc\\u0646 \\u0642\\u0635\\u0647 \\u062a\\u0645\\u062b\\u06cc\\u0644\\u06cc \\u0627\\u0633\\u062a \\u06a9\\u0647 \\u063a\\u0627\\u0641\\u0644\\u0627\\u0646 \\u0628\\u0647 \\u062e\\u0648\\u062f \\u0622\\u06cc\\u0646\\u062f \\u0648 \\u0641\\u06a9\\u0631\\u06cc \\u0628\\u0647 \\u0639\\u0627\\u0642\\u0628\\u062a \\u0627\\u06cc\\u0646 \\u062c\\u0646\\u062c\\u0627\\u0644 \\u0632\\u0646\\u062f\\u06af\\u06cc \\u0628\\u0646\\u0645\\u0627\\u06cc\\u0646\\u062f \\u0648 \\u062f\\u0631 \\u0627\\u06cc\\u0646 \\u0627\\u0646\\u062f\\u06cc\\u0634\\u0647 \\u0628\\u0627\\u0634\\u0646\\u062f \\u06a9\\u0647 \\u062c\\u0632\\u06cc\\u0631\\u0647 \\u0627\\u06cc \\u0622\\u0628\\u0627\\u062f \\u0628\\u0631\\u0627\\u06cc \\u0631\\u0648\\u0632\\u06af\\u0627\\u0631 \\u0648\\u0627\\u067e\\u0633\\u06cc\\u0646 \\u062e\\u0648\\u062f \\u062f\\u0631 \\u0632\\u0645\\u0627\\u0646\\u06cc \\u06a9\\u0647 \\u0642\\u062f\\u0631\\u062a \\u062f\\u0627\\u0631\\u0646\\u062f \\u0628\\u0633\\u0627\\u0632\\u0646\\u062f .\"\n        ],\n        \"semantic_type\": \"\",\n        \"description\": \"\"\n      }\n    },\n    {\n      \"column\": \"correct_sentence\",\n      \"properties\": {\n        \"dtype\": \"string\",\n        \"num_unique_values\": 2791,\n        \"samples\": [\n          \"\\u0645\\u0646 \\u0633\\u0647 \\u062a\\u0627 \\u0641\\u0631\\u0632\\u0646\\u062f \\u062f\\u0627\\u0631\\u0645 \\u061b \\u062f\\u0648\\u062a\\u0627 \\u067e\\u0633\\u0631 \\u06cc\\u06a9 \\u062f\\u062e\\u062a\\u0631 \\u0627\\u0633\\u0645 \\u062f\\u062e\\u062a\\u0631 \\u0645\\u0646 \\u062a\\u0637\\u0647\\u06cc\\u0631 \\u0632\\u0647\\u0631\\u0627 \\u0627\\u0633\\u062a .\",\n          \"\\u062f\\u0648\\u0634 \\u0645\\u06cc \\u06af\\u06cc\\u0631\\u0645 \\u0645\\u0633\\u0648\\u0627\\u06a9 \\u0645\\u06cc \\u0632\\u0646\\u0645 \\u0648\\u0636\\u0648 \\u0647\\u0645 \\u0645\\u06cc \\u06af\\u06cc\\u0631\\u0645 .\",\n          \"\\u0627\\u06cc \\u0628\\u0631\\u0627\\u062f\\u0631\\u0627\\u0646 \\u06a9\\u0627\\u0631 \\u062c\\u0647\\u0627\\u0646 \\u06cc\\u06a9\\u0633\\u0627\\u0646 \\u0646\\u0645\\u06cc \\u0628\\u0627\\u0634\\u062f \\u0648 \\u062d\\u0627\\u0644 \\u0622\\u062f\\u0645\\u06cc \\u0628\\u0631 \\u06cc\\u06a9 \\u0646\\u0647\\u062c \\u0646\\u0645\\u06cc\\u200c\\u0645\\u0627\\u0646\\u062f \\u0628\\u0627\\u06cc\\u062f \\u067e\\u0646\\u062c \\u0686\\u06cc\\u0632 \\u0631\\u0627 \\u067e\\u06cc\\u0634 \\u0627\\u0632 \\u067e\\u0646\\u062c \\u0686\\u06cc\\u0632 \\u063a\\u0646\\u06cc\\u0645\\u062a \\u0634\\u0645\\u0631\\u062f . \\u0632\\u0646\\u062f\\u06af\\u0627\\u0646\\u06cc \\u0631\\u0627 \\u067e\\u06cc\\u0634 \\u0627\\u0632 \\u0645\\u0631\\u06af \\u060c \\u062a\\u0646\\u062f\\u0631\\u0633\\u062a\\u06cc \\u0631\\u0627 \\u067e\\u06cc\\u0634 \\u0627\\u0632 \\u062e\\u0633\\u062a\\u06af\\u06cc \\u060c \\u062c\\u0648\\u0627\\u0646\\u06cc \\u0631\\u0627 \\u067e\\u06cc\\u0634 \\u0627\\u0632 \\u067e\\u06cc\\u0631\\u06cc \\u060c \\u062a\\u0648\\u0646\\u06af\\u0631\\u06cc \\u0631\\u0627 \\u067e\\u06cc\\u0634 \\u0627\\u0632 \\u062a\\u0646\\u06af \\u062f\\u0633\\u062a\\u06cc \\u060c \\u0641\\u0631\\u0627\\u0642 \\u0631\\u0627 \\u067e\\u06cc\\u0634 \\u0627\\u0632 \\u0634\\u063a\\u0644 . \\u0647\\u0631 \\u06a9\\u0633 \\u06a9\\u0647 \\u0627\\u06cc\\u0646 \\u067e\\u0646\\u062c \\u0646\\u0639\\u0645\\u062a \\u0627\\u0632 \\u062f\\u0633\\u062a \\u062f\\u0627\\u062f \\u0648 \\u0627\\u0632 \\u0622\\u0646\\u0647\\u0627 \\u0628\\u0647\\u0631\\u0647 \\u0646\\u0628\\u0631\\u062f \\u060c \\u0648\\u0627\\u06cc \\u0628\\u0631 \\u0627\\u0648 . \\u0686\\u0648\\u0646 \\u062f\\u0648\\u0631 \\u0628\\u06af\\u0631\\u062f\\u062f \\u0648 \\u062d\\u0627\\u0644 \\u062f\\u06af\\u0631\\u06af\\u0648\\u0646 \\u0634\\u0648\\u062f \\u0648 \\u0627\\u06cc\\u0646 \\u0646\\u0639\\u0645\\u062a\\u200c\\u0647\\u0627 \\u0627\\u0632 \\u0648\\u06cc \\u0633\\u0644\\u0628 \\u06a9\\u0646\\u0646\\u062f .\"\n        ],\n        \"semantic_type\": \"\",\n        \"description\": \"\"\n      }\n    }\n  ]\n}"
            }
          },
          "metadata": {},
          "execution_count": 8
        }
      ]
    },
    {
      "cell_type": "code",
      "execution_count": 9,
      "metadata": {
        "id": "SG4Ep-C6Kq5Y"
      },
      "outputs": [],
      "source": [
        "#create vocabulay\n",
        "symbols_to_remove = ['@', '#', '$', '%', '^', '&', '*', '(', ')','[',']','{','}','\"','*\\r','+',',','ø','>>','CV','EXPO','None','alfare','fat','«','0-9','\\\\u200','\\\\u200c','\\\\u200f','\\\\u200e']\n",
        "# Create a regex pattern that matches any of the symbols in the list\n",
        "pattern = re.compile(f\"[{re.escape(''.join(symbols_to_remove))}]\")"
      ]
    },
    {
      "cell_type": "code",
      "execution_count": 10,
      "metadata": {
        "id": "l5sIXcS4MiJN"
      },
      "outputs": [],
      "source": [
        "# create a dictionary to convert the vocabulary to integers\n",
        "vocab_to_int = {}\n",
        "count = 0\n",
        "#tokenize and put <start> , < end >\n",
        "# Add special tokens to vocab_to_int\n",
        "codes = ['<PAD>','<eos>','<sos>','<UNK>']\n",
        "for code in codes:\n",
        "    vocab_to_int[code] = count\n",
        "    count += 1\n",
        "\n",
        "for index in df.index:\n",
        "    for word in word_tokenize(df.at[index,\"wrong_sentence\"]):\n",
        "        cleaned_string = pattern.sub(\"\", word)\n",
        "        # cleaned_string = new_word.replace(\"\\u200c\", \"\").replace(\"\\u200f\", \"\")\n",
        "        if cleaned_string not in vocab_to_int:\n",
        "            vocab_to_int[cleaned_string] = count\n",
        "            count += 1\n",
        "    for word in word_tokenize(df.at[index,\"correct_sentence\"]):\n",
        "        cleaned_string = pattern.sub(\"\", word)\n",
        "        # cleaned_string = new_word.replace(\"\\u200c\", \"\").replace(\"\\u200f\", \"\")\n",
        "        if cleaned_string not in vocab_to_int:\n",
        "            vocab_to_int[cleaned_string] = count\n",
        "            count += 1"
      ]
    },
    {
      "cell_type": "code",
      "execution_count": 10,
      "metadata": {
        "id": "a64Tv7QSKq8u"
      },
      "outputs": [],
      "source": []
    },
    {
      "cell_type": "code",
      "execution_count": 11,
      "metadata": {
        "colab": {
          "base_uri": "https://localhost:8080/"
        },
        "id": "FGZsZqTPNdc2",
        "outputId": "6d51b97d-a60c-4de0-c726-db135abb5246"
      },
      "outputs": [
        {
          "output_type": "stream",
          "name": "stdout",
          "text": [
            "The vocabulary contains 5220 words.\n"
          ]
        }
      ],
      "source": [
        "vocab_size = len(vocab_to_int)\n",
        "print(\"The vocabulary contains {} words.\".format(vocab_size))"
      ]
    },
    {
      "cell_type": "code",
      "execution_count": 12,
      "metadata": {
        "id": "T6_eq3Z6Ngl9"
      },
      "outputs": [],
      "source": [
        "# Create another dictionary to convert integers to their respective characters\n",
        "int_to_vocab = {}\n",
        "for word, value in vocab_to_int.items():\n",
        "    int_to_vocab[value] = word"
      ]
    },
    {
      "cell_type": "code",
      "source": [
        "tokenizer = tfds.deprecated.text.SubwordTextEncoder.build_from_corpus(\n",
        "    df['correct_sentence'], target_vocab_size=len(vocab_to_int))"
      ],
      "metadata": {
        "id": "pxesL1_Cu7QL"
      },
      "execution_count": 13,
      "outputs": []
    },
    {
      "cell_type": "code",
      "source": [
        "# Example text\n",
        "text = \"زبان فارسی زیبا است.\"\n",
        "\n",
        "# Encode the text\n",
        "encoded = tokenizer.encode(text)\n",
        "print(\"Encoded:\", encoded)\n",
        "\n",
        "# Decode the subwords back to the original text\n",
        "decoded = tokenizer.decode(encoded)\n",
        "print(\"Decoded:\", decoded)"
      ],
      "metadata": {
        "colab": {
          "base_uri": "https://localhost:8080/"
        },
        "id": "1PTfM1LsvP8W",
        "outputId": "a3038584-feb8-4d89-913f-5700e1b7a280"
      },
      "execution_count": 14,
      "outputs": [
        {
          "output_type": "stream",
          "name": "stdout",
          "text": [
            "Encoded: [211, 313, 481, 15, 4298]\n",
            "Decoded: زبان فارسی زیبا است.\n"
          ]
        }
      ]
    },
    {
      "cell_type": "code",
      "execution_count": 15,
      "metadata": {
        "id": "uAAMKovYKq3D"
      },
      "outputs": [],
      "source": [
        "#change input to tokens_id\n",
        "def tokenizer(sentence):\n",
        "    tmp=[]\n",
        "    tmp.append(vocab_to_int[\"<sos>\"])\n",
        "    for word in word_tokenize(sentence):\n",
        "        cleaned_string = pattern.sub(\"\", word)\n",
        "        if cleaned_string not in vocab_to_int:\n",
        "            tmp.append(vocab_to_int[\"<UNK>\"])\n",
        "        else:\n",
        "          tmp.append(vocab_to_int[cleaned_string])\n",
        "    tmp.append(vocab_to_int[\"<eos>\"])\n",
        "    # padded_sequences = tf.keras.preprocessing.sequence.pad_sequences([tmp],maxlen=512 ,padding='post', value=vocab_to_int[\"<PAD>\"])\n",
        "    return tmp\n",
        "\n"
      ]
    },
    {
      "cell_type": "code",
      "execution_count": 16,
      "metadata": {
        "id": "_68o2y7HO9pK"
      },
      "outputs": [],
      "source": [
        "def detokenizer(tokens):\n",
        "    tmp=\"\"\n",
        "    for token in tokens:\n",
        "        tmp+=int_to_vocab[token]+\" \"\n",
        "    return tmp"
      ]
    },
    {
      "cell_type": "code",
      "execution_count": 16,
      "metadata": {
        "id": "LqEDJ6MgOVhP"
      },
      "outputs": [],
      "source": []
    },
    {
      "cell_type": "code",
      "execution_count": 17,
      "metadata": {
        "id": "jlZAWYfJKq0g"
      },
      "outputs": [],
      "source": [
        "lengths = []\n",
        "\n",
        "for ind in df.index:\n",
        "  wr_tokens = tokenizer(df.at[ind,\"wrong_sentence\"])\n",
        "  lengths.append(len(wr_tokens))\n",
        "  cor_tokens = tokenizer(df.at[ind,\"correct_sentence\"])\n",
        "  lengths.append(len(cor_tokens))"
      ]
    },
    {
      "cell_type": "code",
      "execution_count": 18,
      "metadata": {
        "colab": {
          "base_uri": "https://localhost:8080/",
          "height": 452
        },
        "id": "PqKl2MKGKqxp",
        "outputId": "776bbf12-1454-4e7f-ea69-08f0446224dc"
      },
      "outputs": [
        {
          "output_type": "display_data",
          "data": {
            "text/plain": [
              "<Figure size 640x480 with 1 Axes>"
            ],
            "image/png": "[encoded data removed]"
          },
          "metadata": {}
        }
      ],
      "source": [
        "\n",
        "plt.hist(lengths, np.linspace(0, 500, 101))\n",
        "plt.ylim(plt.ylim())\n",
        "max_length = max(lengths)\n",
        "plt.plot([max_length, max_length], plt.ylim())\n",
        "plt.title(f'Maximum tokens per example: {max_length}');"
      ]
    },
    {
      "cell_type": "code",
      "execution_count": 19,
      "metadata": {
        "id": "kfCX3Lp9y5uv"
      },
      "outputs": [],
      "source": [
        "wrong_sentence=[]\n",
        "correct_sentence_inputs=[]\n",
        "correct_sentence_labels=[]\n",
        "# MAX_TOKENS=256\n",
        "for ind in df.index:\n",
        "  wrong=tokenizer(df.at[ind,\"wrong_sentence\"])\n",
        "  # wrong=wrong[:, :MAX_TOKENS]    # Trim to MAX_TOKENS.\n",
        "  wrong_sentence.append(tf.keras.preprocessing.sequence.pad_sequences([wrong],maxlen=256 ,padding='post', value=vocab_to_int[\"<PAD>\"],truncating='post')\n",
        ")\n",
        "  correct_inputs=tokenizer(df.at[ind,\"correct_sentence\"])\n",
        "  # correct_sentence = correct_inputs[:, :(MAX_TOKENS+1)]\n",
        "  correct_sentence_inputs_one = correct_inputs[:-1]     #drop <eos>\n",
        "  correct_sentence_labels_one=correct_inputs[1:]        #drop <sos>\n",
        "  correct_sentence_inputs .append(tf.keras.preprocessing.sequence.pad_sequences([correct_sentence_inputs_one],maxlen=256 ,padding='post', value=vocab_to_int[\"<PAD>\"],truncating='post') )\n",
        "  correct_sentence_labels .append(tf.keras.preprocessing.sequence.pad_sequences([correct_sentence_labels_one],maxlen=256 ,padding='post', value=vocab_to_int[\"<PAD>\"],truncating='post') )\n"
      ]
    },
    {
      "cell_type": "code",
      "source": [
        "x=tokenizer(df.at[2,\"correct_sentence\"])"
      ],
      "metadata": {
        "id": "Or51PPsadcHR"
      },
      "execution_count": 20,
      "outputs": []
    },
    {
      "cell_type": "code",
      "execution_count": 21,
      "metadata": {
        "id": "oNGaQgYv0Seb",
        "colab": {
          "base_uri": "https://localhost:8080/"
        },
        "outputId": "0044bbe0-eb10-43e9-b769-50f9bdf8e9d0"
      },
      "outputs": [
        {
          "output_type": "stream",
          "name": "stdout",
          "text": [
            "190\n",
            "189\n",
            "[2, 4, 5, 6, 7, 7, 8, 9, 10, 11, 12, 13, 14, 15, 7, 16, 17, 7, 18, 8, 10, 11, 19, 20, 21, 22, 23, 19, 24, 25, 26, 27, 26, 28, 29, 7, 30, 19, 31, 32, 11, 33, 34, 19, 35, 33, 23, 36, 37, 38, 39, 25, 26, 27, 26, 40, 41, 42, 43, 44, 24, 39, 45, 46, 47, 48, 33, 49, 9, 50, 51, 22, 16, 19, 48, 33, 49, 17, 52, 22, 16, 14, 12, 13, 53, 54, 55, 56, 16, 90, 12, 13, 57, 54, 55, 58, 56, 16, 59, 60, 29, 61, 12, 13, 62, 63, 64, 59, 60, 8, 33, 65, 66, 55, 63, 16, 67, 68, 61, 67, 69, 61, 67, 70, 61, 67, 71, 61, 53, 59, 60, 29, 61, 7, 72, 73, 8, 33, 65, 74, 75, 76, 77, 7, 78, 79, 19, 7, 10, 80, 59, 60, 33, 65, 81, 56, 82, 24, 7, 78, 79, 83, 54, 84, 33, 35, 22, 85, 19, 7, 78, 16, 73, 29, 61, 7, 78, 79, 73, 29, 54, 84, 86, 54, 87, 22, 85, 88, 89]\n"
          ]
        }
      ],
      "source": [
        "print(len(x))\n",
        "x=x[:-1]\n",
        "print(len(x))\n",
        "print(x)"
      ]
    },
    {
      "cell_type": "code",
      "execution_count": 22,
      "metadata": {
        "id": "9DZQPQgH0CUd"
      },
      "outputs": [],
      "source": [
        "df=pd.DataFrame({\n",
        "    \"wrong_sentence\":wrong_sentence,\n",
        "    \"correct_sentence_inputs\":correct_sentence_inputs,\n",
        "    \"correct_sentence_labels\":correct_sentence_labels\n",
        "})"
      ]
    },
    {
      "cell_type": "code",
      "execution_count": 23,
      "metadata": {
        "colab": {
          "base_uri": "https://localhost:8080/",
          "height": 293
        },
        "id": "PeWFcg6M0d6d",
        "outputId": "015a6124-1255-49ff-9eb1-facbcf02ed55"
      },
      "outputs": [
        {
          "output_type": "execute_result",
          "data": {
            "text/plain": [
              "                                      wrong_sentence  \\\n",
              "0  [[2, 4, 5, 6, 7, 7, 8, 9, 10, 11, 12, 13, 14, ...   \n",
              "1  [[2, 4, 5, 6, 7, 7, 8, 9, 10, 11, 12, 13, 14, ...   \n",
              "2  [[2, 4, 5, 6, 7, 7, 8, 9, 10, 11, 12, 13, 14, ...   \n",
              "3  [[2, 4, 5, 6, 7, 7, 8, 9, 10, 11, 12, 13, 14, ...   \n",
              "4  [[2, 4, 5, 6, 7, 7, 8, 9, 10, 11, 12, 13, 14, ...   \n",
              "\n",
              "                             correct_sentence_inputs  \\\n",
              "0  [[2, 4, 5, 6, 7, 7, 8, 9, 10, 11, 12, 13, 14, ...   \n",
              "1  [[2, 4, 5, 6, 7, 7, 8, 9, 10, 11, 12, 13, 14, ...   \n",
              "2  [[2, 4, 5, 6, 7, 7, 8, 9, 10, 11, 12, 13, 14, ...   \n",
              "3  [[2, 4, 5, 6, 7, 7, 8, 9, 10, 11, 12, 13, 14, ...   \n",
              "4  [[2, 4, 5, 6, 7, 7, 8, 9, 10, 11, 12, 13, 14, ...   \n",
              "\n",
              "                             correct_sentence_labels  \n",
              "0  [[4, 5, 6, 7, 7, 8, 9, 10, 11, 12, 13, 14, 15,...  \n",
              "1  [[4, 5, 6, 7, 7, 8, 9, 10, 11, 12, 13, 14, 15,...  \n",
              "2  [[4, 5, 6, 7, 7, 8, 9, 10, 11, 12, 13, 14, 15,...  \n",
              "3  [[4, 5, 6, 7, 7, 8, 9, 10, 11, 12, 13, 14, 15,...  \n",
              "4  [[4, 5, 6, 7, 7, 8, 9, 10, 11, 12, 13, 14, 15,...  "
            ],
            "text/html": [
              "\n",
              "  <div id=\"df-6b25f11c-58b4-48d0-aca7-393043f83a89\" class=\"colab-df-container\">\n",
              "    <div>\n",
              "<style scoped>\n",
              "    .dataframe tbody tr th:only-of-type {\n",
              "        vertical-align: middle;\n",
              "    }\n",
              "\n",
              "    .dataframe tbody tr th {\n",
              "        vertical-align: top;\n",
              "    }\n",
              "\n",
              "    .dataframe thead th {\n",
              "        text-align: right;\n",
              "    }\n",
              "</style>\n",
              "<table border=\"1\" class=\"dataframe\">\n",
              "  <thead>\n",
              "    <tr style=\"text-align: right;\">\n",
              "      <th></th>\n",
              "      <th>wrong_sentence</th>\n",
              "      <th>correct_sentence_inputs</th>\n",
              "      <th>correct_sentence_labels</th>\n",
              "    </tr>\n",
              "  </thead>\n",
              "  <tbody>\n",
              "    <tr>\n",
              "      <th>0</th>\n",
              "      <td>[[2, 4, 5, 6, 7, 7, 8, 9, 10, 11, 12, 13, 14, ...</td>\n",
              "      <td>[[2, 4, 5, 6, 7, 7, 8, 9, 10, 11, 12, 13, 14, ...</td>\n",
              "      <td>[[4, 5, 6, 7, 7, 8, 9, 10, 11, 12, 13, 14, 15,...</td>\n",
              "    </tr>\n",
              "    <tr>\n",
              "      <th>1</th>\n",
              "      <td>[[2, 4, 5, 6, 7, 7, 8, 9, 10, 11, 12, 13, 14, ...</td>\n",
              "      <td>[[2, 4, 5, 6, 7, 7, 8, 9, 10, 11, 12, 13, 14, ...</td>\n",
              "      <td>[[4, 5, 6, 7, 7, 8, 9, 10, 11, 12, 13, 14, 15,...</td>\n",
              "    </tr>\n",
              "    <tr>\n",
              "      <th>2</th>\n",
              "      <td>[[2, 4, 5, 6, 7, 7, 8, 9, 10, 11, 12, 13, 14, ...</td>\n",
              "      <td>[[2, 4, 5, 6, 7, 7, 8, 9, 10, 11, 12, 13, 14, ...</td>\n",
              "      <td>[[4, 5, 6, 7, 7, 8, 9, 10, 11, 12, 13, 14, 15,...</td>\n",
              "    </tr>\n",
              "    <tr>\n",
              "      <th>3</th>\n",
              "      <td>[[2, 4, 5, 6, 7, 7, 8, 9, 10, 11, 12, 13, 14, ...</td>\n",
              "      <td>[[2, 4, 5, 6, 7, 7, 8, 9, 10, 11, 12, 13, 14, ...</td>\n",
              "      <td>[[4, 5, 6, 7, 7, 8, 9, 10, 11, 12, 13, 14, 15,...</td>\n",
              "    </tr>\n",
              "    <tr>\n",
              "      <th>4</th>\n",
              "      <td>[[2, 4, 5, 6, 7, 7, 8, 9, 10, 11, 12, 13, 14, ...</td>\n",
              "      <td>[[2, 4, 5, 6, 7, 7, 8, 9, 10, 11, 12, 13, 14, ...</td>\n",
              "      <td>[[4, 5, 6, 7, 7, 8, 9, 10, 11, 12, 13, 14, 15,...</td>\n",
              "    </tr>\n",
              "  </tbody>\n",
              "</table>\n",
              "</div>\n",
              "    <div class=\"colab-df-buttons\">\n",
              "\n",
              "  <div class=\"colab-df-container\">\n",
              "    <button class=\"colab-df-convert\" onclick=\"convertToInteractive('df-6b25f11c-58b4-48d0-aca7-393043f83a89')\"\n",
              "            title=\"Convert this dataframe to an interactive table.\"\n",
              "            style=\"display:none;\">\n",
              "\n",
              "  <svg xmlns=\"http://www.w3.org/2000/svg\" height=\"24px\" viewBox=\"0 -960 960 960\">\n",
              "    <path d=\"M120-120v-720h720v720H120Zm60-500h600v-160H180v160Zm220 220h160v-160H400v160Zm0 220h160v-160H400v160ZM180-400h160v-160H180v160Zm440 0h160v-160H620v160ZM180-180h160v-160H180v160Zm440 0h160v-160H620v160Z\"/>\n",
              "  </svg>\n",
              "    </button>\n",
              "\n",
              "  <style>\n",
              "    .colab-df-container {\n",
              "      display:flex;\n",
              "      gap: 12px;\n",
              "    }\n",
              "\n",
              "    .colab-df-convert {\n",
              "      background-color: #E8F0FE;\n",
              "      border: none;\n",
              "      border-radius: 50%;\n",
              "      cursor: pointer;\n",
              "      display: none;\n",
              "      fill: #1967D2;\n",
              "      height: 32px;\n",
              "      padding: 0 0 0 0;\n",
              "      width: 32px;\n",
              "    }\n",
              "\n",
              "    .colab-df-convert:hover {\n",
              "      background-color: #E2EBFA;\n",
              "      box-shadow: 0px 1px 2px rgba(60, 64, 67, 0.3), 0px 1px 3px 1px rgba(60, 64, 67, 0.15);\n",
              "      fill: #174EA6;\n",
              "    }\n",
              "\n",
              "    .colab-df-buttons div {\n",
              "      margin-bottom: 4px;\n",
              "    }\n",
              "\n",
              "    [theme=dark] .colab-df-convert {\n",
              "      background-color: #3B4455;\n",
              "      fill: #D2E3FC;\n",
              "    }\n",
              "\n",
              "    [theme=dark] .colab-df-convert:hover {\n",
              "      background-color: #434B5C;\n",
              "      box-shadow: 0px 1px 3px 1px rgba(0, 0, 0, 0.15);\n",
              "      filter: drop-shadow(0px 1px 2px rgba(0, 0, 0, 0.3));\n",
              "      fill: #FFFFFF;\n",
              "    }\n",
              "  </style>\n",
              "\n",
              "    <script>\n",
              "      const buttonEl =\n",
              "        document.querySelector('#df-6b25f11c-58b4-48d0-aca7-393043f83a89 button.colab-df-convert');\n",
              "      buttonEl.style.display =\n",
              "        google.colab.kernel.accessAllowed ? 'block' : 'none';\n",
              "\n",
              "      async function convertToInteractive(key) {\n",
              "        const element = document.querySelector('#df-6b25f11c-58b4-48d0-aca7-393043f83a89');\n",
              "        const dataTable =\n",
              "          await google.colab.kernel.invokeFunction('convertToInteractive',\n",
              "                                                    [key], {});\n",
              "        if (!dataTable) return;\n",
              "\n",
              "        const docLinkHtml = 'Like what you see? Visit the ' +\n",
              "          '<a target=\"_blank\" href=https://colab.research.google.com/notebooks/data_table.ipynb>data table notebook</a>'\n",
              "          + ' to learn more about interactive tables.';\n",
              "        element.innerHTML = '';\n",
              "        dataTable['output_type'] = 'display_data';\n",
              "        await google.colab.output.renderOutput(dataTable, element);\n",
              "        const docLink = document.createElement('div');\n",
              "        docLink.innerHTML = docLinkHtml;\n",
              "        element.appendChild(docLink);\n",
              "      }\n",
              "    </script>\n",
              "  </div>\n",
              "\n",
              "\n",
              "<div id=\"df-df121c2c-148b-4f43-b99a-a8a188a10170\">\n",
              "  <button class=\"colab-df-quickchart\" onclick=\"quickchart('df-df121c2c-148b-4f43-b99a-a8a188a10170')\"\n",
              "            title=\"Suggest charts\"\n",
              "            style=\"display:none;\">\n",
              "\n",
              "<svg xmlns=\"http://www.w3.org/2000/svg\" height=\"24px\"viewBox=\"0 0 24 24\"\n",
              "     width=\"24px\">\n",
              "    <g>\n",
              "        <path d=\"M19 3H5c-1.1 0-2 .9-2 2v14c0 1.1.9 2 2 2h14c1.1 0 2-.9 2-2V5c0-1.1-.9-2-2-2zM9 17H7v-7h2v7zm4 0h-2V7h2v10zm4 0h-2v-4h2v4z\"/>\n",
              "    </g>\n",
              "</svg>\n",
              "  </button>\n",
              "\n",
              "<style>\n",
              "  .colab-df-quickchart {\n",
              "      --bg-color: #E8F0FE;\n",
              "      --fill-color: #1967D2;\n",
              "      --hover-bg-color: #E2EBFA;\n",
              "      --hover-fill-color: #174EA6;\n",
              "      --disabled-fill-color: #AAA;\n",
              "      --disabled-bg-color: #DDD;\n",
              "  }\n",
              "\n",
              "  [theme=dark] .colab-df-quickchart {\n",
              "      --bg-color: #3B4455;\n",
              "      --fill-color: #D2E3FC;\n",
              "      --hover-bg-color: #434B5C;\n",
              "      --hover-fill-color: #FFFFFF;\n",
              "      --disabled-bg-color: #3B4455;\n",
              "      --disabled-fill-color: #666;\n",
              "  }\n",
              "\n",
              "  .colab-df-quickchart {\n",
              "    background-color: var(--bg-color);\n",
              "    border: none;\n",
              "    border-radius: 50%;\n",
              "    cursor: pointer;\n",
              "    display: none;\n",
              "    fill: var(--fill-color);\n",
              "    height: 32px;\n",
              "    padding: 0;\n",
              "    width: 32px;\n",
              "  }\n",
              "\n",
              "  .colab-df-quickchart:hover {\n",
              "    background-color: var(--hover-bg-color);\n",
              "    box-shadow: 0 1px 2px rgba(60, 64, 67, 0.3), 0 1px 3px 1px rgba(60, 64, 67, 0.15);\n",
              "    fill: var(--button-hover-fill-color);\n",
              "  }\n",
              "\n",
              "  .colab-df-quickchart-complete:disabled,\n",
              "  .colab-df-quickchart-complete:disabled:hover {\n",
              "    background-color: var(--disabled-bg-color);\n",
              "    fill: var(--disabled-fill-color);\n",
              "    box-shadow: none;\n",
              "  }\n",
              "\n",
              "  .colab-df-spinner {\n",
              "    border: 2px solid var(--fill-color);\n",
              "    border-color: transparent;\n",
              "    border-bottom-color: var(--fill-color);\n",
              "    animation:\n",
              "      spin 1s steps(1) infinite;\n",
              "  }\n",
              "\n",
              "  @keyframes spin {\n",
              "    0% {\n",
              "      border-color: transparent;\n",
              "      border-bottom-color: var(--fill-color);\n",
              "      border-left-color: var(--fill-color);\n",
              "    }\n",
              "    20% {\n",
              "      border-color: transparent;\n",
              "      border-left-color: var(--fill-color);\n",
              "      border-top-color: var(--fill-color);\n",
              "    }\n",
              "    30% {\n",
              "      border-color: transparent;\n",
              "      border-left-color: var(--fill-color);\n",
              "      border-top-color: var(--fill-color);\n",
              "      border-right-color: var(--fill-color);\n",
              "    }\n",
              "    40% {\n",
              "      border-color: transparent;\n",
              "      border-right-color: var(--fill-color);\n",
              "      border-top-color: var(--fill-color);\n",
              "    }\n",
              "    60% {\n",
              "      border-color: transparent;\n",
              "      border-right-color: var(--fill-color);\n",
              "    }\n",
              "    80% {\n",
              "      border-color: transparent;\n",
              "      border-right-color: var(--fill-color);\n",
              "      border-bottom-color: var(--fill-color);\n",
              "    }\n",
              "    90% {\n",
              "      border-color: transparent;\n",
              "      border-bottom-color: var(--fill-color);\n",
              "    }\n",
              "  }\n",
              "</style>\n",
              "\n",
              "  <script>\n",
              "    async function quickchart(key) {\n",
              "      const quickchartButtonEl =\n",
              "        document.querySelector('#' + key + ' button');\n",
              "      quickchartButtonEl.disabled = true;  // To prevent multiple clicks.\n",
              "      quickchartButtonEl.classList.add('colab-df-spinner');\n",
              "      try {\n",
              "        const charts = await google.colab.kernel.invokeFunction(\n",
              "            'suggestCharts', [key], {});\n",
              "      } catch (error) {\n",
              "        console.error('Error during call to suggestCharts:', error);\n",
              "      }\n",
              "      quickchartButtonEl.classList.remove('colab-df-spinner');\n",
              "      quickchartButtonEl.classList.add('colab-df-quickchart-complete');\n",
              "    }\n",
              "    (() => {\n",
              "      let quickchartButtonEl =\n",
              "        document.querySelector('#df-df121c2c-148b-4f43-b99a-a8a188a10170 button');\n",
              "      quickchartButtonEl.style.display =\n",
              "        google.colab.kernel.accessAllowed ? 'block' : 'none';\n",
              "    })();\n",
              "  </script>\n",
              "</div>\n",
              "\n",
              "    </div>\n",
              "  </div>\n"
            ],
            "application/vnd.google.colaboratory.intrinsic+json": {
              "type": "dataframe",
              "variable_name": "df",
              "summary": "{\n  \"name\": \"df\",\n  \"rows\": 2934,\n  \"fields\": [\n    {\n      \"column\": \"wrong_sentence\",\n      \"properties\": {\n        \"dtype\": \"object\",\n        \"semantic_type\": \"\",\n        \"description\": \"\"\n      }\n    },\n    {\n      \"column\": \"correct_sentence_inputs\",\n      \"properties\": {\n        \"dtype\": \"object\",\n        \"semantic_type\": \"\",\n        \"description\": \"\"\n      }\n    },\n    {\n      \"column\": \"correct_sentence_labels\",\n      \"properties\": {\n        \"dtype\": \"object\",\n        \"semantic_type\": \"\",\n        \"description\": \"\"\n      }\n    }\n  ]\n}"
            }
          },
          "metadata": {},
          "execution_count": 23
        }
      ],
      "source": [
        "df.head()"
      ]
    },
    {
      "cell_type": "code",
      "execution_count": 24,
      "metadata": {
        "id": "cLFO9YIIUYv6"
      },
      "outputs": [],
      "source": [
        "train,test=train_test_split(df,test_size=0.2,random_state=24)"
      ]
    },
    {
      "cell_type": "code",
      "execution_count": 25,
      "metadata": {
        "id": "GPQwbsXcdAUX"
      },
      "outputs": [],
      "source": [
        "correct_label=tf.convert_to_tensor(train['correct_sentence_labels'].tolist(), dtype=tf.int64)\n",
        "wrong=tf.convert_to_tensor(train['wrong_sentence'].tolist(), dtype=tf.int64)\n",
        "correct_inputs=tf.convert_to_tensor(train['correct_sentence_inputs'].tolist(), dtype=tf.int64)\n",
        "\n",
        "\n",
        "\n",
        "correct_label_test=tf.convert_to_tensor(test['correct_sentence_labels'].tolist(), dtype=tf.int64)\n",
        "wrong_test=tf.convert_to_tensor(test['wrong_sentence'].tolist(), dtype=tf.int64)\n",
        "correct_inputs_test=tf.convert_to_tensor(test['correct_sentence_inputs'].tolist(), dtype=tf.int64)\n",
        "\n"
      ]
    },
    {
      "cell_type": "code",
      "execution_count": 26,
      "metadata": {
        "id": "2q-yTYk5Fr1j"
      },
      "outputs": [],
      "source": [
        "correct_label=tf.squeeze(correct_label, axis=1)\n",
        "wrong=tf.squeeze(wrong, axis=1)\n",
        "correct_inputs=tf.squeeze(correct_inputs, axis=1)\n",
        "\n",
        "correct_label_test=tf.squeeze(correct_label_test, axis=1)\n",
        "wrong_test=tf.squeeze(wrong_test, axis=1)\n",
        "correct_inputs_test=tf.squeeze(correct_inputs_test, axis=1)\n"
      ]
    },
    {
      "cell_type": "code",
      "execution_count": 27,
      "metadata": {
        "id": "kiW7txpj4Zm8"
      },
      "outputs": [],
      "source": [
        "\n",
        "tensor_dict = (\n",
        "     wrong,\n",
        "     correct_inputs)\n",
        "tensor_dict_test = (\n",
        "     wrong_test,\n",
        "     correct_inputs_test\n",
        ")"
      ]
    },
    {
      "cell_type": "code",
      "execution_count": 27,
      "metadata": {
        "id": "K2LpTcyT5Yp4"
      },
      "outputs": [],
      "source": []
    },
    {
      "cell_type": "code",
      "execution_count": 28,
      "metadata": {
        "id": "ZKdJwU6BRKfU"
      },
      "outputs": [],
      "source": [
        "dataset_train = tf.data.Dataset.from_tensor_slices((tensor_dict,correct_label))\n",
        "dataset_test = tf.data.Dataset.from_tensor_slices((tensor_dict_test,correct_label_test))"
      ]
    },
    {
      "cell_type": "code",
      "execution_count": 29,
      "metadata": {
        "id": "KvRg1Jp0RYRh"
      },
      "outputs": [],
      "source": [
        "# dataset\n"
      ]
    },
    {
      "cell_type": "code",
      "execution_count": 30,
      "metadata": {
        "colab": {
          "base_uri": "https://localhost:8080/"
        },
        "id": "aat0GsFGSm6K",
        "outputId": "9fa6c290-7298-4015-b93a-b8f759b45da5"
      },
      "outputs": [
        {
          "output_type": "stream",
          "name": "stdout",
          "text": [
            "tf.Tensor(\n",
            "[   2 2221   22  337 1093   22 4270 3094  275   22  337   89    1    0\n",
            "    0    0    0    0    0    0    0    0    0    0    0    0    0    0\n",
            "    0    0    0    0    0    0    0    0    0    0    0    0    0    0\n",
            "    0    0    0    0    0    0    0    0    0    0    0    0    0    0\n",
            "    0    0    0    0    0    0    0    0    0    0    0    0    0    0\n",
            "    0    0    0    0    0    0    0    0    0    0    0    0    0    0\n",
            "    0    0    0    0    0    0    0    0    0    0    0    0    0    0\n",
            "    0    0    0    0    0    0    0    0    0    0    0    0    0    0\n",
            "    0    0    0    0    0    0    0    0    0    0    0    0    0    0\n",
            "    0    0    0    0    0    0    0    0    0    0    0    0    0    0\n",
            "    0    0    0    0    0    0    0    0    0    0    0    0    0    0\n",
            "    0    0    0    0    0    0    0    0    0    0    0    0    0    0\n",
            "    0    0    0    0    0    0    0    0    0    0    0    0    0    0\n",
            "    0    0    0    0    0    0    0    0    0    0    0    0    0    0\n",
            "    0    0    0    0    0    0    0    0    0    0    0    0    0    0\n",
            "    0    0    0    0    0    0    0    0    0    0    0    0    0    0\n",
            "    0    0    0    0    0    0    0    0    0    0    0    0    0    0\n",
            "    0    0    0    0    0    0    0    0    0    0    0    0    0    0\n",
            "    0    0    0    0], shape=(256,), dtype=int64)\n",
            "tf.Tensor(\n",
            "[   2 2221   22  337 1093   22 4270   89 3094  275   22  337   89    0\n",
            "    0    0    0    0    0    0    0    0    0    0    0    0    0    0\n",
            "    0    0    0    0    0    0    0    0    0    0    0    0    0    0\n",
            "    0    0    0    0    0    0    0    0    0    0    0    0    0    0\n",
            "    0    0    0    0    0    0    0    0    0    0    0    0    0    0\n",
            "    0    0    0    0    0    0    0    0    0    0    0    0    0    0\n",
            "    0    0    0    0    0    0    0    0    0    0    0    0    0    0\n",
            "    0    0    0    0    0    0    0    0    0    0    0    0    0    0\n",
            "    0    0    0    0    0    0    0    0    0    0    0    0    0    0\n",
            "    0    0    0    0    0    0    0    0    0    0    0    0    0    0\n",
            "    0    0    0    0    0    0    0    0    0    0    0    0    0    0\n",
            "    0    0    0    0    0    0    0    0    0    0    0    0    0    0\n",
            "    0    0    0    0    0    0    0    0    0    0    0    0    0    0\n",
            "    0    0    0    0    0    0    0    0    0    0    0    0    0    0\n",
            "    0    0    0    0    0    0    0    0    0    0    0    0    0    0\n",
            "    0    0    0    0    0    0    0    0    0    0    0    0    0    0\n",
            "    0    0    0    0    0    0    0    0    0    0    0    0    0    0\n",
            "    0    0    0    0    0    0    0    0    0    0    0    0    0    0\n",
            "    0    0    0    0], shape=(256,), dtype=int64)\n",
            "tf.Tensor(\n",
            "[2221   22  337 1093   22 4270   89 3094  275   22  337   89    1    0\n",
            "    0    0    0    0    0    0    0    0    0    0    0    0    0    0\n",
            "    0    0    0    0    0    0    0    0    0    0    0    0    0    0\n",
            "    0    0    0    0    0    0    0    0    0    0    0    0    0    0\n",
            "    0    0    0    0    0    0    0    0    0    0    0    0    0    0\n",
            "    0    0    0    0    0    0    0    0    0    0    0    0    0    0\n",
            "    0    0    0    0    0    0    0    0    0    0    0    0    0    0\n",
            "    0    0    0    0    0    0    0    0    0    0    0    0    0    0\n",
            "    0    0    0    0    0    0    0    0    0    0    0    0    0    0\n",
            "    0    0    0    0    0    0    0    0    0    0    0    0    0    0\n",
            "    0    0    0    0    0    0    0    0    0    0    0    0    0    0\n",
            "    0    0    0    0    0    0    0    0    0    0    0    0    0    0\n",
            "    0    0    0    0    0    0    0    0    0    0    0    0    0    0\n",
            "    0    0    0    0    0    0    0    0    0    0    0    0    0    0\n",
            "    0    0    0    0    0    0    0    0    0    0    0    0    0    0\n",
            "    0    0    0    0    0    0    0    0    0    0    0    0    0    0\n",
            "    0    0    0    0    0    0    0    0    0    0    0    0    0    0\n",
            "    0    0    0    0    0    0    0    0    0    0    0    0    0    0\n",
            "    0    0    0    0], shape=(256,), dtype=int64)\n"
          ]
        }
      ],
      "source": [
        "for (wrong,correct_inputs) ,label in dataset_train.take(1):\n",
        "    print(wrong)\n",
        "    print(correct_inputs)\n",
        "    print(label)"
      ]
    },
    {
      "cell_type": "code",
      "execution_count": 31,
      "metadata": {
        "id": "pf7mMh-kRnvt"
      },
      "outputs": [],
      "source": [
        "\n",
        "MAX_TOKENS=256\n",
        "def prepare_batch(wrong_sentence,correct_sentence):\n",
        "    wrong_sentence = tokenizer(wrong_sentence)      # Output is ragged.\n",
        "    wrong_sentence = wrong_sentence[:, :MAX_TOKENS]    # Trim to MAX_TOKENS.\n",
        "    print(wrong_sentence)\n",
        "    wrong_sentence = wrong_sentence.to_tensor()  # Convert to 0-padded dense Tensor\n",
        "\n",
        "    correct_sentence = tokenizer(correct_sentence)\n",
        "    correct_sentence = correct_sentence[:, :(MAX_TOKENS+1)]\n",
        "    correct_sentence_inputs = correct_sentence[:, :-1].to_tensor()  # Drop the [END] tokens\n",
        "    correct_sentence_labels = correct_sentence[:, 1:].to_tensor()   # Drop the [START] tokens\n",
        "\n",
        "    return (wrong_sentence, correct_sentence_inputs), correct_sentence_labels"
      ]
    },
    {
      "cell_type": "code",
      "execution_count": 32,
      "metadata": {
        "id": "Z1FQQqHuKqsS"
      },
      "outputs": [],
      "source": [
        "BUFFER_SIZE = 20000\n",
        "BATCH_SIZE = 64"
      ]
    },
    {
      "cell_type": "code",
      "execution_count": 32,
      "metadata": {
        "id": "F3BAyAe0Q3zq"
      },
      "outputs": [],
      "source": []
    },
    {
      "cell_type": "code",
      "execution_count": 33,
      "metadata": {
        "id": "epWINy_lKqpV"
      },
      "outputs": [],
      "source": [
        "def make_batches(ds):\n",
        "  return (\n",
        "      ds\n",
        "      .shuffle(BUFFER_SIZE)\n",
        "      .batch(BATCH_SIZE))\n",
        "      # .map(prepare_batch, tf.data.AUTOTUNE)\n",
        "      # .prefetch(buffer_size=tf.data.AUTOTUNE))"
      ]
    },
    {
      "cell_type": "code",
      "execution_count": 34,
      "metadata": {
        "id": "Z-6k9N5fQ0qS"
      },
      "outputs": [],
      "source": [
        "# Create training and validation set batches.\n",
        "train_batches = make_batches(dataset_train)\n",
        "val_batches = make_batches(dataset_test)"
      ]
    },
    {
      "cell_type": "code",
      "execution_count": 35,
      "metadata": {
        "id": "PB3CRNX-8Wzg"
      },
      "outputs": [],
      "source": [
        "# for x,c in train_batches.take(1):\n",
        "#   print(x)\n",
        "#   print(c)"
      ]
    },
    {
      "cell_type": "code",
      "execution_count": 36,
      "metadata": {
        "id": "Jgt0XnfxCm-L"
      },
      "outputs": [],
      "source": [
        "def positional_encoding(length, depth):\n",
        "  depth = depth/2\n",
        "\n",
        "  positions = np.arange(length)[:, np.newaxis]     # (seq, 1)\n",
        "  depths = np.arange(depth)[np.newaxis, :]/depth   # (1, depth)\n",
        "\n",
        "  angle_rates = 1 / (10000**depths)         # (1, depth)\n",
        "  angle_rads = positions * angle_rates      # (pos, depth)\n",
        "\n",
        "  pos_encoding = np.concatenate(\n",
        "      [np.sin(angle_rads), np.cos(angle_rads)],\n",
        "      axis=-1)\n",
        "\n",
        "  return tf.cast(pos_encoding, dtype=tf.float32)\n"
      ]
    },
    {
      "cell_type": "code",
      "execution_count": 37,
      "metadata": {
        "id": "IO5qLxJlCvpT"
      },
      "outputs": [],
      "source": [
        "class PositionalEmbedding(tf.keras.layers.Layer):\n",
        "  def __init__(self, vocab_size, d_model):\n",
        "    super().__init__()\n",
        "    self.d_model = d_model\n",
        "    self.embedding = tf.keras.layers.Embedding(vocab_size, d_model, mask_zero=True)\n",
        "    self.pos_encoding = positional_encoding(length=2048, depth=d_model)\n",
        "\n",
        "  def compute_mask(self, *args, **kwargs):\n",
        "    return self.embedding.compute_mask(*args, **kwargs)\n",
        "\n",
        "  def call(self, x):\n",
        "    length = tf.shape(x)[1]\n",
        "    x = self.embedding(x)\n",
        "    # This factor sets the relative scale of the embedding and positonal_encoding.\n",
        "    x *= tf.math.sqrt(tf.cast(self.d_model, tf.float32))\n",
        "    x = x + self.pos_encoding[tf.newaxis, :length, :]\n",
        "    return x"
      ]
    },
    {
      "cell_type": "code",
      "execution_count": 38,
      "metadata": {
        "id": "IdGErdpt-tZz",
        "colab": {
          "base_uri": "https://localhost:8080/"
        },
        "outputId": "427fcff5-d548-4533-b08b-4142677a7a6b"
      },
      "outputs": [
        {
          "output_type": "stream",
          "name": "stdout",
          "text": [
            "(64, 256)\n",
            "(64, 256)\n",
            "(64, 256)\n",
            "tf.Tensor([ 64 256], shape=(2,), dtype=int32)\n"
          ]
        }
      ],
      "source": [
        "for (wrong_sentence,correct_sentence), correct_sentence_labels in train_batches.take(1):\n",
        "  break\n",
        "print(wrong_sentence.shape)\n",
        "print(correct_sentence.shape)\n",
        "print(correct_sentence_labels.shape)\n",
        "print(tf.shape(wrong_sentence))"
      ]
    },
    {
      "cell_type": "code",
      "execution_count": 39,
      "metadata": {
        "id": "TBkFMfw4-9VE"
      },
      "outputs": [],
      "source": [
        "# print(wrong_sentence[0][:10])\n",
        "# print(correct_sentence_labels[0][:10])"
      ]
    },
    {
      "cell_type": "code",
      "execution_count": 40,
      "metadata": {
        "id": "5syWSMLiC4Ls",
        "colab": {
          "base_uri": "https://localhost:8080/"
        },
        "outputId": "921e64c8-2b05-4c56-921e-948fba0a70e3"
      },
      "outputs": [
        {
          "output_type": "stream",
          "name": "stdout",
          "text": [
            "(64, 256, 512)\n"
          ]
        }
      ],
      "source": [
        "embed_wrong = PositionalEmbedding(vocab_size=len(vocab_to_int), d_model=512)\n",
        "embed_correct = PositionalEmbedding(vocab_size=len(vocab_to_int), d_model=512)\n",
        "\n",
        "wrong_emb = embed_wrong(wrong_sentence)\n",
        "correct_emb = embed_correct(correct_sentence)\n",
        "print(wrong_emb.shape)"
      ]
    },
    {
      "cell_type": "code",
      "execution_count": 41,
      "metadata": {
        "id": "nNmFpNi_-qnI"
      },
      "outputs": [],
      "source": [
        "# correct_emb._keras_mask"
      ]
    },
    {
      "cell_type": "code",
      "execution_count": 42,
      "metadata": {
        "id": "4G12SepD7PXL"
      },
      "outputs": [],
      "source": [
        "class BaseAttention(tf.keras.layers.Layer):\n",
        "  def __init__(self, **kwargs):\n",
        "    super().__init__()\n",
        "    self.mha = tf.keras.layers.MultiHeadAttention(**kwargs)\n",
        "    self.layernorm = tf.keras.layers.LayerNormalization()\n",
        "    self.add = tf.keras.layers.Add()\n"
      ]
    },
    {
      "cell_type": "code",
      "execution_count": 43,
      "metadata": {
        "id": "p-1d0LMf8eTA"
      },
      "outputs": [],
      "source": [
        "class CrossAttention(BaseAttention):\n",
        "  def call(self, x, context):\n",
        "    attn_output, attn_scores = self.mha(\n",
        "        query=x,\n",
        "        key=context,\n",
        "        value=context,\n",
        "        return_attention_scores=True)\n",
        "\n",
        "    # Cache the attention scores for plotting later.\n",
        "    self.last_attn_scores = attn_scores\n",
        "\n",
        "    x = self.add([x, attn_output])\n",
        "    x = self.layernorm(x)\n",
        "\n",
        "    return x"
      ]
    },
    {
      "cell_type": "code",
      "execution_count": 44,
      "metadata": {
        "id": "lkGW93l9G6nW"
      },
      "outputs": [],
      "source": [
        "# sample_ca = CrossAttention(num_heads=2, key_dim=512)\n",
        "\n",
        "# print(wrong_emb.shape)\n",
        "# print(correct_emb.shape)\n",
        "# print(sample_ca(correct_emb, wrong_emb).shape)"
      ]
    },
    {
      "cell_type": "code",
      "execution_count": 45,
      "metadata": {
        "id": "4xSQBoMG8fR2"
      },
      "outputs": [],
      "source": [
        "class GlobalSelfAttention(BaseAttention):\n",
        "  def call(self, x):\n",
        "    attn_output = self.mha(\n",
        "        query=x,\n",
        "        value=x,\n",
        "        key=x)\n",
        "    x = self.add([x, attn_output])\n",
        "    x = self.layernorm(x)\n",
        "    return x"
      ]
    },
    {
      "cell_type": "code",
      "execution_count": 46,
      "metadata": {
        "id": "0JcerZizH2ma"
      },
      "outputs": [],
      "source": [
        "# sample_gsa = GlobalSelfAttention(num_heads=2, key_dim=512)\n",
        "\n",
        "# print(wrong_emb.shape)\n",
        "# print(sample_gsa(wrong_emb).shape)"
      ]
    },
    {
      "cell_type": "code",
      "execution_count": 47,
      "metadata": {
        "id": "2TNYIVqR9yss"
      },
      "outputs": [],
      "source": [
        "class CausalSelfAttention(BaseAttention):\n",
        "  def call(self, x):\n",
        "    attn_output = self.mha(\n",
        "        query=x,\n",
        "        value=x,\n",
        "        key=x,\n",
        "        use_causal_mask = True)\n",
        "    x = self.add([x, attn_output])\n",
        "    x = self.layernorm(x)\n",
        "    return x"
      ]
    },
    {
      "cell_type": "code",
      "execution_count": 48,
      "metadata": {
        "id": "TWVXSoRGIe2T"
      },
      "outputs": [],
      "source": [
        "# sample_csa = CausalSelfAttention(num_heads=2, key_dim=512)\n",
        "\n",
        "# print(correct_emb.shape)\n",
        "# print(sample_csa(correct_emb).shape)"
      ]
    },
    {
      "cell_type": "code",
      "execution_count": 49,
      "metadata": {
        "id": "gzeh5bqR_y8F"
      },
      "outputs": [],
      "source": [
        "class FeedForward(tf.keras.layers.Layer):\n",
        "  def __init__(self, d_model, dff, dropout_rate=0.1):\n",
        "    super().__init__()\n",
        "    self.seq = tf.keras.Sequential([\n",
        "      tf.keras.layers.Dense(dff, activation='relu'),\n",
        "      tf.keras.layers.Dense(d_model),\n",
        "      tf.keras.layers.Dropout(dropout_rate)\n",
        "    ])\n",
        "    self.add = tf.keras.layers.Add()\n",
        "    self.layer_norm = tf.keras.layers.LayerNormalization()\n",
        "\n",
        "  def call(self, x):\n",
        "    x = self.add([x, self.seq(x)])\n",
        "    x = self.layer_norm(x)\n",
        "    return x"
      ]
    },
    {
      "cell_type": "code",
      "execution_count": 50,
      "metadata": {
        "id": "-5u2_8KC_7js"
      },
      "outputs": [],
      "source": [
        "class EncoderLayer(tf.keras.layers.Layer):\n",
        "  def __init__(self,*, d_model, num_heads, dff, dropout_rate=0.1):\n",
        "    super().__init__()\n",
        "\n",
        "    self.self_attention = GlobalSelfAttention(\n",
        "        num_heads=num_heads,\n",
        "        key_dim=d_model,\n",
        "        dropout=dropout_rate)\n",
        "\n",
        "    self.ffn = FeedForward(d_model, dff)\n",
        "\n",
        "  def call(self, x):\n",
        "    x = self.self_attention(x)\n",
        "    x = self.ffn(x)\n",
        "    return x"
      ]
    },
    {
      "cell_type": "code",
      "execution_count": 51,
      "metadata": {
        "id": "7Gc0F6_0I0VB"
      },
      "outputs": [],
      "source": [
        "# sample_encoder_layer = EncoderLayer(d_model=512, num_heads=8, dff=2048)\n",
        "\n",
        "# print(wrong_emb.shape)\n",
        "# print(sample_encoder_layer(wrong_emb).shape)"
      ]
    },
    {
      "cell_type": "code",
      "execution_count": 52,
      "metadata": {
        "id": "O-afzG-zAGFH"
      },
      "outputs": [],
      "source": [
        "class Encoder(tf.keras.layers.Layer):\n",
        "  def __init__(self, *, num_layers, d_model, num_heads,\n",
        "               dff, vocab_size, dropout_rate=0.1):\n",
        "    super().__init__()\n",
        "\n",
        "    self.d_model = d_model\n",
        "    self.num_layers = num_layers\n",
        "\n",
        "    self.pos_embedding = PositionalEmbedding(\n",
        "        vocab_size=vocab_size, d_model=d_model)\n",
        "\n",
        "    self.enc_layers = [\n",
        "        EncoderLayer(d_model=d_model,\n",
        "                     num_heads=num_heads,\n",
        "                     dff=dff,\n",
        "                     dropout_rate=dropout_rate)\n",
        "        for _ in range(num_layers)]\n",
        "    self.dropout = tf.keras.layers.Dropout(dropout_rate)\n",
        "\n",
        "  def call(self, x):\n",
        "    # `x` is token-IDs shape: (batch, seq_len)\n",
        "    x = self.pos_embedding(x)  # Shape `(batch_size, seq_len, d_model)`.\n",
        "\n",
        "    # Add dropout.\n",
        "    x = self.dropout(x)\n",
        "\n",
        "    for i in range(self.num_layers):\n",
        "      x = self.enc_layers[i](x)\n",
        "\n",
        "    return x  # Shape `(batch_size, seq_len, d_model)`.\n"
      ]
    },
    {
      "cell_type": "code",
      "execution_count": 53,
      "metadata": {
        "id": "gU13yJSYCER2"
      },
      "outputs": [],
      "source": [
        "# sample_encoder = Encoder(num_layers=4,\n",
        "#                          d_model=512,\n",
        "#                          num_heads=8,\n",
        "#                          dff=2048,\n",
        "#                          vocab_size=len(vocab_to_int))\n",
        "\n",
        "# sample_encoder_output = sample_encoder(wrong_sentence, training=False)\n",
        "\n",
        "# # Print the shape.\n",
        "# print(wrong_sentence.shape)\n",
        "# print(sample_encoder_output.shape)  # Shape `(batch_size, input_seq_len, d_model)`."
      ]
    },
    {
      "cell_type": "code",
      "execution_count": 54,
      "metadata": {
        "id": "f58eAaa0Atem"
      },
      "outputs": [],
      "source": [
        "class DecoderLayer(tf.keras.layers.Layer):\n",
        "  def __init__(self,\n",
        "               *,\n",
        "               d_model,\n",
        "               num_heads,\n",
        "               dff,\n",
        "               dropout_rate=0.1):\n",
        "    super(DecoderLayer, self).__init__()\n",
        "\n",
        "    self.causal_self_attention = CausalSelfAttention(\n",
        "        num_heads=num_heads,\n",
        "        key_dim=d_model,\n",
        "        dropout=dropout_rate)\n",
        "\n",
        "    self.cross_attention = CrossAttention(\n",
        "        num_heads=num_heads,\n",
        "        key_dim=d_model,\n",
        "        dropout=dropout_rate)\n",
        "\n",
        "    self.ffn = FeedForward(d_model, dff)\n",
        "\n",
        "  def call(self, x, context):\n",
        "    x = self.causal_self_attention(x=x)\n",
        "    x = self.cross_attention(x=x, context=context)\n",
        "\n",
        "    # Cache the last attention scores for plotting later\n",
        "    self.last_attn_scores = self.cross_attention.last_attn_scores\n",
        "\n",
        "    x = self.ffn(x)  # Shape `(batch_size, seq_len, d_model)`.\n",
        "    return x"
      ]
    },
    {
      "cell_type": "code",
      "execution_count": 55,
      "metadata": {
        "id": "DfVYusfIJp5K"
      },
      "outputs": [],
      "source": [
        "# sample_decoder_layer = DecoderLayer(d_model=512, num_heads=8, dff=2048)\n",
        "\n",
        "# sample_decoder_layer_output = sample_decoder_layer(\n",
        "#     x=correct_emb, context=wrong_emb)\n",
        "\n",
        "# print(correct_emb.shape)\n",
        "# print(wrong_emb.shape)\n",
        "# print(sample_decoder_layer_output.shape)  # `(batch_size, seq_len, d_model)`"
      ]
    },
    {
      "cell_type": "code",
      "execution_count": 56,
      "metadata": {
        "id": "iRmRXWvIAz_j"
      },
      "outputs": [],
      "source": [
        "class Decoder(tf.keras.layers.Layer):\n",
        "  def __init__(self, *, num_layers, d_model, num_heads, dff, vocab_size,\n",
        "               dropout_rate=0.1):\n",
        "    super(Decoder, self).__init__()\n",
        "\n",
        "    self.d_model = d_model\n",
        "    self.num_layers = num_layers\n",
        "\n",
        "    self.pos_embedding = PositionalEmbedding(vocab_size=vocab_size,\n",
        "                                             d_model=d_model)\n",
        "    self.dropout = tf.keras.layers.Dropout(dropout_rate)\n",
        "    self.dec_layers = [\n",
        "        DecoderLayer(d_model=d_model, num_heads=num_heads,\n",
        "                     dff=dff, dropout_rate=dropout_rate)\n",
        "        for _ in range(num_layers)]\n",
        "\n",
        "    self.last_attn_scores = None\n",
        "\n",
        "  def call(self, x, context):\n",
        "    # `x` is token-IDs shape (batch, target_seq_len)\n",
        "    x = self.pos_embedding(x)  # (batch_size, target_seq_len, d_model)\n",
        "\n",
        "    x = self.dropout(x)\n",
        "\n",
        "    for i in range(self.num_layers):\n",
        "      x  = self.dec_layers[i](x, context)\n",
        "\n",
        "    self.last_attn_scores = self.dec_layers[-1].last_attn_scores\n",
        "\n",
        "    # The shape of x is (batch_size, target_seq_len, d_model).\n",
        "    return x"
      ]
    },
    {
      "cell_type": "code",
      "execution_count": 57,
      "metadata": {
        "id": "U7a3tO6LJ_jp"
      },
      "outputs": [],
      "source": [
        "# # Instantiate the decoder.\n",
        "# sample_decoder = Decoder(num_layers=4,\n",
        "#                          d_model=512,\n",
        "#                          num_heads=8,\n",
        "#                          dff=2048,\n",
        "#                          vocab_size=len(vocab_to_int))\n",
        "\n",
        "# output = sample_decoder(\n",
        "#     x=correct_sentence,\n",
        "#     context=wrong_emb)\n",
        "\n",
        "# # Print the shapes.\n",
        "# print(correct_sentence.shape)\n",
        "# print(wrong_emb.shape)\n",
        "# print(output.shape)"
      ]
    },
    {
      "cell_type": "code",
      "execution_count": 58,
      "metadata": {
        "id": "sZ9DEd9gKpZ5"
      },
      "outputs": [],
      "source": [
        "# sample_decoder.last_attn_scores.shape  # (batch, heads, target_seq, input_seq)"
      ]
    },
    {
      "cell_type": "code",
      "execution_count": 59,
      "metadata": {
        "id": "fWpVS0R1A2Q-"
      },
      "outputs": [],
      "source": [
        "class Transformer(tf.keras.Model):\n",
        "  def __init__(self, *, num_layers, d_model, num_heads, dff,\n",
        "               input_vocab_size, target_vocab_size, dropout_rate=0.1):\n",
        "    super().__init__()\n",
        "    self.encoder = Encoder(num_layers=num_layers, d_model=d_model,\n",
        "                           num_heads=num_heads, dff=dff,\n",
        "                           vocab_size=input_vocab_size,\n",
        "                           dropout_rate=dropout_rate)\n",
        "\n",
        "    self.decoder = Decoder(num_layers=num_layers, d_model=d_model,\n",
        "                           num_heads=num_heads, dff=dff,\n",
        "                           vocab_size=target_vocab_size,\n",
        "                           dropout_rate=dropout_rate)\n",
        "\n",
        "    self.final_layer = tf.keras.layers.Dense(target_vocab_size)\n",
        "\n",
        "  def call(self, inputs):\n",
        "    # To use a Keras model with `.fit` you must pass all your inputs in the\n",
        "    # first argument.\n",
        "    context, x  = inputs\n",
        "\n",
        "    context = self.encoder(context)  # (batch_size, context_len, d_model)\n",
        "\n",
        "    x = self.decoder(x, context)  # (batch_size, target_len, d_model)\n",
        "\n",
        "    # Final linear layer output.\n",
        "    logits = self.final_layer(x)  # (batch_size, target_len, target_vocab_size)\n",
        "\n",
        "    try:\n",
        "      # Drop the keras mask, so it doesn't scale the losses/metrics.\n",
        "      # b/250038731\n",
        "      del logits._keras_mask\n",
        "    except AttributeError:\n",
        "      pass\n",
        "\n",
        "    # Return the final output and the attention weights.\n",
        "    return logits"
      ]
    },
    {
      "cell_type": "code",
      "execution_count": 60,
      "metadata": {
        "id": "7Xk_VsjcBm4Z"
      },
      "outputs": [],
      "source": [
        "num_layers = 4\n",
        "d_model = 128\n",
        "dff = 512\n",
        "num_heads = 8\n",
        "dropout_rate = 0.1"
      ]
    },
    {
      "cell_type": "code",
      "execution_count": 61,
      "metadata": {
        "id": "8cu56QXiQFvr"
      },
      "outputs": [],
      "source": [
        "transformer = Transformer(\n",
        "    num_layers=num_layers,\n",
        "    d_model=d_model,\n",
        "    num_heads=num_heads,\n",
        "    dff=dff,\n",
        "    input_vocab_size=len(vocab_to_int),\n",
        "    target_vocab_size=len(vocab_to_int),\n",
        "    dropout_rate=dropout_rate)"
      ]
    },
    {
      "cell_type": "code",
      "execution_count": 62,
      "metadata": {
        "id": "2_1F1XfKK4Jb"
      },
      "outputs": [],
      "source": [
        "# output = transformer((wrong_sentence, correct_sentence))\n",
        "\n",
        "# print(correct_sentence.shape)\n",
        "# print(wrong_sentence.shape)\n",
        "# print(output.shape)"
      ]
    },
    {
      "cell_type": "code",
      "execution_count": 63,
      "metadata": {
        "id": "g33heYNuMrnh"
      },
      "outputs": [],
      "source": [
        "# attn_scores = transformer.decoder.dec_layers[-1].last_attn_scores\n",
        "# print(attn_scores.shape)  # (batch, heads, target_seq, input_seq)"
      ]
    },
    {
      "cell_type": "code",
      "execution_count": 64,
      "metadata": {
        "id": "UsrJTkNZMuyv"
      },
      "outputs": [],
      "source": [
        "# transformer.summary()"
      ]
    },
    {
      "cell_type": "code",
      "execution_count": 65,
      "metadata": {
        "id": "PrrV0G4qB2rh"
      },
      "outputs": [],
      "source": [
        "transformer = Transformer(\n",
        "    num_layers=num_layers,\n",
        "    d_model=d_model,\n",
        "    num_heads=num_heads,\n",
        "    dff=dff,\n",
        "    input_vocab_size=len(vocab_to_int),\n",
        "    target_vocab_size=len(vocab_to_int),\n",
        "    dropout_rate=dropout_rate)"
      ]
    },
    {
      "cell_type": "code",
      "execution_count": 66,
      "metadata": {
        "id": "yCIAmc3XB60w"
      },
      "outputs": [],
      "source": [
        "class CustomSchedule(tf.keras.optimizers.schedules.LearningRateSchedule):\n",
        "  def __init__(self, d_model, warmup_steps=4000):\n",
        "    super().__init__()\n",
        "\n",
        "    self.d_model = d_model\n",
        "    self.d_model = tf.cast(self.d_model, tf.float32)\n",
        "\n",
        "    self.warmup_steps = warmup_steps\n",
        "\n",
        "  def __call__(self, step):\n",
        "    step = tf.cast(step, dtype=tf.float32)\n",
        "    arg1 = tf.math.rsqrt(step)\n",
        "    arg2 = step * (self.warmup_steps ** -1.5)\n",
        "\n",
        "    return tf.math.rsqrt(self.d_model) * tf.math.minimum(arg1, arg2)"
      ]
    },
    {
      "cell_type": "code",
      "execution_count": 67,
      "metadata": {
        "id": "A9xusyZUCpXx"
      },
      "outputs": [],
      "source": [
        "learning_rate = CustomSchedule(d_model)\n",
        "\n",
        "optimizer = tf.keras.optimizers.Adam(learning_rate, beta_1=0.9, beta_2=0.98,\n",
        "                                     epsilon=1e-9)"
      ]
    },
    {
      "cell_type": "code",
      "execution_count": 68,
      "metadata": {
        "colab": {
          "base_uri": "https://localhost:8080/",
          "height": 466
        },
        "id": "3O7UI3zlCvDK",
        "outputId": "6a9bbc13-d95c-4161-96ca-1179ff241e27"
      },
      "outputs": [
        {
          "output_type": "execute_result",
          "data": {
            "text/plain": [
              "Text(0.5, 0, 'Train Step')"
            ]
          },
          "metadata": {},
          "execution_count": 68
        },
        {
          "output_type": "display_data",
          "data": {
            "text/plain": [
              "<Figure size 640x480 with 1 Axes>"
            ],
            "image/png": "[encoded data removed]"
          },
          "metadata": {}
        }
      ],
      "source": [
        "plt.plot(learning_rate(tf.range(40000, dtype=tf.float32)))\n",
        "plt.ylabel('Learning Rate')\n",
        "plt.xlabel('Train Step')"
      ]
    },
    {
      "cell_type": "code",
      "execution_count": 69,
      "metadata": {
        "id": "qW4E5DqaC9SK"
      },
      "outputs": [],
      "source": [
        "def masked_loss(label, pred):\n",
        "  mask = label != 0\n",
        "  loss_object = tf.keras.losses.SparseCategoricalCrossentropy(\n",
        "    from_logits=True, reduction='none')\n",
        "  loss = loss_object(label, pred)\n",
        "\n",
        "  mask = tf.cast(mask, dtype=loss.dtype)\n",
        "  loss *= mask\n",
        "\n",
        "  loss = tf.reduce_sum(loss)/tf.reduce_sum(mask)\n",
        "  return loss\n"
      ]
    },
    {
      "cell_type": "code",
      "execution_count": 70,
      "metadata": {
        "id": "095iqf2KC-GP"
      },
      "outputs": [],
      "source": [
        "def masked_accuracy(label, pred):\n",
        "  pred = tf.argmax(pred, axis=2)\n",
        "  label = tf.cast(label, pred.dtype)\n",
        "  match = label == pred\n",
        "\n",
        "  mask = label != 0\n",
        "\n",
        "  match = match & mask\n",
        "\n",
        "  match = tf.cast(match, dtype=tf.float32)\n",
        "  mask = tf.cast(mask, dtype=tf.float32)\n",
        "  return tf.reduce_sum(match)/tf.reduce_sum(mask)\n"
      ]
    },
    {
      "cell_type": "code",
      "execution_count": 71,
      "metadata": {
        "id": "4zLVzNcpDIL4"
      },
      "outputs": [],
      "source": [
        "transformer.compile(\n",
        "    loss=masked_loss,\n",
        "    optimizer=optimizer,\n",
        "    metrics=[masked_accuracy])"
      ]
    },
    {
      "cell_type": "code",
      "execution_count": 72,
      "metadata": {
        "colab": {
          "base_uri": "https://localhost:8080/"
        },
        "id": "z9VSkwuUDM4j",
        "outputId": "48a9a0b0-08ee-4212-fd87-5fd96ef86dc7"
      },
      "outputs": [
        {
          "output_type": "stream",
          "name": "stdout",
          "text": [
            "Epoch 1/30\n"
          ]
        },
        {
          "output_type": "stream",
          "name": "stderr",
          "text": [
            "/usr/local/lib/python3.10/dist-packages/keras/src/layers/layer.py:915: UserWarning: Layer 'query' (of type EinsumDense) was passed an input with a mask attached to it. However, this layer does not support masking and will therefore destroy the mask information. Downstream layers will not see the mask.\n",
            "  warnings.warn(\n",
            "/usr/local/lib/python3.10/dist-packages/keras/src/layers/layer.py:915: UserWarning: Layer 'key' (of type EinsumDense) was passed an input with a mask attached to it. However, this layer does not support masking and will therefore destroy the mask information. Downstream layers will not see the mask.\n",
            "  warnings.warn(\n",
            "/usr/local/lib/python3.10/dist-packages/keras/src/layers/layer.py:915: UserWarning: Layer 'value' (of type EinsumDense) was passed an input with a mask attached to it. However, this layer does not support masking and will therefore destroy the mask information. Downstream layers will not see the mask.\n",
            "  warnings.warn(\n",
            "/usr/local/lib/python3.10/dist-packages/keras/src/layers/layer.py:915: UserWarning: Layer 'global_self_attention_4' (of type GlobalSelfAttention) was passed an input with a mask attached to it. However, this layer does not support masking and will therefore destroy the mask information. Downstream layers will not see the mask.\n",
            "  warnings.warn(\n",
            "/usr/local/lib/python3.10/dist-packages/keras/src/layers/layer.py:915: UserWarning: Layer 'sequential_8' (of type Sequential) was passed an input with a mask attached to it. However, this layer does not support masking and will therefore destroy the mask information. Downstream layers will not see the mask.\n",
            "  warnings.warn(\n",
            "/usr/local/lib/python3.10/dist-packages/keras/src/layers/layer.py:915: UserWarning: Layer 'feed_forward_8' (of type FeedForward) was passed an input with a mask attached to it. However, this layer does not support masking and will therefore destroy the mask information. Downstream layers will not see the mask.\n",
            "  warnings.warn(\n",
            "/usr/local/lib/python3.10/dist-packages/keras/src/layers/layer.py:915: UserWarning: Layer 'encoder_layer_4' (of type EncoderLayer) was passed an input with a mask attached to it. However, this layer does not support masking and will therefore destroy the mask information. Downstream layers will not see the mask.\n",
            "  warnings.warn(\n",
            "/usr/local/lib/python3.10/dist-packages/keras/src/layers/layer.py:915: UserWarning: Layer 'global_self_attention_5' (of type GlobalSelfAttention) was passed an input with a mask attached to it. However, this layer does not support masking and will therefore destroy the mask information. Downstream layers will not see the mask.\n",
            "  warnings.warn(\n",
            "/usr/local/lib/python3.10/dist-packages/keras/src/layers/layer.py:915: UserWarning: Layer 'sequential_9' (of type Sequential) was passed an input with a mask attached to it. However, this layer does not support masking and will therefore destroy the mask information. Downstream layers will not see the mask.\n",
            "  warnings.warn(\n",
            "/usr/local/lib/python3.10/dist-packages/keras/src/layers/layer.py:915: UserWarning: Layer 'feed_forward_9' (of type FeedForward) was passed an input with a mask attached to it. However, this layer does not support masking and will therefore destroy the mask information. Downstream layers will not see the mask.\n",
            "  warnings.warn(\n",
            "/usr/local/lib/python3.10/dist-packages/keras/src/layers/layer.py:915: UserWarning: Layer 'encoder_layer_5' (of type EncoderLayer) was passed an input with a mask attached to it. However, this layer does not support masking and will therefore destroy the mask information. Downstream layers will not see the mask.\n",
            "  warnings.warn(\n",
            "/usr/local/lib/python3.10/dist-packages/keras/src/layers/layer.py:915: UserWarning: Layer 'global_self_attention_6' (of type GlobalSelfAttention) was passed an input with a mask attached to it. However, this layer does not support masking and will therefore destroy the mask information. Downstream layers will not see the mask.\n",
            "  warnings.warn(\n",
            "/usr/local/lib/python3.10/dist-packages/keras/src/layers/layer.py:915: UserWarning: Layer 'sequential_10' (of type Sequential) was passed an input with a mask attached to it. However, this layer does not support masking and will therefore destroy the mask information. Downstream layers will not see the mask.\n",
            "  warnings.warn(\n",
            "/usr/local/lib/python3.10/dist-packages/keras/src/layers/layer.py:915: UserWarning: Layer 'feed_forward_10' (of type FeedForward) was passed an input with a mask attached to it. However, this layer does not support masking and will therefore destroy the mask information. Downstream layers will not see the mask.\n",
            "  warnings.warn(\n",
            "/usr/local/lib/python3.10/dist-packages/keras/src/layers/layer.py:915: UserWarning: Layer 'encoder_layer_6' (of type EncoderLayer) was passed an input with a mask attached to it. However, this layer does not support masking and will therefore destroy the mask information. Downstream layers will not see the mask.\n",
            "  warnings.warn(\n",
            "/usr/local/lib/python3.10/dist-packages/keras/src/layers/layer.py:915: UserWarning: Layer 'global_self_attention_7' (of type GlobalSelfAttention) was passed an input with a mask attached to it. However, this layer does not support masking and will therefore destroy the mask information. Downstream layers will not see the mask.\n",
            "  warnings.warn(\n",
            "/usr/local/lib/python3.10/dist-packages/keras/src/layers/layer.py:915: UserWarning: Layer 'sequential_11' (of type Sequential) was passed an input with a mask attached to it. However, this layer does not support masking and will therefore destroy the mask information. Downstream layers will not see the mask.\n",
            "  warnings.warn(\n",
            "/usr/local/lib/python3.10/dist-packages/keras/src/layers/layer.py:915: UserWarning: Layer 'feed_forward_11' (of type FeedForward) was passed an input with a mask attached to it. However, this layer does not support masking and will therefore destroy the mask information. Downstream layers will not see the mask.\n",
            "  warnings.warn(\n",
            "/usr/local/lib/python3.10/dist-packages/keras/src/layers/layer.py:915: UserWarning: Layer 'encoder_layer_7' (of type EncoderLayer) was passed an input with a mask attached to it. However, this layer does not support masking and will therefore destroy the mask information. Downstream layers will not see the mask.\n",
            "  warnings.warn(\n",
            "/usr/local/lib/python3.10/dist-packages/keras/src/layers/layer.py:915: UserWarning: Layer 'causal_self_attention_4' (of type CausalSelfAttention) was passed an input with a mask attached to it. However, this layer does not support masking and will therefore destroy the mask information. Downstream layers will not see the mask.\n",
            "  warnings.warn(\n",
            "/usr/local/lib/python3.10/dist-packages/keras/src/layers/layer.py:915: UserWarning: Layer 'cross_attention_4' (of type CrossAttention) was passed an input with a mask attached to it. However, this layer does not support masking and will therefore destroy the mask information. Downstream layers will not see the mask.\n",
            "  warnings.warn(\n",
            "/usr/local/lib/python3.10/dist-packages/keras/src/layers/layer.py:915: UserWarning: Layer 'sequential_12' (of type Sequential) was passed an input with a mask attached to it. However, this layer does not support masking and will therefore destroy the mask information. Downstream layers will not see the mask.\n",
            "  warnings.warn(\n",
            "/usr/local/lib/python3.10/dist-packages/keras/src/layers/layer.py:915: UserWarning: Layer 'feed_forward_12' (of type FeedForward) was passed an input with a mask attached to it. However, this layer does not support masking and will therefore destroy the mask information. Downstream layers will not see the mask.\n",
            "  warnings.warn(\n",
            "/usr/local/lib/python3.10/dist-packages/keras/src/layers/layer.py:915: UserWarning: Layer 'decoder_layer_4' (of type DecoderLayer) was passed an input with a mask attached to it. However, this layer does not support masking and will therefore destroy the mask information. Downstream layers will not see the mask.\n",
            "  warnings.warn(\n",
            "/usr/local/lib/python3.10/dist-packages/keras/src/layers/layer.py:915: UserWarning: Layer 'causal_self_attention_5' (of type CausalSelfAttention) was passed an input with a mask attached to it. However, this layer does not support masking and will therefore destroy the mask information. Downstream layers will not see the mask.\n",
            "  warnings.warn(\n",
            "/usr/local/lib/python3.10/dist-packages/keras/src/layers/layer.py:915: UserWarning: Layer 'cross_attention_5' (of type CrossAttention) was passed an input with a mask attached to it. However, this layer does not support masking and will therefore destroy the mask information. Downstream layers will not see the mask.\n",
            "  warnings.warn(\n",
            "/usr/local/lib/python3.10/dist-packages/keras/src/layers/layer.py:915: UserWarning: Layer 'sequential_13' (of type Sequential) was passed an input with a mask attached to it. However, this layer does not support masking and will therefore destroy the mask information. Downstream layers will not see the mask.\n",
            "  warnings.warn(\n",
            "/usr/local/lib/python3.10/dist-packages/keras/src/layers/layer.py:915: UserWarning: Layer 'feed_forward_13' (of type FeedForward) was passed an input with a mask attached to it. However, this layer does not support masking and will therefore destroy the mask information. Downstream layers will not see the mask.\n",
            "  warnings.warn(\n",
            "/usr/local/lib/python3.10/dist-packages/keras/src/layers/layer.py:915: UserWarning: Layer 'decoder_layer_5' (of type DecoderLayer) was passed an input with a mask attached to it. However, this layer does not support masking and will therefore destroy the mask information. Downstream layers will not see the mask.\n",
            "  warnings.warn(\n",
            "/usr/local/lib/python3.10/dist-packages/keras/src/layers/layer.py:915: UserWarning: Layer 'causal_self_attention_6' (of type CausalSelfAttention) was passed an input with a mask attached to it. However, this layer does not support masking and will therefore destroy the mask information. Downstream layers will not see the mask.\n",
            "  warnings.warn(\n",
            "/usr/local/lib/python3.10/dist-packages/keras/src/layers/layer.py:915: UserWarning: Layer 'cross_attention_6' (of type CrossAttention) was passed an input with a mask attached to it. However, this layer does not support masking and will therefore destroy the mask information. Downstream layers will not see the mask.\n",
            "  warnings.warn(\n",
            "/usr/local/lib/python3.10/dist-packages/keras/src/layers/layer.py:915: UserWarning: Layer 'sequential_14' (of type Sequential) was passed an input with a mask attached to it. However, this layer does not support masking and will therefore destroy the mask information. Downstream layers will not see the mask.\n",
            "  warnings.warn(\n",
            "/usr/local/lib/python3.10/dist-packages/keras/src/layers/layer.py:915: UserWarning: Layer 'feed_forward_14' (of type FeedForward) was passed an input with a mask attached to it. However, this layer does not support masking and will therefore destroy the mask information. Downstream layers will not see the mask.\n",
            "  warnings.warn(\n",
            "/usr/local/lib/python3.10/dist-packages/keras/src/layers/layer.py:915: UserWarning: Layer 'decoder_layer_6' (of type DecoderLayer) was passed an input with a mask attached to it. However, this layer does not support masking and will therefore destroy the mask information. Downstream layers will not see the mask.\n",
            "  warnings.warn(\n",
            "/usr/local/lib/python3.10/dist-packages/keras/src/layers/layer.py:915: UserWarning: Layer 'causal_self_attention_7' (of type CausalSelfAttention) was passed an input with a mask attached to it. However, this layer does not support masking and will therefore destroy the mask information. Downstream layers will not see the mask.\n",
            "  warnings.warn(\n",
            "/usr/local/lib/python3.10/dist-packages/keras/src/layers/layer.py:915: UserWarning: Layer 'cross_attention_7' (of type CrossAttention) was passed an input with a mask attached to it. However, this layer does not support masking and will therefore destroy the mask information. Downstream layers will not see the mask.\n",
            "  warnings.warn(\n",
            "/usr/local/lib/python3.10/dist-packages/keras/src/layers/layer.py:915: UserWarning: Layer 'sequential_15' (of type Sequential) was passed an input with a mask attached to it. However, this layer does not support masking and will therefore destroy the mask information. Downstream layers will not see the mask.\n",
            "  warnings.warn(\n",
            "/usr/local/lib/python3.10/dist-packages/keras/src/layers/layer.py:915: UserWarning: Layer 'feed_forward_15' (of type FeedForward) was passed an input with a mask attached to it. However, this layer does not support masking and will therefore destroy the mask information. Downstream layers will not see the mask.\n",
            "  warnings.warn(\n",
            "/usr/local/lib/python3.10/dist-packages/keras/src/layers/layer.py:915: UserWarning: Layer 'decoder_layer_7' (of type DecoderLayer) was passed an input with a mask attached to it. However, this layer does not support masking and will therefore destroy the mask information. Downstream layers will not see the mask.\n",
            "  warnings.warn(\n"
          ]
        },
        {
          "output_type": "stream",
          "name": "stdout",
          "text": [
            "\u001b[1m37/37\u001b[0m \u001b[32m━━━━━━━━━━━━━━━━━━━━\u001b[0m\u001b[37m\u001b[0m \u001b[1m117s\u001b[0m 2s/step - loss: 8.5427 - masked_accuracy: 0.0013 - val_loss: 8.4319 - val_masked_accuracy: 0.0330\n",
            "Epoch 2/30\n",
            "\u001b[1m37/37\u001b[0m \u001b[32m━━━━━━━━━━━━━━━━━━━━\u001b[0m\u001b[37m\u001b[0m \u001b[1m76s\u001b[0m 520ms/step - loss: 8.3804 - masked_accuracy: 0.0415 - val_loss: 8.2591 - val_masked_accuracy: 0.0449\n",
            "Epoch 3/30\n",
            "\u001b[1m37/37\u001b[0m \u001b[32m━━━━━━━━━━━━━━━━━━━━\u001b[0m\u001b[37m\u001b[0m \u001b[1m21s\u001b[0m 559ms/step - loss: 8.2132 - masked_accuracy: 0.0417 - val_loss: 8.0822 - val_masked_accuracy: 0.0480\n",
            "Epoch 4/30\n",
            "\u001b[1m37/37\u001b[0m \u001b[32m━━━━━━━━━━━━━━━━━━━━\u001b[0m\u001b[37m\u001b[0m \u001b[1m41s\u001b[0m 548ms/step - loss: 8.0175 - masked_accuracy: 0.0473 - val_loss: 7.8546 - val_masked_accuracy: 0.0453\n",
            "Epoch 5/30\n",
            "\u001b[1m37/37\u001b[0m \u001b[32m━━━━━━━━━━━━━━━━━━━━\u001b[0m\u001b[37m\u001b[0m \u001b[1m21s\u001b[0m 564ms/step - loss: 7.7666 - masked_accuracy: 0.0460 - val_loss: 7.5768 - val_masked_accuracy: 0.0495\n",
            "Epoch 6/30\n",
            "\u001b[1m37/37\u001b[0m \u001b[32m━━━━━━━━━━━━━━━━━━━━\u001b[0m\u001b[37m\u001b[0m \u001b[1m41s\u001b[0m 571ms/step - loss: 7.4784 - masked_accuracy: 0.0516 - val_loss: 7.2759 - val_masked_accuracy: 0.0664\n",
            "Epoch 7/30\n",
            "\u001b[1m37/37\u001b[0m \u001b[32m━━━━━━━━━━━━━━━━━━━━\u001b[0m\u001b[37m\u001b[0m \u001b[1m22s\u001b[0m 594ms/step - loss: 7.1697 - masked_accuracy: 0.0701 - val_loss: 6.9675 - val_masked_accuracy: 0.0842\n",
            "Epoch 8/30\n",
            "\u001b[1m37/37\u001b[0m \u001b[32m━━━━━━━━━━━━━━━━━━━━\u001b[0m\u001b[37m\u001b[0m \u001b[1m22s\u001b[0m 585ms/step - loss: 6.8453 - masked_accuracy: 0.0880 - val_loss: 6.6653 - val_masked_accuracy: 0.1082\n",
            "Epoch 9/30\n",
            "\u001b[1m37/37\u001b[0m \u001b[32m━━━━━━━━━━━━━━━━━━━━\u001b[0m\u001b[37m\u001b[0m \u001b[1m41s\u001b[0m 573ms/step - loss: 6.5401 - masked_accuracy: 0.1134 - val_loss: 6.3784 - val_masked_accuracy: 0.1358\n",
            "Epoch 10/30\n",
            "\u001b[1m37/37\u001b[0m \u001b[32m━━━━━━━━━━━━━━━━━━━━\u001b[0m\u001b[37m\u001b[0m \u001b[1m42s\u001b[0m 613ms/step - loss: 6.2239 - masked_accuracy: 0.1479 - val_loss: 6.0898 - val_masked_accuracy: 0.1683\n",
            "Epoch 11/30\n",
            "\u001b[1m37/37\u001b[0m \u001b[32m━━━━━━━━━━━━━━━━━━━━\u001b[0m\u001b[37m\u001b[0m \u001b[1m22s\u001b[0m 587ms/step - loss: 5.9434 - masked_accuracy: 0.1804 - val_loss: 5.7963 - val_masked_accuracy: 0.2166\n",
            "Epoch 12/30\n",
            "\u001b[1m37/37\u001b[0m \u001b[32m━━━━━━━━━━━━━━━━━━━━\u001b[0m\u001b[37m\u001b[0m \u001b[1m21s\u001b[0m 565ms/step - loss: 5.6182 - masked_accuracy: 0.2214 - val_loss: 5.4791 - val_masked_accuracy: 0.2348\n",
            "Epoch 13/30\n",
            "\u001b[1m37/37\u001b[0m \u001b[32m━━━━━━━━━━━━━━━━━━━━\u001b[0m\u001b[37m\u001b[0m \u001b[1m22s\u001b[0m 592ms/step - loss: 5.2911 - masked_accuracy: 0.2681 - val_loss: 5.1674 - val_masked_accuracy: 0.2894\n",
            "Epoch 14/30\n",
            "\u001b[1m37/37\u001b[0m \u001b[32m━━━━━━━━━━━━━━━━━━━━\u001b[0m\u001b[37m\u001b[0m \u001b[1m22s\u001b[0m 595ms/step - loss: 4.9739 - masked_accuracy: 0.3023 - val_loss: 4.8553 - val_masked_accuracy: 0.3316\n",
            "Epoch 15/30\n",
            "\u001b[1m37/37\u001b[0m \u001b[32m━━━━━━━━━━━━━━━━━━━━\u001b[0m\u001b[37m\u001b[0m \u001b[1m41s\u001b[0m 582ms/step - loss: 4.5788 - masked_accuracy: 0.3570 - val_loss: 4.5059 - val_masked_accuracy: 0.3595\n",
            "Epoch 16/30\n",
            "\u001b[1m37/37\u001b[0m \u001b[32m━━━━━━━━━━━━━━━━━━━━\u001b[0m\u001b[37m\u001b[0m \u001b[1m23s\u001b[0m 623ms/step - loss: 4.2522 - masked_accuracy: 0.3944 - val_loss: 4.1882 - val_masked_accuracy: 0.4001\n",
            "Epoch 17/30\n",
            "\u001b[1m37/37\u001b[0m \u001b[32m━━━━━━━━━━━━━━━━━━━━\u001b[0m\u001b[37m\u001b[0m \u001b[1m39s\u001b[0m 581ms/step - loss: 3.9374 - masked_accuracy: 0.4289 - val_loss: 3.8623 - val_masked_accuracy: 0.4505\n",
            "Epoch 18/30\n",
            "\u001b[1m37/37\u001b[0m \u001b[32m━━━━━━━━━━━━━━━━━━━━\u001b[0m\u001b[37m\u001b[0m \u001b[1m44s\u001b[0m 672ms/step - loss: 3.4770 - masked_accuracy: 0.4896 - val_loss: 3.5614 - val_masked_accuracy: 0.4609\n",
            "Epoch 19/30\n",
            "\u001b[1m37/37\u001b[0m \u001b[32m━━━━━━━━━━━━━━━━━━━━\u001b[0m\u001b[37m\u001b[0m \u001b[1m37s\u001b[0m 569ms/step - loss: 3.2137 - masked_accuracy: 0.5229 - val_loss: 3.2631 - val_masked_accuracy: 0.5277\n",
            "Epoch 20/30\n",
            "\u001b[1m37/37\u001b[0m \u001b[32m━━━━━━━━━━━━━━━━━━━━\u001b[0m\u001b[37m\u001b[0m \u001b[1m23s\u001b[0m 620ms/step - loss: 2.8284 - masked_accuracy: 0.5759 - val_loss: 2.9799 - val_masked_accuracy: 0.5473\n",
            "Epoch 21/30\n",
            "\u001b[1m37/37\u001b[0m \u001b[32m━━━━━━━━━━━━━━━━━━━━\u001b[0m\u001b[37m\u001b[0m \u001b[1m40s\u001b[0m 587ms/step - loss: 2.5157 - masked_accuracy: 0.6192 - val_loss: 2.7356 - val_masked_accuracy: 0.5830\n",
            "Epoch 22/30\n",
            "\u001b[1m37/37\u001b[0m \u001b[32m━━━━━━━━━━━━━━━━━━━━\u001b[0m\u001b[37m\u001b[0m \u001b[1m24s\u001b[0m 640ms/step - loss: 2.3017 - masked_accuracy: 0.6510 - val_loss: 2.5080 - val_masked_accuracy: 0.6315\n",
            "Epoch 23/30\n",
            "\u001b[1m37/37\u001b[0m \u001b[32m━━━━━━━━━━━━━━━━━━━━\u001b[0m\u001b[37m\u001b[0m \u001b[1m38s\u001b[0m 569ms/step - loss: 1.9841 - masked_accuracy: 0.7013 - val_loss: 2.2920 - val_masked_accuracy: 0.6589\n",
            "Epoch 24/30\n",
            "\u001b[1m37/37\u001b[0m \u001b[32m━━━━━━━━━━━━━━━━━━━━\u001b[0m\u001b[37m\u001b[0m \u001b[1m23s\u001b[0m 624ms/step - loss: 1.7553 - masked_accuracy: 0.7373 - val_loss: 2.1162 - val_masked_accuracy: 0.6967\n",
            "Epoch 25/30\n",
            "\u001b[1m37/37\u001b[0m \u001b[32m━━━━━━━━━━━━━━━━━━━━\u001b[0m\u001b[37m\u001b[0m \u001b[1m22s\u001b[0m 585ms/step - loss: 1.5357 - masked_accuracy: 0.7742 - val_loss: 1.9376 - val_masked_accuracy: 0.7309\n",
            "Epoch 26/30\n",
            "\u001b[1m37/37\u001b[0m \u001b[32m━━━━━━━━━━━━━━━━━━━━\u001b[0m\u001b[37m\u001b[0m \u001b[1m21s\u001b[0m 565ms/step - loss: 1.3895 - masked_accuracy: 0.7944 - val_loss: 1.8123 - val_masked_accuracy: 0.7316\n",
            "Epoch 27/30\n",
            "\u001b[1m37/37\u001b[0m \u001b[32m━━━━━━━━━━━━━━━━━━━━\u001b[0m\u001b[37m\u001b[0m \u001b[1m21s\u001b[0m 581ms/step - loss: 1.1871 - masked_accuracy: 0.8226 - val_loss: 1.6839 - val_masked_accuracy: 0.7628\n",
            "Epoch 28/30\n",
            "\u001b[1m37/37\u001b[0m \u001b[32m━━━━━━━━━━━━━━━━━━━━\u001b[0m\u001b[37m\u001b[0m \u001b[1m42s\u001b[0m 598ms/step - loss: 1.0603 - masked_accuracy: 0.8413 - val_loss: 1.5352 - val_masked_accuracy: 0.7910\n",
            "Epoch 29/30\n",
            "\u001b[1m37/37\u001b[0m \u001b[32m━━━━━━━━━━━━━━━━━━━━\u001b[0m\u001b[37m\u001b[0m \u001b[1m23s\u001b[0m 613ms/step - loss: 0.8943 - masked_accuracy: 0.8672 - val_loss: 1.4226 - val_masked_accuracy: 0.8088\n",
            "Epoch 30/30\n",
            "\u001b[1m37/37\u001b[0m \u001b[32m━━━━━━━━━━━━━━━━━━━━\u001b[0m\u001b[37m\u001b[0m \u001b[1m39s\u001b[0m 564ms/step - loss: 0.8128 - masked_accuracy: 0.8791 - val_loss: 1.3656 - val_masked_accuracy: 0.7856\n"
          ]
        },
        {
          "output_type": "execute_result",
          "data": {
            "text/plain": [
              "<keras.src.callbacks.history.History at 0x7c5793b9d930>"
            ]
          },
          "metadata": {},
          "execution_count": 72
        }
      ],
      "source": [
        "transformer.fit(train_batches,\n",
        "                epochs=30,\n",
        "                validation_data=val_batches)"
      ]
    },
    {
      "cell_type": "code",
      "execution_count": 73,
      "metadata": {
        "id": "Gb5xNRGnDOMI"
      },
      "outputs": [],
      "source": [
        "class Spell_correction(tf.Module):\n",
        "  def __init__(self, tokenizers, transformer):\n",
        "    self.tokenizers = tokenizers\n",
        "    self.transformer = transformer\n",
        "\n",
        "  def __call__(self, sentence, max_length=MAX_TOKENS):\n",
        "    # print(sentence.shape)\n",
        "    # The input sentence is Portuguese, hence adding the `[START]` and `[END]` tokens.\n",
        "    # assert isinstance(sentence, tf.Tensor)\n",
        "    # if len(sentence.shape) == 0:\n",
        "    #   sentence = sentence[tf.newaxis]\n",
        "    x=self.tokenizers(sentence)\n",
        "    x_1=tf.keras.preprocessing.sequence.pad_sequences([x],maxlen=256 ,padding='post', value=vocab_to_int[\"<PAD>\"],truncating='post')\n",
        "\n",
        "    sentence =tf.convert_to_tensor( x_1,dtype=tf.int64)\n",
        "    encoder_input = sentence\n",
        "\n",
        "    # As the output language is English, initialize the output with the\n",
        "    # English `[START]` token.\n",
        "    # start_end = self.tokenizers.en.tokenize([''])[0]\n",
        "    # start = start_end[0][tf.newaxis]\n",
        "    # end = start_end[1][tf.newaxis]\n",
        "\n",
        "    list_temp=[]\n",
        "    list_temp.append(vocab_to_int['<sos>'])\n",
        "    start=tf.constant(list_temp,dtype=tf.int64)\n",
        "    list_temp=[]\n",
        "    list_temp.append(vocab_to_int['<eos>'])\n",
        "    end=tf.constant(list_temp,dtype=tf.int64)\n",
        "    # `tf.TensorArray` is required here (instead of a Python list), so that the\n",
        "    # dynamic-loop can be traced by `tf.function`.\n",
        "    output_array = tf.TensorArray(dtype=tf.int64, size=0, dynamic_size=True)\n",
        "    output_array = output_array.write(0, start)\n",
        "    # print(output_array.shape)\n",
        "    for i in tf.range(max_length):\n",
        "\n",
        "      output = tf.transpose(output_array.stack())\n",
        "      predictions = self.transformer([encoder_input, output], training=False)\n",
        "\n",
        "      # Select the last token from the `seq_len` dimension.\n",
        "      predictions = predictions[:, -1:, :]  # Shape `(batch_size, 1, vocab_size)`.\n",
        "\n",
        "      predicted_id = tf.argmax(predictions, axis=-1)\n",
        "\n",
        "      # Concatenate the `predicted_id` to the output which is given to the\n",
        "      # decoder as its input.\n",
        "      output_array = output_array.write(i+1, predicted_id[0])\n",
        "\n",
        "      if predicted_id == end:\n",
        "        break\n",
        "\n",
        "    output = tf.transpose(output_array.stack())\n",
        "    # The output shape is `(1, tokens)`.\n",
        "    # text = tokenizers.en.detokenize(output)[0]  # Shape: `()`.\n",
        "\n",
        "    # tokens = tokenizers.en.lookup(output)[0]\n",
        "    text=detokenizer(output.numpy().tolist()[0])\n",
        "    # Return the tokens\n",
        "    tokens=[]\n",
        "    for num in output.numpy().tolist()[0]:\n",
        "      tokens.append(int_to_vocab[num])\n",
        "    # `tf.function` prevents us from using the attention_weights that were\n",
        "    # calculated on the last iteration of the loop.\n",
        "    # So, recalculate them outside the loop.\n",
        "    self.transformer([encoder_input, output[:,:-1]], training=False)\n",
        "    attention_weights = self.transformer.decoder.last_attn_scores\n",
        "\n",
        "    return text,tokens, attention_weights"
      ]
    },
    {
      "cell_type": "code",
      "source": [
        "def print_correction(sentence, tokens, ground_truth):\n",
        "  print(f'{\"Input:\":15s}: {sentence}')\n",
        "  print(f'{\"Prediction\":15s}: {tokens}')\n",
        "  print(f'{\"Ground truth\":15s}: {ground_truth}')"
      ],
      "metadata": {
        "id": "SgK2-hKmskuI"
      },
      "execution_count": 74,
      "outputs": []
    },
    {
      "cell_type": "code",
      "source": [
        "spell_corrector = Spell_correction(tokenizer, transformer)"
      ],
      "metadata": {
        "id": "ScPwxwE0Q4Yq"
      },
      "execution_count": 75,
      "outputs": []
    },
    {
      "cell_type": "code",
      "source": [
        "input= \"مدرس ها شرو وشود و زیادی بچها در مدرسه سپت نام کرنند .\"\n",
        "ground_truth=\"مدرس ها شرو وشود و زیادی بچه ها در مدرسه سپت نام کرنند .\"\n",
        "\n",
        "\n",
        "\n",
        "translated_text, translated_tokens, attention_weights = spell_corrector(\n",
        "    input)\n",
        "print_correction(input, translated_text, ground_truth)"
      ],
      "metadata": {
        "id": "WH5MtY9LPtiS",
        "colab": {
          "base_uri": "https://localhost:8080/"
        },
        "outputId": "b7a54338-1d7f-4568-ac0d-6a6fac6c1f76"
      },
      "execution_count": 76,
      "outputs": [
        {
          "output_type": "stream",
          "name": "stderr",
          "text": [
            "/usr/local/lib/python3.10/dist-packages/keras/src/ops/nn.py:545: UserWarning: You are using a softmax over axis 3 of a tensor of shape (1, 8, 1, 1). This axis has size 1. The softmax operation will always return the value 1, which is likely not what you intended. Did you mean to use a sigmoid instead?\n",
            "  warnings.warn(\n"
          ]
        },
        {
          "output_type": "stream",
          "name": "stdout",
          "text": [
            "Input:         : مدرس ها شرو وشود و زیادی بچها در مدرسه سپت نام کرنند .\n",
            "Prediction     : <sos> در کشورم برای من وقت و کمک پدربزرگ و ظهر برای تفریح و کمک کرد . <eos> \n",
            "Ground truth   : مدرس ها شرو وشود و زیادی بچه ها در مدرسه سپت نام کرنند .\n"
          ]
        }
      ]
    },
    {
      "cell_type": "code",
      "source": [
        "tf.config.run_functions_eagerly(True)"
      ],
      "metadata": {
        "id": "6NWlVkz9ZIp_"
      },
      "execution_count": 77,
      "outputs": []
    },
    {
      "cell_type": "code",
      "source": [
        "class ExportSpellCorrector(tf.Module):\n",
        "  def __init__(self, spell_corrector):\n",
        "    self.spell_corrector = spell_corrector\n",
        "\n",
        "  @tf.function\n",
        "  def __call__(self, sentence):\n",
        "    (result,\n",
        "     tokens,\n",
        "     attention_weights) = self.spell_corrector(sentence, max_length=MAX_TOKENS)\n",
        "\n",
        "    return result"
      ],
      "metadata": {
        "id": "51xovQiR_OG7"
      },
      "execution_count": 78,
      "outputs": []
    },
    {
      "cell_type": "code",
      "source": [
        "spell_corrector = ExportSpellCorrector(spell_corrector)"
      ],
      "metadata": {
        "id": "D5Bo29YdZ7_5"
      },
      "execution_count": 79,
      "outputs": []
    },
    {
      "cell_type": "code",
      "source": [
        "spell_corrector(\"سلام خوبی\")"
      ],
      "metadata": {
        "id": "B-MykFRas7eE",
        "colab": {
          "base_uri": "https://localhost:8080/",
          "height": 35
        },
        "outputId": "f93cf87e-e156-474b-d7e0-51a9f5c0e7b2"
      },
      "execution_count": 86,
      "outputs": [
        {
          "output_type": "execute_result",
          "data": {
            "text/plain": [
              "'<sos> سلام خوبی ؟ <eos> '"
            ],
            "application/vnd.google.colaboratory.intrinsic+json": {
              "type": "string"
            }
          },
          "metadata": {},
          "execution_count": 86
        }
      ]
    },
    {
      "cell_type": "code",
      "source": [
        "tf.saved_model.save(spell_corrector, export_dir='/content/drive/MyDrive/Spell_correction/saved_model/punctuation')"
      ],
      "metadata": {
        "id": "0NoD37yOs9qq"
      },
      "execution_count": 87,
      "outputs": []
    }
  ],
  "metadata": {
    "accelerator": "GPU",
    "colab": {
      "gpuType": "T4",
      "provenance": []
    },
    "kernelspec": {
      "display_name": "Python 3",
      "name": "python3"
    },
    "language_info": {
      "name": "python"
    }
  },
  "nbformat": 4,
  "nbformat_minor": 0
}